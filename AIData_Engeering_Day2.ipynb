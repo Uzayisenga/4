{
  "nbformat": 4,
  "nbformat_minor": 0,
  "metadata": {
    "colab": {
      "provenance": [],
      "authorship_tag": "ABX9TyMbFSzbWTBjJ0q6nVUYm5QQ",
      "include_colab_link": true
    },
    "kernelspec": {
      "name": "python3",
      "display_name": "Python 3"
    },
    "language_info": {
      "name": "python"
    }
  },
  "cells": [
    {
      "cell_type": "markdown",
      "metadata": {
        "id": "view-in-github",
        "colab_type": "text"
      },
      "source": [
        "<a href=\"https://colab.research.google.com/github/Uzayisenga/4/blob/master/AIData_Engeering_Day2.ipynb\" target=\"_parent\"><img src=\"https://colab.research.google.com/assets/colab-badge.svg\" alt=\"Open In Colab\"/></a>"
      ]
    },
    {
      "cell_type": "markdown",
      "source": [
        "### Setting Up GitHub for Beginners"
      ],
      "metadata": {
        "id": "xVZ52IOBB00f"
      }
    },
    {
      "cell_type": "markdown",
      "source": [
        "- **Title:** *Getting Started with GitHub*  \n",
        "- **Content:**  \n",
        "  1. **Sign up for GitHub:** Visit [github.com](https://github.com) and create an account.  \n",
        "  2. **Install Git:** Download and install Git from [git-scm.com](https://git-scm.com).  \n",
        "  3. **Connect GitHub with Git:** Use the following command in your terminal:  \n",
        "     ```bash\n",
        "     git config --global user.name \"Your Name\"\n",
        "     git config --global user.email \"youremail@example.com\"\n",
        "     ```  \n",
        "  4. **Create Your First Repository:**  \n",
        "     - Navigate to your GitHub dashboard.  \n",
        "     - Click \"New Repository.\"  \n",
        "     - Clone it to your local system.  \n",
        "\n",
        "- **Visuals:**  \n",
        "  - Screenshot of the GitHub signup page.  \n",
        "  - Example terminal showing Git configuration commands.  \n",
        "  - GitHub repository page interface.  \n"
      ],
      "metadata": {
        "id": "eFY-3qnRCCsx"
      }
    },
    {
      "cell_type": "markdown",
      "source": [
        "\n",
        "### Installing Python on Windows  \n",
        "- **Title:** *Install Python – Your AI Programming Language*  \n",
        "- **Content:**  \n",
        "  1. Download Python from [python.org](https://www.python.org).  \n",
        "  2. Choose the latest version and install.  \n",
        "  3. Check the box **\"Add Python to PATH\"** during installation.  \n",
        "  4. Verify installation by typing `python --version` in the command prompt.  \n",
        "  5. Install essential libraries using pip:  \n",
        "     ```bash\n",
        "     pip install numpy pandas matplotlib\n",
        "     ```  \n",
        "- **Visuals:**  \n",
        "  - Screenshot of Python.org download page.  \n",
        "  - Installation steps with highlights.  \n",
        "  - Example of a terminal verifying the Python version.\n"
      ],
      "metadata": {
        "id": "TyLF43L9Cau0"
      }
    },
    {
      "cell_type": "markdown",
      "source": [
        "---\n",
        "\n",
        "### **Slide 4: Using Jupyter Notebook**  \n",
        "- **Title:** *Exploring Jupyter Notebook*  \n",
        "- **Content:**  \n",
        "  1. Install Jupyter Notebook:  \n",
        "     ```bash\n",
        "     pip install notebook\n",
        "     ```  \n",
        "  2. Launch Jupyter Notebook:  \n",
        "     ```bash\n",
        "     jupyter notebook\n",
        "     ```  \n",
        "  3. Create a new Python notebook.  \n",
        "  4. Write your first code cell:  \n",
        "     ```python\n",
        "     print(\"Welcome to Jupyter!\")\n",
        "     ```  \n",
        "  5. Save your work and explore Markdown cells for documentation.  \n",
        "- **Visuals:**  \n",
        "  - Annotated screenshot of the Jupyter Notebook interface.  \n",
        "  - Example Markdown documentation.  \n",
        "\n",
        "---"
      ],
      "metadata": {
        "id": "YTMIsheqC1lA"
      }
    },
    {
      "cell_type": "markdown",
      "source": [
        "### **Popular Python Libraries**  \n",
        "\n",
        "1. **Data Analysis and Visualization**  \n",
        "   - **Pandas**: Data manipulation and analysis.  \n",
        "   - **Matplotlib & Seaborn**: Creating static, animated, and interactive visualizations.  \n",
        "   - **Plotly**: Interactive visualizations and dashboards.  \n",
        "\n",
        "2. **Machine Learning and AI**  \n",
        "   - **Scikit-learn**: Machine learning algorithms.  \n",
        "   - **TensorFlow & PyTorch**: Deep learning frameworks.  \n",
        "   - **Keras**: High-level API for neural networks.  \n",
        "\n",
        "\n",
        "3. **Scientific Computing**  \n",
        "   - **NumPy**: Numerical operations and array processing.  \n",
        "   - **SciPy**: Advanced scientific computations.  \n",
        "\n",
        "4. **Others**  \n",
        "   - **Requests**: Simplified HTTP requests.  \n",
        "   - **OpenCV**: Computer vision tasks.  \n",
        "   - **Pygame**: Game development.  \n"
      ],
      "metadata": {
        "id": "nPgdlFllD8Xg"
      }
    },
    {
      "cell_type": "code",
      "source": [
        "print(\"Welcome to Jupyter!\")"
      ],
      "metadata": {
        "colab": {
          "base_uri": "https://localhost:8080/"
        },
        "id": "XvZe4UMMQT41",
        "outputId": "afd872d2-51dc-4085-8002-e03263d24be9"
      },
      "execution_count": 1,
      "outputs": [
        {
          "output_type": "stream",
          "name": "stdout",
          "text": [
            "Welcome to Jupyter!\n"
          ]
        }
      ]
    },
    {
      "cell_type": "markdown",
      "source": [],
      "metadata": {
        "id": "wdJYvxXXQavy"
      }
    },
    {
      "cell_type": "markdown",
      "source": [],
      "metadata": {
        "id": "vF2aTPKsE1pJ"
      }
    }
  ]
}