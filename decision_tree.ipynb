{
  "nbformat": 4,
  "nbformat_minor": 0,
  "metadata": {
    "colab": {
      "provenance": [],
      "include_colab_link": true
    },
    "kernelspec": {
      "name": "python3",
      "display_name": "Python 3"
    },
    "language_info": {
      "name": "python"
    }
  },
  "cells": [
    {
      "cell_type": "markdown",
      "metadata": {
        "id": "view-in-github",
        "colab_type": "text"
      },
      "source": [
        "<a href=\"https://colab.research.google.com/github/Uzayisenga/4/blob/master/decision_tree.ipynb\" target=\"_parent\"><img src=\"https://colab.research.google.com/assets/colab-badge.svg\" alt=\"Open In Colab\"/></a>"
      ]
    },
    {
      "cell_type": "code",
      "execution_count": 6,
      "metadata": {
        "id": "RqfkfamV24Q0"
      },
      "outputs": [],
      "source": [
        "import numpy as np\n",
        "import matplotlib.pyplot as plt\n",
        "import statistics"
      ]
    },
    {
      "cell_type": "code",
      "source": [
        "from re import VERBOSE\n",
        "from numpy.lib.arraysetops import unique\n",
        "class ScratchDecesionTreeClassifierDepth1():\n",
        "    def __init__(self, min_samples_split=2, max_depth=100, n_feats=None):\n",
        "        self.min_samples_split = min_samples_split\n",
        "        self.max_depth = max_depth\n",
        "        self.n_feats = n_feats\n",
        "        # a root so that we can know where we started\n",
        "        self.root = None\n",
        "        \n",
        "    def fit(self, X,y):\n",
        "        # grow tree\n",
        "        # apply a safety check\n",
        "        self.n_feats = X.shape[1] if not self.n_feats else min(self.n_feats, X.shape[1])\n",
        "        self.root = self._grow_tree(X, y)\n",
        "        \n",
        "    # function to grow the tree\n",
        "    def _grow_tree(self, X, y, depth=0):\n",
        "        n_samples, n_features = X.shape\n",
        "        n_labels = len(np.unique(y))\n",
        "        # apply the stopping criteria of our growing tree\n",
        "        if(depth >= self.max_depth\n",
        "          or n_labels == 1\n",
        "          or n_samples < self.min_samples_split):\n",
        "            # if the condition is true that would mean that we are at the leaf node\n",
        "            # check for the common label in our node\n",
        "            leaf_value = self._most_common_label(y)\n",
        "            # use our class to store the node information\n",
        "            return Node(value=leaf_value)\n",
        "        \n",
        "        # if we did not meet the stopping criteria\n",
        "        feat_idxs = np.random.choice(n_features, self.n_feats,replace=False)\n",
        "        \n",
        "        # do a greedy search\n",
        "        best_feat, best_thresh = self._best_criteria(X, y, feat_idxs)\n",
        "        left_idxs, right_idxs = self._split(X[:,best_feat], best_thresh)\n",
        "        \n",
        "        # continue growing\n",
        "        left = self._grow_tree(X[left_idxs,:], y[left_idxs], depth+1)\n",
        "        right = self._grow_tree(X[right_idxs,:], y[right_idxs], depth+1)\n",
        "        \n",
        "        node = Node(best_feat, best_thresh, left, right)\n",
        "        return node\n",
        "\n",
        "    def _best_criteria(self, X, y, feat_idxs):\n",
        "        best_gain = -1\n",
        "        split_idxs, split_thresh = None, None\n",
        "        for feat_idx in feat_idxs:\n",
        "            X_column = X[:, feat_idx]\n",
        "            # lets go over all threshold\n",
        "            thresholds = np.unique(X_column)\n",
        "            for threshold in thresholds:\n",
        "                # calculating the information gain\n",
        "                gain = self._information_gain(y, X_column, threshold)\n",
        "                if gain > best_gain:\n",
        "                    best_gain = gain\n",
        "                    split_idx = feat_idx\n",
        "                    split_thresh = threshold\n",
        "        return split_idx, split_thresh\n",
        "    \n",
        "    # a function to calculate the information gain\n",
        "    def _information_gain(self, y, X_column, split_thresh):\n",
        "        # calculate the parent entropy\n",
        "        parent_gini = gini(y)\n",
        "        \n",
        "        # generate split\n",
        "        left_idxs, right_idxs = self._split(X_column, split_thresh)\n",
        "        \n",
        "        if len(left_idxs) == 0 or len(right_idxs)==0:\n",
        "            return 0\n",
        "\n",
        "        # calculate the weighted average child entropy\n",
        "        n = len(y)\n",
        "        n_l, n_r = len(left_idxs), len(right_idxs)\n",
        "        e_g, e_g = gini(y[left_idxs]), gini(y[right_idxs])\n",
        "        child_gini = (n_l/n) * e_g + (n_r/n) *e_g\n",
        "        \n",
        "        # calculating the information gain\n",
        "        ig = parent_gini - child_gini\n",
        "        return ig\n",
        "\n",
        "    def _split(self, X_column, split_thresh):\n",
        "        left_idxs = np.argwhere(X_column <= split_thresh).flatten()\n",
        "        right_idxs = np.argwhere(X_column > split_thresh).flatten()\n",
        "        return left_idxs, right_idxs\n",
        "    \n",
        "    def predict(self, X):\n",
        "        # traverse our tree\n",
        "        return np.array([self._traverse_tree(x, self.root) for x in X])\n",
        "    \n",
        "    # a function helper for prediction\n",
        "    def _traverse_tree(self, x, node):\n",
        "        # check for the stopping criteria\n",
        "        if node.is_leaf_node():\n",
        "            return node.value\n",
        "        # check if we go from left or right\n",
        "        if x[node.feature] <= node.threshold:\n",
        "            return self._traverse_tree(x, node.left)\n",
        "        return self._traverse_tree(x, node.right)\n",
        "    \n",
        "    # function to check the common label in our node\n",
        "    def _most_common_label(self, y):\n",
        "        # calculating the number of occurencies in y using counter\n",
        "        counter = Counter(y)\n",
        "        # getting the value of the most common label\n",
        "        most_common = counter.most_common(1)[0][0]\n",
        "        return most_common\n",
        "        "
      ],
      "metadata": {
        "id": "SH9_lQgXiosV"
      },
      "execution_count": 7,
      "outputs": []
    },
    {
      "cell_type": "code",
      "source": [
        "from matplotlib.colors import ListedColormap\n",
        "import matplotlib.patches as mpatches\n",
        "def decision_region(X,y,model,step=0.01,\n",
        "                    title='decision region',\n",
        "                    xlabel='xlabel',\n",
        "                    ylabel='ylabel',\n",
        "                    target_names=['versicolor', 'virginica']):\n",
        "    \n",
        "    # setting\n",
        "    scatter_color = ['red', 'blue']\n",
        "    contourf_color = ['pink', 'skyblue']\n",
        "    n_class = 2\n",
        "    mesh_f0, mesh_f1  = np.meshgrid(np.arange(np.min(X[:,0])-0.5, np.max(X[:,0])+0.5, step), np.arange(np.min(X[:,1])-0.5, np.max(X[:,1])+0.5, step))\n",
        "    mesh = np.c_[np.ravel(mesh_f0),np.ravel(mesh_f1)]\n",
        "    y_pred = model.predict(mesh).reshape(mesh_f0.shape)\n",
        "    \n",
        "    # plot\n",
        "    plt.title(title)\n",
        "    plt.xlabel(xlabel)\n",
        "    plt.ylabel(ylabel)\n",
        "    plt.contourf(mesh_f0, mesh_f1, y_pred, n_class-1, cmap=ListedColormap(contourf_color))\n",
        "    plt.contour(mesh_f0, mesh_f1, y_pred, n_class-1, colors='y', linewidths=3, alpha=0.5)\n",
        "    for i, target in enumerate(set(y)):\n",
        "        plt.scatter(X[y==target][:, 0], X[y==target][:, 1], s=80, color=scatter_color[i], label=target_names[i], marker='o')\n",
        "    patches = [mpatches.Patch(color=scatter_color[i], label=target_names[i]) for i in range(n_class)]\n",
        "    plt.legend(handles=patches)\n",
        "    plt.legend()\n",
        "    plt.show()"
      ],
      "metadata": {
        "id": "rqrnUdxkioxW"
      },
      "execution_count": 8,
      "outputs": []
    },
    {
      "cell_type": "code",
      "source": [
        "X=np.array([0,2,1,-1,4])\n",
        "y=np.array([0,0,0,1,1])\n",
        "\n",
        "threshold_value=np.unique(X)\n",
        "print('threshold_value',threshold_value)"
      ],
      "metadata": {
        "colab": {
          "base_uri": "https://localhost:8080/"
        },
        "id": "XWMxsWw3yCVF",
        "outputId": "430c686c-46bd-460b-d15b-97b59d34acb2"
      },
      "execution_count": 9,
      "outputs": [
        {
          "output_type": "stream",
          "name": "stdout",
          "text": [
            "threshold_value [-1  0  1  2  4]\n"
          ]
        }
      ]
    },
    {
      "cell_type": "code",
      "source": [
        "u,counts=np.unique(y,return_counts=True)\n",
        "print('unique',u,'unique_counts',counts)\n"
      ],
      "metadata": {
        "colab": {
          "base_uri": "https://localhost:8080/"
        },
        "id": "LVfyXsely-OC",
        "outputId": "5d050481-003d-4ae8-8b0b-32db58407124"
      },
      "execution_count": 10,
      "outputs": [
        {
          "output_type": "stream",
          "name": "stdout",
          "text": [
            "unique [0 1] unique_counts [3 2]\n"
          ]
        }
      ]
    },
    {
      "cell_type": "code",
      "source": [
        "def _gini(X):\n",
        "    unique,count= np.unique(X, return_counts=True)\n",
        "    tmp=0\n",
        "    for i in unique:\n",
        "        tmp+=(count[unique==i]/np.sum(count))**2\n",
        "    return 1-tmp"
      ],
      "metadata": {
        "id": "llSxYvm8zv4j"
      },
      "execution_count": 11,
      "outputs": []
    },
    {
      "cell_type": "code",
      "source": [
        "for i in threshold_value[1:]:\n",
        "               c1=y[X <i]\n",
        "               c2=y[X >=i]\n",
        "\n",
        "\n",
        "               print(i,'c1',c1,'c2',c2)\n",
        "               print(i,'gini_left:',_gini(c1),'gini_right:',_gini(c2))"
      ],
      "metadata": {
        "colab": {
          "base_uri": "https://localhost:8080/"
        },
        "id": "hCSIeKGj0TBT",
        "outputId": "6a15f6e7-e785-40cc-8920-b45f81b37821"
      },
      "execution_count": 12,
      "outputs": [
        {
          "output_type": "stream",
          "name": "stdout",
          "text": [
            "0 c1 [1] c2 [0 0 0 1]\n",
            "0 gini_left: [0.] gini_right: [0.375]\n",
            "1 c1 [0 1] c2 [0 0 1]\n",
            "1 gini_left: [0.5] gini_right: [0.44444444]\n",
            "2 c1 [0 0 1] c2 [0 1]\n",
            "2 gini_left: [0.44444444] gini_right: [0.5]\n",
            "4 c1 [0 0 0 1] c2 [1]\n",
            "4 gini_left: [0.375] gini_right: [0.]\n"
          ]
        }
      ]
    },
    {
      "cell_type": "code",
      "source": [
        "for i in threshold_value[1:]:\n",
        "               c1=y[X <i]\n",
        "               c2=y[X >=i]\n",
        "               left=len(c1)/(len(c1)+len(c2))*_gini(c1)\n",
        "               right=len(c2)/(len(c1)+len(c2))*_gini(c2)\n",
        "               gain=_gini(X)-left-right\n",
        "               print(i,gain)\n"
      ],
      "metadata": {
        "colab": {
          "base_uri": "https://localhost:8080/"
        },
        "id": "F6Xz4WYv3xkk",
        "outputId": "e1c2f21e-2b8f-4d31-d9fa-65d797d3b1ce"
      },
      "execution_count": 13,
      "outputs": [
        {
          "output_type": "stream",
          "name": "stdout",
          "text": [
            "0 [0.5]\n",
            "1 [0.33333333]\n",
            "2 [0.33333333]\n",
            "4 [0.5]\n"
          ]
        }
      ]
    },
    {
      "cell_type": "code",
      "source": [
        "X=np.array([[-0.44699,-2.807],[-1.4621,-2.4586],\n",
        "            [0.10645,1.9242],[-3.5944,-4.0112],\n",
        "            [0.9888,4.5718],[-3.1625,-3.9606],\n",
        "            [0.56421,0.72888],[-0.60216,8.4636],\n",
        "            [-0.61251,-0.75345],[-0.73535,-2.2718],\n",
        "            [-0.80647,-2.2135],[0.86291,2.5946],\n",
        "            [-3.11108,0.15394],[-2.9362,2.5462],\n",
        "            [-0.57242,-2.9915],[1.4771,3.4896],\n",
        "            [-0.58619,0.37158],[0.6017,4.3439],\n",
        "            [-2.1086,8.3428],[-410113,-4.353],\n",
        "            [-1.9948,-1.3927],[0.35084,-0.031994],\n",
        "            [0.96765,7.8929],[-1.281,15.6824],\n",
        "            [0.96765,10.083],[1.3763,1.3347],\n",
        "            [-2.3234,-2.5323],[-2.9452,-1.8219],\n",
        "            [0.14654,-0.28733],[0.5461,5.8245],\n",
        "            [-0.65259,9.3444],[0.59912,5.3524],\n",
        "            [0.50214,-0.31818],[-3.0603,-3.6461],\n",
        "            [-6.6797,0.67661],[-2.353,-0.72261],\n",
        "            [1.1319,2.4023],[-0.12243,9.0162],\n",
        "            [-2.5677,13.1779],[0.057313,5.4681]\n",
        "            ])\n",
        "y=np.array([0,0,0,0,0,0,0,0,0,0,0,0,0,0,0,0,0,0,0,0,\n",
        "            1,1,1,1,1,1,1,1,1,1,1,1,1,1,1,1,1,1,1,1])"
      ],
      "metadata": {
        "id": "61rkvlKh4ppX"
      },
      "execution_count": 14,
      "outputs": []
    },
    {
      "cell_type": "code",
      "source": [
        "fig=plt.subplots(figsize=(12,8))\n",
        "plt.rcParams[\"font.size\"]=20\n",
        "plt.scatter(X[y==1,0] ,X[y==1,1],s=80,label='y=1')\n",
        "plt.scatter(X[y==0,0] ,X[y==0,1],s=80,label='y=0')\n",
        "plt.legend();"
      ],
      "metadata": {
        "colab": {
          "base_uri": "https://localhost:8080/",
          "height": 492
        },
        "id": "cUh84ZjqP1Oo",
        "outputId": "3faa8564-6546-449b-cef3-09df789cc979"
      },
      "execution_count": 15,
      "outputs": [
        {
          "output_type": "display_data",
          "data": {
            "text/plain": [
              "<Figure size 864x576 with 1 Axes>"
            ],
            "image/png": "[encoded data removed]"
          },
          "metadata": {
            "needs_background": "light"
          }
        }
      ]
    },
    {
      "cell_type": "code",
      "source": [
        "from sklearn.model_selection  import train_test_split\n",
        "X_train,X_valid,y_train,y_valid=\\\n",
        "train_test_split(X,y,train_size=0.8,random_state=None)\n",
        "\n",
        "print(X_train.shape)\n",
        "print(y_train.shape)\n",
        "print(X_valid.shape)\n",
        "print(y_valid.shape)"
      ],
      "metadata": {
        "colab": {
          "base_uri": "https://localhost:8080/"
        },
        "id": "GjVabTouRY5v",
        "outputId": "0fffd5ea-1b79-4c94-d941-4c1ec1a585f9"
      },
      "execution_count": 16,
      "outputs": [
        {
          "output_type": "stream",
          "name": "stdout",
          "text": [
            "(32, 2)\n",
            "(32,)\n",
            "(8, 2)\n",
            "(8,)\n"
          ]
        }
      ]
    },
    {
      "cell_type": "code",
      "source": [
        "X_train, X_test, y_train, y_test = train_test_split(X, y, test_size=0.33, random_state=42)"
      ],
      "metadata": {
        "id": "XSQC2Ce3GzxZ"
      },
      "execution_count": 17,
      "outputs": []
    },
    {
      "cell_type": "code",
      "source": [
        "# entropy function as a global function\n",
        "def entropy(y):\n",
        "    # calculate the number of occurences of all class labels\n",
        "    hist = np.bincount(y)\n",
        "    ps = hist/ len(y)\n",
        "    # apply the formula for entropy\n",
        "    return -np.sum([p*np.log2(p) for p in ps if p>0])\n",
        "\n",
        "# gini as a global function\n",
        "def gini(y):\n",
        "    unique,count = np.unique(y,return_counts=True)\n",
        "    tmp = 0\n",
        "    for i in unique:\n",
        "        tmp += (count[unique==i]/np.sum(count))**2\n",
        "    return 1-tmp\n",
        "\n",
        "# a helper class to store information of the node\n",
        "class Node:\n",
        "    def __init__(self, feature=None, threshold=None,left=None,right=None,*,value=None):\n",
        "        self.feature = feature\n",
        "        self.threshold = threshold\n",
        "        self.left = left\n",
        "        self.right = right\n",
        "        self.value = value\n",
        "    \n",
        "    # a helper function to determine if we are at the leafnode\n",
        "    def is_leaf_node(self):\n",
        "        return self.value is not None"
      ],
      "metadata": {
        "id": "erssfNrzHV2a"
      },
      "execution_count": 19,
      "outputs": []
    },
    {
      "cell_type": "code",
      "source": [
        "from collections import Counter"
      ],
      "metadata": {
        "id": "VjsFhomCHhPH"
      },
      "execution_count": 25,
      "outputs": []
    },
    {
      "cell_type": "code",
      "source": [
        "    def _most_common_label(self, y):\n",
        "        # calculating the number of occurencies in y using counter\n",
        "        counter = Counter(y)\n",
        "        # getting the value of the most common label\n",
        "        most_common = counter.most_common(1)[0][0]\n",
        "        return most_common"
      ],
      "metadata": {
        "id": "cfFZ_jdhH-iT"
      },
      "execution_count": 26,
      "outputs": []
    },
    {
      "cell_type": "code",
      "source": [
        "clf1 = ScratchDecesionTreeClassifierDepth1(max_depth=2)\n",
        "clf1.fit(X_train,y_train)\n",
        "  "
      ],
      "metadata": {
        "id": "ReHz5NR6Tfcq"
      },
      "execution_count": 27,
      "outputs": []
    },
    {
      "cell_type": "code",
      "source": [
        "y_pred = clf1.predict(X_test)"
      ],
      "metadata": {
        "id": "eCUi3_frT1Lj"
      },
      "execution_count": 28,
      "outputs": []
    },
    {
      "cell_type": "code",
      "source": [
        "print(y_pred)\n",
        "print(X_valid)"
      ],
      "metadata": {
        "id": "jXUxrVd0Xbji",
        "outputId": "c8fc8249-3842-408f-914d-02de5a6f8f29",
        "colab": {
          "base_uri": "https://localhost:8080/"
        }
      },
      "execution_count": 29,
      "outputs": [
        {
          "output_type": "stream",
          "name": "stdout",
          "text": [
            "[1 1 1 1 1 1 1 1 1 1 1 1 1 1]\n",
            "[[ 0.86291   2.5946  ]\n",
            " [-0.73535  -2.2718  ]\n",
            " [-1.281    15.6824  ]\n",
            " [-2.1086    8.3428  ]\n",
            " [ 0.6017    4.3439  ]\n",
            " [ 0.35084  -0.031994]\n",
            " [-2.5677   13.1779  ]\n",
            " [-0.65259   9.3444  ]]\n"
          ]
        }
      ]
    },
    {
      "cell_type": "code",
      "source": [
        "X.shape[0] != y.shape[0]"
      ],
      "metadata": {
        "id": "ORlfeUJ7Js10",
        "outputId": "4f1dea09-855b-41d5-8f59-878961eedfde",
        "colab": {
          "base_uri": "https://localhost:8080/"
        }
      },
      "execution_count": 40,
      "outputs": [
        {
          "output_type": "execute_result",
          "data": {
            "text/plain": [
              "True"
            ]
          },
          "metadata": {},
          "execution_count": 40
        }
      ]
    },
    {
      "cell_type": "code",
      "source": [
        "X = X.transpose()"
      ],
      "metadata": {
        "id": "m4oi9k3lJzRW"
      },
      "execution_count": 41,
      "outputs": []
    },
    {
      "cell_type": "code",
      "source": [
        "y_pred = clf1.predict(X_test)"
      ],
      "metadata": {
        "id": "0lAzzvGsKiQH"
      },
      "execution_count": 47,
      "outputs": []
    },
    {
      "cell_type": "code",
      "source": [
        "accuracy = accuracy_score(y_test, y_pred)\n",
        "precision = precision_score(y_test, y_pred)\n",
        "recall = recall_score(y_test, y_pred)\n",
        "f1 = f1_score(y_test, y_pred)\n",
        "\n",
        "print('accuracy',accuracy)\n",
        "print('precision',precision)\n",
        "print('recall',recall)\n",
        "print('f1',f1)"
      ],
      "metadata": {
        "id": "nYT4x8AmKB_O",
        "outputId": "0f81fb8e-cedc-49da-b257-5dd647433bee",
        "colab": {
          "base_uri": "https://localhost:8080/"
        }
      },
      "execution_count": 48,
      "outputs": [
        {
          "output_type": "stream",
          "name": "stdout",
          "text": [
            "accuracy 0.42857142857142855\n",
            "precision 0.42857142857142855\n",
            "recall 1.0\n",
            "f1 0.6\n"
          ]
        }
      ]
    },
    {
      "cell_type": "code",
      "source": [
        "clf_2 = ScratchDecesionTreeClassifierDepth1(max_depth=10)\n",
        "clf_2.fit(X_train[:,:2], y_train)"
      ],
      "metadata": {
        "id": "BYHGAWx_LACA"
      },
      "execution_count": 51,
      "outputs": []
    },
    {
      "cell_type": "code",
      "source": [
        "from sklearn.model_selection import train_test_split\n",
        "# Visualise the decision area\n",
        "def decision_region(X, y, model, step=0.01, title='decision region', xlabel='xlabel', ylabel='ylabel', target_names=['versicolor', 'virginica']):\n",
        "    # setting\n",
        "    scatter_color = ['red', 'blue']\n",
        "    contourf_color = ['pink', 'skyblue']\n",
        "    n_class = 2\n",
        "    # pred\n",
        "    mesh_f0, mesh_f1  = np.meshgrid(np.arange(np.min(X[:,0])-0.5, np.max(X[:,0])+0.5, step), np.arange(np.min(X[:,1])-0.5, np.max(X[:,1])+0.5, step))\n",
        "    mesh = np.c_[np.ravel(mesh_f0),np.ravel(mesh_f1)]\n",
        "    y_pred = model.predict(mesh).reshape(mesh_f0.shape)\n",
        "    # plot\n",
        "    plt.title(title)\n",
        "    plt.xlabel(xlabel)\n",
        "    plt.ylabel(ylabel)\n",
        "    plt.contourf(mesh_f0, mesh_f1, y_pred, n_class-1, cmap=ListedColormap(contourf_color))\n",
        "    plt.contour(mesh_f0, mesh_f1, y_pred, n_class-1, colors='y', linewidths=3, alpha=0.5)\n",
        "    for i, target in enumerate(set(y)):\n",
        "        plt.scatter(X[y==target][:, 0], X[y==target][:, 1], s=80, color=scatter_color[i], label=target_names[i], marker='o')\n",
        "    patches = [mpatches.Patch(color=scatter_color[i], label=target_names[i]) for i in range(n_class)]\n",
        "    plt.legend(handles=patches)\n",
        "    plt.legend()\n",
        "    plt.show()\n",
        "    \n",
        "decision_region(X_train[:,:2],y_train,clf_2,title='Train',target_names=['0', ' 1'])"
      ],
      "metadata": {
        "id": "TOOV3p-NFwkX",
        "outputId": "98ce49f3-653b-4ec6-b5b4-4131287ee354",
        "colab": {
          "base_uri": "https://localhost:8080/",
          "height": 322
        }
      },
      "execution_count": 52,
      "outputs": [
        {
          "output_type": "display_data",
          "data": {
            "text/plain": [
              "<Figure size 432x288 with 1 Axes>"
            ],
            "image/png": "[encoded data removed]"
          },
          "metadata": {
            "needs_background": "light"
          }
        }
      ]
    },
    {
      "cell_type": "code",
      "source": [
        "import matplotlib.pyplot as plt\n",
        "from matplotlib.colors import ListedColormap\n",
        "import matplotlib.patches as mpatches\n",
        "fit,ax=plt.subplots(figsize=(12,12))\n",
        "plt.rcParams[\"font.size\"]=20\n",
        "decision_region(X_train,y_train,clf1,title='TRAIN')"
      ],
      "metadata": {
        "id": "2ZxAN5NiYNPu",
        "outputId": "4f9a2eee-4001-4e03-dd97-dc106baf4a6e",
        "colab": {
          "base_uri": "https://localhost:8080/",
          "height": 757
        }
      },
      "execution_count": 55,
      "outputs": [
        {
          "output_type": "display_data",
          "data": {
            "text/plain": [
              "<Figure size 864x864 with 1 Axes>"
            ],
            "image/png": "[encoded data removed]"
          },
          "metadata": {
            "needs_background": "light"
          }
        }
      ]
    }
  ]
}