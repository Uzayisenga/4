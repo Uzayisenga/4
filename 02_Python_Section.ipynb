{
  "cells": [
    {
      "cell_type": "markdown",
      "metadata": {
        "id": "view-in-github",
        "colab_type": "text"
      },
      "source": [
        "<a href=\"https://colab.research.google.com/github/Uzayisenga/4/blob/master/02_Python_Section.ipynb\" target=\"_parent\"><img src=\"https://colab.research.google.com/assets/colab-badge.svg\" alt=\"Open In Colab\"/></a>"
      ]
    },
    {
      "cell_type": "markdown",
      "metadata": {
        "id": "fM0eD3rHfZ9I"
      },
      "source": [
        "<a id =1> </a>\n",
        "# Summary\n",
        "#### - Variables, Data Types and Operators\n",
        "#### - Functions\n",
        "#### - Built-in Functions\n",
        "#### - Matplotlib\n",
        "#### - Control Statements\n",
        "#### - Data Structures\n",
        "#### - Exceptions\n",
        "#### - Basic Modules\n",
        "#### - Classes"
      ]
    },
    {
      "cell_type": "markdown",
      "metadata": {
        "id": "-EO19G5yfZ9U"
      },
      "source": [
        "<div class =\"alert alert-block alert-warning\" style='text-align:center'>\n",
        "<h2> Variables, Data Types and Operators </h2>\n",
        "</div>"
      ]
    },
    {
      "cell_type": "markdown",
      "metadata": {
        "id": "IXtp4aJjfZ9W"
      },
      "source": [
        "## Variables\n",
        "Variables are containers for storing data values.\n",
        "\n",
        "## Creating Variables\n",
        "- Python has no command for declaring a variable.\n",
        "- A variable is created the moment you first assign a value to it.\n",
        "- Variables do not need to be declared with any particular type, and can even change type after they have been set.  \n",
        "\n",
        "**Source:** https://www.w3schools.com/python/python_variables.asp"
      ]
    },
    {
      "cell_type": "markdown",
      "metadata": {
        "id": "5JMmtEMYfZ9X"
      },
      "source": [
        "### There are mainly 4 data types\n",
        "- int\n",
        "- float\n",
        "- string\n",
        "- bool"
      ]
    },
    {
      "cell_type": "code",
      "execution_count": 2,
      "metadata": {
        "id": "q_Ig8h09fZ9Y"
      },
      "outputs": [],
      "source": [
        "# Examples\n",
        "a = 10 #int\n",
        "b = 7.5 #float\n",
        "country = 'Japan' #string\n",
        "is_present = True #bool"
      ]
    },
    {
      "cell_type": "code",
      "execution_count": 3,
      "metadata": {
        "id": "o1L3Ker0fZ9b",
        "outputId": "8cd052fb-7baa-4d9b-8dd4-f66ce5fda84c",
        "colab": {
          "base_uri": "https://localhost:8080/"
        }
      },
      "outputs": [
        {
          "output_type": "execute_result",
          "data": {
            "text/plain": [
              "(int, float, str, bool)"
            ]
          },
          "metadata": {},
          "execution_count": 3
        }
      ],
      "source": [
        "# Printing the data types\n",
        "type(a), type(b), type(country), type(is_present)"
      ]
    },
    {
      "cell_type": "code",
      "execution_count": 4,
      "metadata": {
        "id": "9kTr5WMxfZ9f",
        "outputId": "2e530aea-cbd6-4dc4-b5c7-3084662d1bbd",
        "colab": {
          "base_uri": "https://localhost:8080/"
        }
      },
      "outputs": [
        {
          "output_type": "execute_result",
          "data": {
            "text/plain": [
              "(float, str)"
            ]
          },
          "metadata": {},
          "execution_count": 4
        }
      ],
      "source": [
        "# Changing the data type of a variable\n",
        "a = float(a)\n",
        "b = str(b)\n",
        "type(a), type(b)"
      ]
    },
    {
      "cell_type": "markdown",
      "metadata": {
        "id": "Zc0laWAxfZ9h"
      },
      "source": [
        "### Arithmetic operators\n",
        "Arithmetic operators are used with numeric values to perform common mathematical operations"
      ]
    },
    {
      "cell_type": "markdown",
      "source": [
        "Specifically, you're trying to add a floating-point number (b) to a string in the print statements, which will cause the error.\n",
        "\n",
        "To fix this issue, you should convert the numbers to strings before concatenating them with the text in the print statements."
      ],
      "metadata": {
        "id": "lXfKcu6-A9bo"
      }
    },
    {
      "cell_type": "code",
      "source": [
        "#print('a + b = ', a + b)\n",
        "#print('a - b = ', a - b)\n",
        "#print('a * b = ', a * b)\n",
        "#print('a / b = ', a / b)\n",
        "#print('a // b = ', a // b) #floor division: it removes the fractional part from the result of a normal division\n",
        "#print('a % b = ', a % b) #modulo operator: returns the remainder of dividing the left hand operand by right hand operand\n",
        "#print('a ^ b = ', a ** b) #a to the power b"
      ],
      "metadata": {
        "id": "f3U-hH81BR67"
      },
      "execution_count": 8,
      "outputs": []
    },
    {
      "cell_type": "code",
      "source": [
        "a = 10  # int\n",
        "b = 7.5  # float\n",
        "country = 'Japan'  # string\n",
        "is_present = True  # bool\n",
        "\n",
        "print('a + b = ' + str(a + b))\n",
        "print('a - b = ' + str(a - b))\n",
        "print('a * b = ' + str(a * b))\n",
        "print('a / b = ' + str(a / b))\n",
        "print('a // b = ' + str(a // b))  # floor division: it removes the fractional part from the result of a normal division\n",
        "print('a % b = ' + str(a % b))  # modulo operator: returns the remainder of dividing the left-hand operand by the right-hand operand\n",
        "print('a ^ b = ' + str(a ** b))  # a to the power b\n"
      ],
      "metadata": {
        "id": "m-1dza5MpGFy",
        "colab": {
          "base_uri": "https://localhost:8080/"
        },
        "outputId": "874bb719-e3bd-42b2-c176-6508e9b41002"
      },
      "execution_count": 7,
      "outputs": [
        {
          "output_type": "stream",
          "name": "stdout",
          "text": [
            "a + b = 17.5\n",
            "a - b = 2.5\n",
            "a * b = 75.0\n",
            "a / b = 1.3333333333333333\n",
            "a // b = 1.0\n",
            "a % b = 2.5\n",
            "a ^ b = 31622776.60168379\n"
          ]
        }
      ]
    },
    {
      "cell_type": "markdown",
      "metadata": {
        "id": "DNwx0bE5fZ9k"
      },
      "source": [
        "### Comparison Operators\n",
        "Comparison operators are used to compare two values"
      ]
    },
    {
      "cell_type": "code",
      "execution_count": 9,
      "metadata": {
        "id": "ql9NVXIYfZ9l",
        "outputId": "0deb3dd1-9d9c-4b16-8c04-e44ebee89343",
        "colab": {
          "base_uri": "https://localhost:8080/"
        }
      },
      "outputs": [
        {
          "output_type": "stream",
          "name": "stdout",
          "text": [
            "Equal: False\n",
            "Not equal: True\n",
            "Greater than: True\n",
            "Less than: False\n",
            "Greater or equal to: True\n",
            "Less or equal to: False\n"
          ]
        }
      ],
      "source": [
        "print(\"Equal:\", a == b)\n",
        "print(\"Not equal:\", a != b)\n",
        "print(\"Greater than:\", a > b)\n",
        "print(\"Less than:\", a < b)\n",
        "print(\"Greater or equal to:\", a >= b)\n",
        "print(\"Less or equal to:\", a <= b)"
      ]
    },
    {
      "cell_type": "markdown",
      "metadata": {
        "id": "CbKkPw8nfZ9m"
      },
      "source": [
        "### Logical Operators\n",
        "Logical operators are used to combine conditional statements\n",
        "\n",
        "- **and:** returns True if both statements are true\n",
        "- **or:** returns True if one of the statements is true\n",
        "- **not:** reverse the result, returns False if the result is true"
      ]
    },
    {
      "cell_type": "code",
      "execution_count": 10,
      "metadata": {
        "id": "vFEud_0CfZ9n",
        "outputId": "df74941e-372a-4eff-f283-beeb1487c54c",
        "colab": {
          "base_uri": "https://localhost:8080/"
        }
      },
      "outputs": [
        {
          "output_type": "stream",
          "name": "stdout",
          "text": [
            "a > 5 and b < 8 is True\n",
            "a = 15 or b = 10 is False\n",
            "not(a < 20 and b > 10) is True\n"
          ]
        }
      ],
      "source": [
        "print(\"a > 5 and b < 8 is\", a > 5 and b < 8)\n",
        "print(\"a = 15 or b = 10 is\", a == 15 or b == 10)\n",
        "print(\"not(a < 20 and b > 10) is\", not(a < 20 and b > 10))"
      ]
    },
    {
      "cell_type": "markdown",
      "metadata": {
        "id": "JmWDAQdgfZ9o"
      },
      "source": [
        "### Membership Operators\n",
        "Membership operators are used to test if a sequence is presented in an object\n",
        "\n",
        "- **in:** returns True if a sequence with the specified value is present in the object\n",
        "- **not in:** returns True if a sequence with the specified value is not present in the object"
      ]
    },
    {
      "cell_type": "code",
      "execution_count": 11,
      "metadata": {
        "id": "3LlXF0SBfZ9p",
        "outputId": "fc29d246-57ed-4413-8948-701d8afdcaf9",
        "colab": {
          "base_uri": "https://localhost:8080/"
        }
      },
      "outputs": [
        {
          "output_type": "stream",
          "name": "stdout",
          "text": [
            "a in c: True\n",
            "b in c: False\n"
          ]
        }
      ],
      "source": [
        "c = [10, 20, 30]\n",
        "print(\"a in c:\", a in c)\n",
        "print(\"b in c:\", b in c)"
      ]
    },
    {
      "cell_type": "markdown",
      "metadata": {
        "id": "z-_2JMOFfZ9q"
      },
      "source": [
        "<div class =\"alert alert-block alert-warning\" style='text-align:center'>\n",
        "<h2> Functions </h2>\n",
        "</div>"
      ]
    },
    {
      "cell_type": "markdown",
      "metadata": {
        "id": "4UfBTiodfZ9r"
      },
      "source": [
        "## Functions\n",
        "- A function is a block of code which only runs when it is called.\n",
        "- Functions allow you to write code once that can then be run whenever you need to accomplish the same task.\n",
        "- You can pass data, known as parameters, into a function.\n",
        "- A function can return data as a result."
      ]
    },
    {
      "cell_type": "markdown",
      "metadata": {
        "id": "l-SIqJNrfZ9s"
      },
      "source": [
        "### Creating a function with lambda\n",
        "- A lambda function is a small anonymous function.\n",
        "- A lambda function can take any number of arguments, but can only have one expression."
      ]
    },
    {
      "cell_type": "code",
      "execution_count": 12,
      "metadata": {
        "id": "dFRmrl-5fZ9t",
        "outputId": "da5c010e-9540-4fe9-8031-c4d88c836549",
        "colab": {
          "base_uri": "https://localhost:8080/"
        }
      },
      "outputs": [
        {
          "output_type": "stream",
          "name": "stdout",
          "text": [
            "10\n"
          ]
        }
      ],
      "source": [
        "# Example of a function f(x) = x + 5\n",
        "f = lambda x: x + 5\n",
        "\n",
        "print(f(5))"
      ]
    },
    {
      "cell_type": "code",
      "execution_count": 13,
      "metadata": {
        "id": "_4k6Z4DffZ9u",
        "outputId": "463d024b-30c4-4715-ea99-6a68e075e84a",
        "colab": {
          "base_uri": "https://localhost:8080/"
        }
      },
      "outputs": [
        {
          "output_type": "stream",
          "name": "stdout",
          "text": [
            "25\n"
          ]
        }
      ],
      "source": [
        "# Example of a function g(x, y) = x^2 + y^2\n",
        "g = lambda x, y: x**2 + y**2\n",
        "\n",
        "print(g(3,4))"
      ]
    },
    {
      "cell_type": "markdown",
      "metadata": {
        "id": "9weFfBr5fZ9v"
      },
      "source": [
        "### Creating a function using def\n",
        "- The first line of a function is its definition, marked by the keyword def.\n",
        "- The name of the function is followed by a set of parentheses and a colon.\n",
        "- A docstring, in triple quotes, describes what the function does. The body of a function is indented one level.\n",
        "- To call a function, give the name of the function followed by a set of parentheses.  \n",
        "\n",
        "**Source:** [Python Cheat Sheet](http://ehmatthes.github.io/pcc/cheatsheets/README.html)"
      ]
    },
    {
      "cell_type": "markdown",
      "metadata": {
        "id": "gwe8zNwKfZ9w"
      },
      "source": [
        "### Examples"
      ]
    },
    {
      "cell_type": "code",
      "execution_count": 14,
      "metadata": {
        "id": "eAUOLOCcfZ9w",
        "outputId": "f212497f-3a14-4202-99db-55f38cd91456",
        "colab": {
          "base_uri": "https://localhost:8080/"
        }
      },
      "outputs": [
        {
          "output_type": "execute_result",
          "data": {
            "text/plain": [
              "15"
            ]
          },
          "metadata": {},
          "execution_count": 14
        }
      ],
      "source": [
        "def addition(a, b):\n",
        "    \"\"\"Add 2 numbers\"\"\"\n",
        "    result = a + b\n",
        "    return result\n",
        "\n",
        "addition(5, 10)"
      ]
    },
    {
      "cell_type": "code",
      "execution_count": 17,
      "metadata": {
        "id": "HFivatWOfZ9y",
        "outputId": "c49b1a2b-36ca-4b0f-ca21-5353c9caf9f3",
        "colab": {
          "base_uri": "https://localhost:8080/"
        }
      },
      "outputs": [
        {
          "output_type": "stream",
          "name": "stdout",
          "text": [
            "Hello Amina!\n"
          ]
        }
      ],
      "source": [
        "def greetings(name):\n",
        "    print(\"Hello \" + name + \"!\")\n",
        "\n",
        "greetings(\"Amina\")"
      ]
    },
    {
      "cell_type": "code",
      "execution_count": 18,
      "metadata": {
        "id": "d_O71VCNfZ9z",
        "outputId": "6346a567-7c5c-43d8-ee71-8f7ad2b304cc",
        "colab": {
          "base_uri": "https://localhost:8080/"
        }
      },
      "outputs": [
        {
          "output_type": "stream",
          "name": "stdout",
          "text": [
            "Hi! My name is Tom, I am  20 years old and I am from Vietnam\n"
          ]
        }
      ],
      "source": [
        "def presentation(name, age, country= \"Vietnam\"):\n",
        "    print(\"Hi! My name is \" + name + \", I am \", age, \"years old and I am from \" + country)\n",
        "\n",
        "presentation(\"Tom\", 20)"
      ]
    },
    {
      "cell_type": "markdown",
      "metadata": {
        "id": "ihJVE7ihfZ90"
      },
      "source": [
        "<div class =\"alert alert-block alert-warning\" style='text-align:center'>\n",
        "<h2> Built-in Functions </h2>\n",
        "</div>"
      ]
    },
    {
      "cell_type": "markdown",
      "metadata": {
        "id": "zylZ8eiCfZ90"
      },
      "source": [
        "[List of Python Built-in functions](https://www.w3schools.com/python/python_ref_functions.asp)"
      ]
    },
    {
      "cell_type": "markdown",
      "metadata": {
        "id": "TXDdvIU3fZ91"
      },
      "source": [
        "Python contains a large number of built-in functions that are very useful to know. This allows you to build codes faster, without having to develop your own functions for the most basic tasks. The most important ones are shown here:\n",
        "- Basic functions: abs(), round(), max(), min(), len(), sum(), any(), all()\n",
        "- Variable type conversions: int(), str(), float(), type()\n",
        "- Data structure conversions: list(), tuple()\n",
        "- **input()** function\n",
        "- **format() / f-string** function\n",
        "- **open()** function"
      ]
    },
    {
      "cell_type": "markdown",
      "metadata": {
        "id": "pHfKcM7GfZ91"
      },
      "source": [
        "### 1. Basic Functions"
      ]
    },
    {
      "cell_type": "code",
      "execution_count": 19,
      "metadata": {
        "id": "maVjMcCCfZ92",
        "outputId": "bed57952-e8d7-406f-8e5f-0438c6c61fd9",
        "colab": {
          "base_uri": "https://localhost:8080/"
        }
      },
      "outputs": [
        {
          "output_type": "stream",
          "name": "stdout",
          "text": [
            "5.2\n",
            "-5\n"
          ]
        }
      ],
      "source": [
        "x = -5.2\n",
        "print(abs(x)) # absolute value\n",
        "print(round(x)) #rounded"
      ]
    },
    {
      "cell_type": "code",
      "execution_count": 20,
      "metadata": {
        "id": "bKKiIz6xfZ92",
        "outputId": "37e390dd-99f9-4ae1-856c-82f97801d49f",
        "colab": {
          "base_uri": "https://localhost:8080/"
        }
      },
      "outputs": [
        {
          "output_type": "stream",
          "name": "stdout",
          "text": [
            "-4\n",
            "3\n",
            "5\n",
            "-2\n"
          ]
        }
      ],
      "source": [
        "list_1 = [-2, 3, 1, 0, -4]\n",
        "\n",
        "print(min(list_1)) # minimum\n",
        "print(max(list_1)) # maximum\n",
        "print(len(list_1)) # length\n",
        "print(sum(list_1)) # sum of the elements"
      ]
    },
    {
      "cell_type": "code",
      "execution_count": 21,
      "metadata": {
        "id": "tbsPb8u8fZ93",
        "outputId": "4d4a6a48-82d5-4160-d9e6-58815ab48ca7",
        "colab": {
          "base_uri": "https://localhost:8080/"
        }
      },
      "outputs": [
        {
          "output_type": "stream",
          "name": "stdout",
          "text": [
            "True\n",
            "False\n"
          ]
        }
      ],
      "source": [
        "list_2 = [False, False, True]\n",
        "\n",
        "print(any(list_2)) # is there at least one True element?\n",
        "print(all(list_2)) # are all the elements True?"
      ]
    },
    {
      "cell_type": "markdown",
      "metadata": {
        "id": "UaWZK8LjfZ94"
      },
      "source": [
        "### 2. Conversion functions"
      ]
    },
    {
      "cell_type": "code",
      "execution_count": 22,
      "metadata": {
        "id": "aM-vv210fZ94",
        "colab": {
          "base_uri": "https://localhost:8080/"
        },
        "outputId": "97ed4449-fe70-423d-e135-b938fd3015e0"
      },
      "outputs": [
        {
          "output_type": "execute_result",
          "data": {
            "text/plain": [
              "str"
            ]
          },
          "metadata": {},
          "execution_count": 22
        }
      ],
      "source": [
        "age = '28'\n",
        "type(age)"
      ]
    },
    {
      "cell_type": "code",
      "execution_count": 23,
      "metadata": {
        "id": "DFT2IwnGfZ95",
        "colab": {
          "base_uri": "https://localhost:8080/"
        },
        "outputId": "c23854fe-d7de-4251-97e8-a8b0ff0ed360"
      },
      "outputs": [
        {
          "output_type": "execute_result",
          "data": {
            "text/plain": [
              "int"
            ]
          },
          "metadata": {},
          "execution_count": 23
        }
      ],
      "source": [
        "age = int(age)\n",
        "type(age)"
      ]
    },
    {
      "cell_type": "code",
      "execution_count": 24,
      "metadata": {
        "id": "i63apR7qfZ96",
        "colab": {
          "base_uri": "https://localhost:8080/"
        },
        "outputId": "e6091f23-6289-4149-ccb7-50e2ee8f255e"
      },
      "outputs": [
        {
          "output_type": "execute_result",
          "data": {
            "text/plain": [
              "48"
            ]
          },
          "metadata": {},
          "execution_count": 24
        }
      ],
      "source": [
        "age + 20"
      ]
    },
    {
      "cell_type": "markdown",
      "metadata": {
        "id": "H79Tr0cZfZ97"
      },
      "source": [
        "You can also convert lists into tuples and vice-versa."
      ]
    },
    {
      "cell_type": "code",
      "execution_count": 25,
      "metadata": {
        "id": "1bXXllW8fZ97",
        "outputId": "ca3226ce-585d-4cac-fb6a-e05d234d5930",
        "colab": {
          "base_uri": "https://localhost:8080/"
        }
      },
      "outputs": [
        {
          "output_type": "execute_result",
          "data": {
            "text/plain": [
              "((-2, 3, 1, 0, -4), tuple)"
            ]
          },
          "metadata": {},
          "execution_count": 25
        }
      ],
      "source": [
        "tuple_1 = tuple(list_1)\n",
        "tuple_1, type(tuple_1)"
      ]
    },
    {
      "cell_type": "code",
      "execution_count": 26,
      "metadata": {
        "id": "ITGqHCqwfZ98",
        "outputId": "35f0d04c-b58a-4c5b-b998-787cc5a2b339",
        "colab": {
          "base_uri": "https://localhost:8080/"
        }
      },
      "outputs": [
        {
          "output_type": "execute_result",
          "data": {
            "text/plain": [
              "tuple"
            ]
          },
          "metadata": {},
          "execution_count": 26
        }
      ],
      "source": [
        "tuple_2 = ('A', 'B', 'C')\n",
        "type(tuple_2)"
      ]
    },
    {
      "cell_type": "code",
      "execution_count": 27,
      "metadata": {
        "id": "13-xtKA-fZ98",
        "outputId": "570a6c4a-9ed2-4039-9871-aeb744fcdffb",
        "colab": {
          "base_uri": "https://localhost:8080/"
        }
      },
      "outputs": [
        {
          "output_type": "execute_result",
          "data": {
            "text/plain": [
              "list"
            ]
          },
          "metadata": {},
          "execution_count": 27
        }
      ],
      "source": [
        "list_3 = list(tuple_2)\n",
        "type(list_3)"
      ]
    },
    {
      "cell_type": "markdown",
      "metadata": {
        "id": "m9sMIoTxfZ99"
      },
      "source": [
        "### 3. input() function\n",
        "This function is very useful in asking a user to enter a value into the program"
      ]
    },
    {
      "cell_type": "code",
      "execution_count": 32,
      "metadata": {
        "id": "q8E3pT82fZ9-",
        "outputId": "c3473620-177a-48d5-afcd-ddd590aed7af",
        "colab": {
          "base_uri": "https://localhost:8080/"
        }
      },
      "outputs": [
        {
          "name": "stdout",
          "output_type": "stream",
          "text": [
            "What is your age? 50\n"
          ]
        }
      ],
      "source": [
        "age = input('What is your age? ')"
      ]
    },
    {
      "cell_type": "code",
      "execution_count": 35,
      "metadata": {
        "id": "aqfAppaOfZ9-",
        "outputId": "ce512f5c-8b2c-43a1-8cd6-de77b34a522c",
        "colab": {
          "base_uri": "https://localhost:8080/"
        }
      },
      "outputs": [
        {
          "output_type": "execute_result",
          "data": {
            "text/plain": [
              "str"
            ]
          },
          "metadata": {},
          "execution_count": 35
        }
      ],
      "source": [
        "type(age) # age is of type string. it is necessary to think of converting it if one wishes to make a calculation with"
      ]
    },
    {
      "cell_type": "code",
      "execution_count": 38,
      "metadata": {
        "id": "CvlxkEAFfZ9_",
        "outputId": "8a8ae154-9336-4e39-fc26-a544160e51c3",
        "colab": {
          "base_uri": "https://localhost:8080/"
        }
      },
      "outputs": [
        {
          "output_type": "stream",
          "name": "stdout",
          "text": [
            "4.5\n"
          ]
        }
      ],
      "source": [
        "# Assuming 'age' is a string containing the age value\n",
        "age_str = '45'  # Replace with your actual age string\n",
        "age = int(age_str)  # Convert the string to an integer\n",
        "\n",
        "# Now, you can safely perform the division\n",
        "result = age / 10\n",
        "print(result)\n"
      ]
    },
    {
      "cell_type": "code",
      "execution_count": 39,
      "metadata": {
        "id": "lblQv88XfZ9_",
        "outputId": "ade74a54-f018-49d3-fb85-3b8f72d16981",
        "colab": {
          "base_uri": "https://localhost:8080/"
        }
      },
      "outputs": [
        {
          "name": "stdout",
          "output_type": "stream",
          "text": [
            "What is your age? 60\n"
          ]
        }
      ],
      "source": [
        "age = int(input(\"What is your age? \"))"
      ]
    },
    {
      "cell_type": "code",
      "execution_count": 40,
      "metadata": {
        "id": "BbfURXaBfZ-A",
        "outputId": "971c3442-534c-4dd1-cd26-16f712bbdea3",
        "colab": {
          "base_uri": "https://localhost:8080/"
        }
      },
      "outputs": [
        {
          "output_type": "execute_result",
          "data": {
            "text/plain": [
              "55"
            ]
          },
          "metadata": {},
          "execution_count": 40
        }
      ],
      "source": [
        "age - 5"
      ]
    },
    {
      "cell_type": "code",
      "execution_count": 41,
      "metadata": {
        "id": "qRvRhoKVfZ-B",
        "outputId": "60df4185-be15-43f6-fefa-f725845df828",
        "colab": {
          "base_uri": "https://localhost:8080/"
        }
      },
      "outputs": [
        {
          "name": "stdout",
          "output_type": "stream",
          "text": [
            "What is your name? Amina\n"
          ]
        }
      ],
      "source": [
        "name = input('What is your name? ')"
      ]
    },
    {
      "cell_type": "code",
      "execution_count": 42,
      "metadata": {
        "id": "1nIhYgkLfZ-C",
        "outputId": "cdce8353-9620-460a-ac7c-2474f17452e6",
        "colab": {
          "base_uri": "https://localhost:8080/"
        }
      },
      "outputs": [
        {
          "output_type": "stream",
          "name": "stdout",
          "text": [
            "Welcome Amina!\n"
          ]
        }
      ],
      "source": [
        "print(f'Welcome {name}!')"
      ]
    },
    {
      "cell_type": "markdown",
      "metadata": {
        "id": "sYJx0FZxfZ-C"
      },
      "source": [
        "### 4. format() / f-string\n",
        "- This function allows you to insert the value of a variable within a string\n",
        "- A alternative and faster method is using f-string."
      ]
    },
    {
      "cell_type": "code",
      "execution_count": 43,
      "metadata": {
        "id": "fbV_2GxJfZ-D",
        "outputId": "580b0c8a-279e-4ec0-ec8e-80422558700a",
        "colab": {
          "base_uri": "https://localhost:8080/"
        }
      },
      "outputs": [
        {
          "output_type": "stream",
          "name": "stdout",
          "text": [
            "Hanoi is the capital of Vietnam\n"
          ]
        }
      ],
      "source": [
        "country = 'Vietnam'\n",
        "city = 'Hanoi'\n",
        "\n",
        "message = '{} is the capital of {}'.format(city, country)\n",
        "print(message)"
      ]
    },
    {
      "cell_type": "markdown",
      "metadata": {
        "id": "QifVwX40fZ-E"
      },
      "source": [
        "#### Using f-string"
      ]
    },
    {
      "cell_type": "code",
      "execution_count": 44,
      "metadata": {
        "id": "yFwd5i6bfZ-E",
        "outputId": "c9c367c0-cd0e-4754-e933-57cb64038706",
        "colab": {
          "base_uri": "https://localhost:8080/"
        }
      },
      "outputs": [
        {
          "output_type": "stream",
          "name": "stdout",
          "text": [
            "Hanoi is the capital of Vietnam\n"
          ]
        }
      ],
      "source": [
        "message = f'{city} is the capital of {country}'\n",
        "print(message)"
      ]
    },
    {
      "cell_type": "markdown",
      "metadata": {
        "id": "nYBxvScZfZ-F"
      },
      "source": [
        "### 5. open() function\n",
        "This function is one of the most useful features of Python. It allows you to open any file on your computer and use it in Python. Different modes exist:\n",
        "\n",
        "- the 'r' mode: read a file from your computer\n",
        "- the 'w' mode: writing a file on your computer\n",
        "- the 'a' mode: (append) add content to an existing file"
      ]
    },
    {
      "cell_type": "code",
      "execution_count": 45,
      "metadata": {
        "id": "Vgvi89k4fZ-G"
      },
      "outputs": [],
      "source": [
        "f = open('text.txt', 'w') # opening an object file f\n",
        "f.write('hello')\n",
        "f.close() # we have to close our file once the work is finished"
      ]
    },
    {
      "cell_type": "code",
      "execution_count": 46,
      "metadata": {
        "id": "PqetLl9ofZ-G",
        "outputId": "211d55e0-c7b4-48dc-9f37-c7414aa4ee0f",
        "colab": {
          "base_uri": "https://localhost:8080/"
        }
      },
      "outputs": [
        {
          "output_type": "stream",
          "name": "stdout",
          "text": [
            "hello\n"
          ]
        }
      ],
      "source": [
        "f = open('text.txt', 'r')\n",
        "print(f.read())\n",
        "f.close()"
      ]
    },
    {
      "cell_type": "markdown",
      "metadata": {
        "id": "mU0lusozfZ-H"
      },
      "source": [
        "In practice, one writes more often with **open() as f** so as not to have to close the file once the work is done"
      ]
    },
    {
      "cell_type": "code",
      "execution_count": 47,
      "metadata": {
        "id": "Ucj9CXo7fZ-H",
        "outputId": "74dfd037-1ac0-4498-95e9-1ee3016c7362",
        "colab": {
          "base_uri": "https://localhost:8080/"
        }
      },
      "outputs": [
        {
          "output_type": "stream",
          "name": "stdout",
          "text": [
            "hello\n"
          ]
        }
      ],
      "source": [
        "with open('text.txt', 'r') as f:\n",
        "    print(f.read())"
      ]
    },
    {
      "cell_type": "markdown",
      "metadata": {
        "id": "LPSGB4PLfZ-I"
      },
      "source": [
        "<div class =\"alert alert-block alert-warning\" style='text-align:center'>\n",
        "<h2> Matplotlib </h2>\n",
        "</div>"
      ]
    },
    {
      "cell_type": "markdown",
      "metadata": {
        "id": "dgXQmuZxfZ-J"
      },
      "source": [
        "[Official page](http://matplotlib.org/)"
      ]
    },
    {
      "cell_type": "markdown",
      "metadata": {
        "id": "tTeelNoBfZ-J"
      },
      "source": [
        "Matplotlib is a low level graph plotting library in python that serves as a visualization utility."
      ]
    },
    {
      "cell_type": "code",
      "execution_count": 57,
      "metadata": {
        "id": "SGjFZrLMfZ-K",
        "colab": {
          "base_uri": "https://localhost:8080/"
        },
        "outputId": "047bd61e-08a0-44a5-ee12-0187a257af74"
      },
      "outputs": [
        {
          "output_type": "stream",
          "name": "stdout",
          "text": [
            "6\n"
          ]
        }
      ],
      "source": [
        "import numpy as np\n",
        "\n",
        "# Define your data as a NumPy array\n",
        "my_data = np.array([1, 2, 3])\n",
        "\n",
        "# Calculate the sum of the elements and store it in x\n",
        "x = my_data.sum()\n",
        "print(x)\n",
        "\n",
        "\n",
        "\n",
        "import matplotlib.pyplot as plt\n",
        "from IPython.core.interactiveshell import InteractiveShell\n",
        "InteractiveShell.ast_node_interactivity = \"all\""
      ]
    },
    {
      "cell_type": "code",
      "execution_count": 58,
      "metadata": {
        "id": "Hna2Zfx7fZ-K",
        "outputId": "5c070087-5773-4642-e77b-d6196a2eab40",
        "colab": {
          "base_uri": "https://localhost:8080/"
        }
      },
      "outputs": [
        {
          "output_type": "stream",
          "name": "stdout",
          "text": [
            "[0.         0.22222222 0.44444444 0.66666667 0.88888889 1.11111111\n",
            " 1.33333333 1.55555556 1.77777778 2.        ]\n"
          ]
        }
      ],
      "source": [
        "X = np.linspace(0, 2, 10) #numbers between 0 an 2 that are evenly separated from one another\n",
        "print(X)\n",
        "y = X**2"
      ]
    },
    {
      "cell_type": "code",
      "execution_count": 59,
      "metadata": {
        "id": "JRmuAWg6fZ-L",
        "outputId": "571301f3-d8c4-461c-946a-3ddfea48b0bb",
        "colab": {
          "base_uri": "https://localhost:8080/",
          "height": 430
        }
      },
      "outputs": [
        {
          "output_type": "display_data",
          "data": {
            "text/plain": [
              "<Figure size 640x480 with 1 Axes>"
            ],
            "image/png": "[encoded data removed]"
          },
          "metadata": {}
        }
      ],
      "source": [
        "plt.plot(X,y);"
      ]
    },
    {
      "cell_type": "code",
      "execution_count": 60,
      "metadata": {
        "id": "l07oI_xzfZ-L",
        "outputId": "a4a84dca-f55c-4f89-c17a-23f45eda8482",
        "colab": {
          "base_uri": "https://localhost:8080/",
          "height": 430
        }
      },
      "outputs": [
        {
          "output_type": "display_data",
          "data": {
            "text/plain": [
              "<Figure size 640x480 with 1 Axes>"
            ],
            "image/png": "[encoded data removed]"
          },
          "metadata": {}
        }
      ],
      "source": [
        "plt.scatter(X,y);"
      ]
    },
    {
      "cell_type": "markdown",
      "metadata": {
        "id": "QyRkriF7fZ-M"
      },
      "source": [
        "## Styles\n",
        "There are many styles to add to the graphics. Here are the most important to remember.\n",
        "- **c**: line color\n",
        "- **lw**: line thickness (for plot graphs)\n",
        "- **ls**: line style (for plot graphs)\n",
        "- **size**: dot size (for scatter plots)\n",
        "- **marker**: dot style (for scatter charts)\n",
        "- **alpha**: transparency of the graph"
      ]
    },
    {
      "cell_type": "code",
      "execution_count": 61,
      "metadata": {
        "id": "fnMa2vMvfZ-M",
        "outputId": "04ad3f6e-86d2-4c38-c2c4-06a49117b498",
        "colab": {
          "base_uri": "https://localhost:8080/",
          "height": 430
        }
      },
      "outputs": [
        {
          "output_type": "display_data",
          "data": {
            "text/plain": [
              "<Figure size 640x480 with 1 Axes>"
            ],
            "image/png": "[encoded data removed]"
          },
          "metadata": {}
        }
      ],
      "source": [
        "plt.plot(X, y, c ='red', lw=4, ls= '--', alpha=0.8);"
      ]
    },
    {
      "cell_type": "code",
      "execution_count": 62,
      "metadata": {
        "id": "WuOfbx0BfZ-N",
        "outputId": "1c41acb2-927c-4772-be35-85f9ca6be21c",
        "colab": {
          "base_uri": "https://localhost:8080/",
          "height": 430
        }
      },
      "outputs": [
        {
          "output_type": "display_data",
          "data": {
            "text/plain": [
              "<Figure size 640x480 with 1 Axes>"
            ],
            "image/png": "[encoded data removed]"
          },
          "metadata": {}
        }
      ],
      "source": [
        "plt.scatter(X, y, s=400, c ='green', lw=4, marker='*');"
      ]
    },
    {
      "cell_type": "markdown",
      "metadata": {
        "id": "DLfMtDFNfZ-N"
      },
      "source": [
        "### Marker\tDescription\n",
        "'o'\tCircle\n",
        "'*'\tStar\n",
        "'.'\tPoint\n",
        "','\tPixel\n",
        "'x'\tX\n",
        "'X'\tX (filled)\n",
        "'+'\tPlus\n",
        "'P'\tPlus (filled)\n",
        "'s'\tSquare\n",
        "'D'\tDiamond\n",
        "'d'\tDiamond (thin)\n",
        "'p'\tPentagon\n",
        "'H'\tHexagon\n",
        "'h'\tHexagon\n",
        "'v'\tTriangle Down\n",
        "'^'\tTriangle Up\n",
        "'<'\tTriangle Left\n",
        "'>'\tTriangle Right\n",
        "'1'\tTri Down\n",
        "'2'\tTri Up\n",
        "'3'\tTri Left\n",
        "'4'\tTri Right\n",
        "'|'\tVline\n",
        "'_'\tHline"
      ]
    },
    {
      "cell_type": "markdown",
      "metadata": {
        "id": "1u6kyZMufZ-O"
      },
      "source": [
        "### Line Style\n",
        "'-'\tSolid line\n",
        "':'\tDotted line\n",
        "'--'\tDashed line\n",
        "'-.'\tDashed/dotted line"
      ]
    },
    {
      "cell_type": "markdown",
      "metadata": {
        "id": "yHo4--ixfZ-O"
      },
      "source": [
        "### Color\n",
        "'r'\tRed\n",
        "'g'\tGreen\n",
        "'b'\tBlue\n",
        "'c'\tCyan\n",
        "'m'\tMagenta\n",
        "'y'\tYellow\n",
        "'k'\tBlack\n",
        "'w'\tWhite"
      ]
    },
    {
      "cell_type": "markdown",
      "metadata": {
        "id": "NmaOYstgfZ-P"
      },
      "source": [
        "### Format Strings fmt\n",
        "You can use also use the shortcut string notation parameter to specify the marker.\n",
        "\n",
        "This parameter is also called fmt, and is written with this syntax:\n",
        "\n",
        "marker|line|color\n",
        "example: `'o:r'`"
      ]
    },
    {
      "cell_type": "code",
      "execution_count": 63,
      "metadata": {
        "id": "aQ18VmQifZ-P",
        "outputId": "2f212114-93be-4463-f786-ab6842771d3e",
        "colab": {
          "base_uri": "https://localhost:8080/",
          "height": 447
        }
      },
      "outputs": [
        {
          "output_type": "execute_result",
          "data": {
            "text/plain": [
              "[<matplotlib.lines.Line2D at 0x7b56c8c39750>]"
            ]
          },
          "metadata": {},
          "execution_count": 63
        },
        {
          "output_type": "display_data",
          "data": {
            "text/plain": [
              "<Figure size 640x480 with 1 Axes>"
            ],
            "image/png": "[encoded data removed]"
          },
          "metadata": {}
        }
      ],
      "source": [
        "import matplotlib.pyplot as plt\n",
        "import numpy as np\n",
        "# Mark each point with a circle:\n",
        "\n",
        "points = np.array([3, 8, 1, 10])\n",
        "\n",
        "plt.plot(points, 'o:r')\n",
        "plt.show()"
      ]
    },
    {
      "cell_type": "markdown",
      "metadata": {
        "id": "hrLUqwiWfZ-Q"
      },
      "source": [
        "### Marker Size\n",
        "You can use the keyword argument markersize or the shorter version, ms to set the size of the markers:"
      ]
    },
    {
      "cell_type": "code",
      "execution_count": 64,
      "metadata": {
        "id": "Tkjy5Y7WfZ-Q",
        "outputId": "622c396e-f526-479c-efd0-de713ecf6e50",
        "colab": {
          "base_uri": "https://localhost:8080/",
          "height": 447
        }
      },
      "outputs": [
        {
          "output_type": "execute_result",
          "data": {
            "text/plain": [
              "[<matplotlib.lines.Line2D at 0x7b56c8b59fc0>]"
            ]
          },
          "metadata": {},
          "execution_count": 64
        },
        {
          "output_type": "display_data",
          "data": {
            "text/plain": [
              "<Figure size 640x480 with 1 Axes>"
            ],
            "image/png": "[encoded data removed]"
          },
          "metadata": {}
        }
      ],
      "source": [
        "import matplotlib.pyplot as plt\n",
        "import numpy as np\n",
        "\n",
        "# Set the size of the markers to 20\n",
        "\n",
        "points = np.array([3, 8, 1, 10])\n",
        "\n",
        "plt.plot(points, marker = 'o', ms = 20)\n",
        "plt.show()"
      ]
    },
    {
      "cell_type": "markdown",
      "metadata": {
        "id": "V3E7mVp_fZ-R"
      },
      "source": [
        "### Marker Color\n",
        "- You can use the keyword argument `markeredgecolor` or the shorter `mec` to set the color of the edge of the markers\n",
        "- You can use the keyword argument `markerfacecolor` or the shorter `mfc` to set the color inside the edge of the markers:"
      ]
    },
    {
      "cell_type": "code",
      "execution_count": 65,
      "metadata": {
        "id": "zw9VmlN7fZ-R",
        "outputId": "88c5646b-afc1-45f0-a108-78e64bf3fd46",
        "colab": {
          "base_uri": "https://localhost:8080/",
          "height": 447
        }
      },
      "outputs": [
        {
          "output_type": "execute_result",
          "data": {
            "text/plain": [
              "[<matplotlib.lines.Line2D at 0x7b56c8bc3310>]"
            ]
          },
          "metadata": {},
          "execution_count": 65
        },
        {
          "output_type": "display_data",
          "data": {
            "text/plain": [
              "<Figure size 640x480 with 1 Axes>"
            ],
            "image/png": "[encoded data removed]"
          },
          "metadata": {}
        }
      ],
      "source": [
        "# Set the EDGE color to red:\n",
        "points = np.array([3, 8, 1, 10])\n",
        "\n",
        "plt.plot(points, marker = 'o', ms = 20, mec = 'r')\n",
        "plt.show()"
      ]
    },
    {
      "cell_type": "code",
      "execution_count": 66,
      "metadata": {
        "id": "90bMYqRefZ-S",
        "outputId": "59ddb778-c44f-43bc-b12d-ffedf3c26ee0",
        "colab": {
          "base_uri": "https://localhost:8080/",
          "height": 447
        }
      },
      "outputs": [
        {
          "output_type": "execute_result",
          "data": {
            "text/plain": [
              "[<matplotlib.lines.Line2D at 0x7b56c8a37eb0>]"
            ]
          },
          "metadata": {},
          "execution_count": 66
        },
        {
          "output_type": "display_data",
          "data": {
            "text/plain": [
              "<Figure size 640x480 with 1 Axes>"
            ],
            "image/png": "[encoded data removed]"
          },
          "metadata": {}
        }
      ],
      "source": [
        "# Set the FACE color to red:\n",
        "points = np.array([3, 8, 1, 10])\n",
        "\n",
        "plt.plot(points, marker = 'o', ms = 20, mfc = 'r')\n",
        "plt.show()"
      ]
    },
    {
      "cell_type": "code",
      "execution_count": 67,
      "metadata": {
        "id": "NfmWhFE7fZ-S",
        "outputId": "e7471f10-9389-498e-c0d2-fba3b20fd248",
        "colab": {
          "base_uri": "https://localhost:8080/",
          "height": 447
        }
      },
      "outputs": [
        {
          "output_type": "execute_result",
          "data": {
            "text/plain": [
              "[<matplotlib.lines.Line2D at 0x7b56c8ac1540>]"
            ]
          },
          "metadata": {},
          "execution_count": 67
        },
        {
          "output_type": "display_data",
          "data": {
            "text/plain": [
              "<Figure size 640x480 with 1 Axes>"
            ],
            "image/png": "[encoded data removed]"
          },
          "metadata": {}
        }
      ],
      "source": [
        "# Set the color of both the edge and the face to red\n",
        "points = np.array([3, 8, 1, 10])\n",
        "\n",
        "plt.plot(points, marker = 'o', ms = 20, mec = 'r', mfc = 'r')\n",
        "plt.show()"
      ]
    },
    {
      "cell_type": "markdown",
      "metadata": {
        "id": "a7q4VK9yfZ-T"
      },
      "source": [
        "### Line Color\n",
        "You can use the keyword argument color or the shorter c to set the color of the line"
      ]
    },
    {
      "cell_type": "code",
      "execution_count": 68,
      "metadata": {
        "id": "cGGDPbVAfZ-U",
        "outputId": "6427f2b6-808b-47be-a916-551eb7dcf05a",
        "colab": {
          "base_uri": "https://localhost:8080/",
          "height": 447
        }
      },
      "outputs": [
        {
          "output_type": "execute_result",
          "data": {
            "text/plain": [
              "[<matplotlib.lines.Line2D at 0x7b56c8ac37f0>]"
            ]
          },
          "metadata": {},
          "execution_count": 68
        },
        {
          "output_type": "display_data",
          "data": {
            "text/plain": [
              "<Figure size 640x480 with 1 Axes>"
            ],
            "image/png": "[encoded data removed]"
          },
          "metadata": {}
        }
      ],
      "source": [
        "# Set the line color to red:\n",
        "points = np.array([3, 8, 1, 10])\n",
        "\n",
        "plt.plot(points, color = 'r')\n",
        "plt.show()"
      ]
    },
    {
      "cell_type": "markdown",
      "metadata": {
        "id": "yq8yNPtDfZ-V"
      },
      "source": [
        "### Line Width\n",
        "- You can use the keyword argument linewidth or the shorter lw to change the width of the line.\n",
        "- The value is a floating number, in points"
      ]
    },
    {
      "cell_type": "code",
      "execution_count": 69,
      "metadata": {
        "id": "pXLrt-SnfZ-V",
        "outputId": "ec587bfb-5b5a-4576-a73b-701069a5ee85",
        "colab": {
          "base_uri": "https://localhost:8080/",
          "height": 447
        }
      },
      "outputs": [
        {
          "output_type": "execute_result",
          "data": {
            "text/plain": [
              "[<matplotlib.lines.Line2D at 0x7b56c8c9b790>]"
            ]
          },
          "metadata": {},
          "execution_count": 69
        },
        {
          "output_type": "display_data",
          "data": {
            "text/plain": [
              "<Figure size 640x480 with 1 Axes>"
            ],
            "image/png": "[encoded data removed]"
          },
          "metadata": {}
        }
      ],
      "source": [
        "# Plot with a 20.5pt wide line:\n",
        "points = np.array([3, 8, 1, 10])\n",
        "\n",
        "plt.plot(points, linewidth = '20.5')\n",
        "plt.show()"
      ]
    },
    {
      "cell_type": "markdown",
      "metadata": {
        "id": "aTwP53TLfZ-W"
      },
      "source": [
        "### Multiple Lines\n",
        "You can plot as many lines as you like by simply adding more plt.plot() functions"
      ]
    },
    {
      "cell_type": "code",
      "execution_count": 70,
      "metadata": {
        "id": "Ad_x031vfZ-W",
        "outputId": "905d7683-e008-44ea-e1ea-20c0863cbab7",
        "colab": {
          "base_uri": "https://localhost:8080/",
          "height": 447
        }
      },
      "outputs": [
        {
          "output_type": "execute_result",
          "data": {
            "text/plain": [
              "[<matplotlib.lines.Line2D at 0x7b56c8c0dc90>]"
            ]
          },
          "metadata": {},
          "execution_count": 70
        },
        {
          "output_type": "execute_result",
          "data": {
            "text/plain": [
              "[<matplotlib.lines.Line2D at 0x7b56c8d83e50>]"
            ]
          },
          "metadata": {},
          "execution_count": 70
        },
        {
          "output_type": "display_data",
          "data": {
            "text/plain": [
              "<Figure size 640x480 with 1 Axes>"
            ],
            "image/png": "[encoded data removed]"
          },
          "metadata": {}
        }
      ],
      "source": [
        "# Draw two lines by specifying a plt.plot() function for each line:\n",
        "y1 = np.array([3, 8, 1, 10])\n",
        "y2 = np.array([6, 2, 7, 11])\n",
        "\n",
        "plt.plot(y1)\n",
        "plt.plot(y2)\n",
        "\n",
        "plt.show()"
      ]
    },
    {
      "cell_type": "markdown",
      "metadata": {
        "id": "DAfv7vgwfZ-X"
      },
      "source": [
        "### Add Grid Lines to a Plot\n",
        "With Pyplot, you can use the grid() function to add grid lines to the plot."
      ]
    },
    {
      "cell_type": "code",
      "execution_count": 71,
      "metadata": {
        "id": "bvH0RwsAfZ-X",
        "outputId": "bd85c29a-a096-4d62-8a5c-c73091a9af52",
        "colab": {
          "base_uri": "https://localhost:8080/",
          "height": 489
        }
      },
      "outputs": [
        {
          "output_type": "execute_result",
          "data": {
            "text/plain": [
              "[<matplotlib.lines.Line2D at 0x7b56cafebd00>]"
            ]
          },
          "metadata": {},
          "execution_count": 71
        },
        {
          "output_type": "execute_result",
          "data": {
            "text/plain": [
              "Text(0.5, 1.0, 'figure 1')"
            ]
          },
          "metadata": {},
          "execution_count": 71
        },
        {
          "output_type": "execute_result",
          "data": {
            "text/plain": [
              "Text(0.5, 0, 'axe x')"
            ]
          },
          "metadata": {},
          "execution_count": 71
        },
        {
          "output_type": "execute_result",
          "data": {
            "text/plain": [
              "Text(0, 0.5, 'axe y')"
            ]
          },
          "metadata": {},
          "execution_count": 71
        },
        {
          "output_type": "display_data",
          "data": {
            "text/plain": [
              "<Figure size 640x480 with 1 Axes>"
            ],
            "image/png": "[encoded data removed]"
          },
          "metadata": {}
        }
      ],
      "source": [
        "# Add grid lines to the plot\n",
        "X = np.linspace(0,2,10)\n",
        "y = X**2\n",
        "\n",
        "plt.plot(X, y)\n",
        "\n",
        "plt.title(\"figure 1\")\n",
        "plt.xlabel(\"axe x\")\n",
        "plt.ylabel(\"axe y\")\n",
        "\n",
        "plt.grid()\n",
        "\n",
        "plt.show()"
      ]
    },
    {
      "cell_type": "markdown",
      "metadata": {
        "id": "Xi_EPRRYfZ-Y"
      },
      "source": [
        "### Specify Which Grid Lines to Display\n",
        "- You can use the axis parameter in the grid() function to specify which grid lines to display.\n",
        "- Legal values are: 'x', 'y', and 'both'. Default value is 'both'."
      ]
    },
    {
      "cell_type": "code",
      "execution_count": 72,
      "metadata": {
        "id": "NYjjty-pfZ-Y",
        "outputId": "5de8abff-9d47-4a38-f023-fc8dceb78b90",
        "colab": {
          "base_uri": "https://localhost:8080/",
          "height": 489
        }
      },
      "outputs": [
        {
          "output_type": "execute_result",
          "data": {
            "text/plain": [
              "[<matplotlib.lines.Line2D at 0x7b56c898e890>]"
            ]
          },
          "metadata": {},
          "execution_count": 72
        },
        {
          "output_type": "execute_result",
          "data": {
            "text/plain": [
              "Text(0.5, 1.0, 'figure 1')"
            ]
          },
          "metadata": {},
          "execution_count": 72
        },
        {
          "output_type": "execute_result",
          "data": {
            "text/plain": [
              "Text(0.5, 0, 'axe x')"
            ]
          },
          "metadata": {},
          "execution_count": 72
        },
        {
          "output_type": "execute_result",
          "data": {
            "text/plain": [
              "Text(0, 0.5, 'axe y')"
            ]
          },
          "metadata": {},
          "execution_count": 72
        },
        {
          "output_type": "display_data",
          "data": {
            "text/plain": [
              "<Figure size 640x480 with 1 Axes>"
            ],
            "image/png": "[encoded data removed]"
          },
          "metadata": {}
        }
      ],
      "source": [
        "# Display only grid lines for the x-axis\n",
        "X = np.linspace(0,2,10)\n",
        "y = X**2\n",
        "\n",
        "plt.plot(X, y)\n",
        "\n",
        "plt.title(\"figure 1\")\n",
        "plt.xlabel(\"axe x\")\n",
        "plt.ylabel(\"axe y\")\n",
        "\n",
        "plt.grid(axis = 'x')\n",
        "\n",
        "plt.show()"
      ]
    },
    {
      "cell_type": "code",
      "execution_count": 73,
      "metadata": {
        "id": "NmVxxAnufZ-Z",
        "outputId": "d372e5c6-ae8d-46e9-f8fc-b069666f5f3b",
        "colab": {
          "base_uri": "https://localhost:8080/",
          "height": 489
        }
      },
      "outputs": [
        {
          "output_type": "execute_result",
          "data": {
            "text/plain": [
              "[<matplotlib.lines.Line2D at 0x7b56c8823b80>]"
            ]
          },
          "metadata": {},
          "execution_count": 73
        },
        {
          "output_type": "execute_result",
          "data": {
            "text/plain": [
              "Text(0.5, 1.0, 'figure 1')"
            ]
          },
          "metadata": {},
          "execution_count": 73
        },
        {
          "output_type": "execute_result",
          "data": {
            "text/plain": [
              "Text(0.5, 0, 'axe x')"
            ]
          },
          "metadata": {},
          "execution_count": 73
        },
        {
          "output_type": "execute_result",
          "data": {
            "text/plain": [
              "Text(0, 0.5, 'axe y')"
            ]
          },
          "metadata": {},
          "execution_count": 73
        },
        {
          "output_type": "display_data",
          "data": {
            "text/plain": [
              "<Figure size 640x480 with 1 Axes>"
            ],
            "image/png": "[encoded data removed]"
          },
          "metadata": {}
        }
      ],
      "source": [
        "# Display only grid lines for the y-axis\n",
        "X = np.linspace(0,2,10)\n",
        "y = X**4\n",
        "\n",
        "plt.plot(X, y)\n",
        "\n",
        "plt.title(\"figure 1\")\n",
        "plt.xlabel(\"axe x\")\n",
        "plt.ylabel(\"axe y\")\n",
        "\n",
        "plt.grid(axis = 'y')\n",
        "\n",
        "plt.show()"
      ]
    },
    {
      "cell_type": "markdown",
      "metadata": {
        "id": "T7LJBA-ZfZ-a"
      },
      "source": [
        "## Life cycle of a figure\n",
        "In order to create clean figures, the following life cycle must be followed:\n",
        "1. **plt.figure**(figsize[])\n",
        "2. **plt.plot()**\n",
        "3. Extras (title, axes, legends)\n",
        "4. **plt.show()**"
      ]
    },
    {
      "cell_type": "code",
      "execution_count": 74,
      "metadata": {
        "id": "0wGmeEw_fZ-a",
        "colab": {
          "base_uri": "https://localhost:8080/",
          "height": 599
        },
        "outputId": "5e03d73a-7e9b-40ef-a04e-0b5a20db5a00"
      },
      "outputs": [
        {
          "output_type": "execute_result",
          "data": {
            "text/plain": [
              "<Figure size 1200x600 with 0 Axes>"
            ]
          },
          "metadata": {},
          "execution_count": 74
        },
        {
          "output_type": "execute_result",
          "data": {
            "text/plain": [
              "[<matplotlib.lines.Line2D at 0x7b56c88d0d00>]"
            ]
          },
          "metadata": {},
          "execution_count": 74
        },
        {
          "output_type": "execute_result",
          "data": {
            "text/plain": [
              "[<matplotlib.lines.Line2D at 0x7b56c88d1090>]"
            ]
          },
          "metadata": {},
          "execution_count": 74
        },
        {
          "output_type": "execute_result",
          "data": {
            "text/plain": [
              "Text(0.0, 1.0, 'figure 1')"
            ]
          },
          "metadata": {},
          "execution_count": 74
        },
        {
          "output_type": "execute_result",
          "data": {
            "text/plain": [
              "Text(0.5, 0, 'axe x')"
            ]
          },
          "metadata": {},
          "execution_count": 74
        },
        {
          "output_type": "execute_result",
          "data": {
            "text/plain": [
              "Text(0, 0.5, 'axe y')"
            ]
          },
          "metadata": {},
          "execution_count": 74
        },
        {
          "output_type": "execute_result",
          "data": {
            "text/plain": [
              "<matplotlib.legend.Legend at 0x7b56c88a4af0>"
            ]
          },
          "metadata": {},
          "execution_count": 74
        },
        {
          "output_type": "display_data",
          "data": {
            "text/plain": [
              "<Figure size 1200x600 with 1 Axes>"
            ],
            "image/png": "[encoded data removed]"
          },
          "metadata": {}
        }
      ],
      "source": [
        "X = np.linspace(0,2,10)\n",
        "\n",
        "plt.figure(figsize=(12,6)) #Size of the figure\n",
        "\n",
        "plt.plot(X, X**2, label = 'First Graph')\n",
        "plt.plot(X, X**3, label = \"Second Graph\")\n",
        "\n",
        "# Extra information\n",
        "plt.title(\"figure 1\", loc='left') #title on the left\n",
        "plt.xlabel(\"axe x\")\n",
        "plt.ylabel(\"axe y\")\n",
        "plt.legend()\n",
        "\n",
        "plt.savefig(\"figure.png\") #saves the figure in the working directory\n",
        "plt.show() #show the figure"
      ]
    },
    {
      "cell_type": "markdown",
      "metadata": {
        "id": "nkcKytYnfZ-b"
      },
      "source": [
        "### Subplots\n",
        "Subplots are another element to add to create several graphs on the same figure."
      ]
    },
    {
      "cell_type": "code",
      "execution_count": 75,
      "metadata": {
        "id": "8GUzUBRHfZ-b",
        "colab": {
          "base_uri": "https://localhost:8080/",
          "height": 430
        },
        "outputId": "29ad59aa-d80c-4d81-ca04-f4c1ef16b358"
      },
      "outputs": [
        {
          "output_type": "display_data",
          "data": {
            "text/plain": [
              "<Figure size 640x480 with 4 Axes>"
            ],
            "image/png": "[encoded data removed]"
          },
          "metadata": {}
        }
      ],
      "source": [
        "x= np.linspace(0, 2, 10)\n",
        "y = x**2\n",
        "plt.subplot(2, 2, 1) #We are going to have 2 rows, 1 column and this is the first panel\n",
        "plt.plot(x, y, lw=4, c='red')\n",
        "plt.subplot(2, 2, 2)\n",
        "plt.plot(x, y, lw=4, c='blue')\n",
        "plt.subplot(2, 2, 3) #We are going to have 2 rows, 1 column and this is the first panel\n",
        "plt.plot(x, -y, lw=4, c='red')\n",
        "plt.subplot(2, 2, 4)\n",
        "plt.plot(x, -y, lw=4, c='blue');"
      ]
    },
    {
      "cell_type": "markdown",
      "metadata": {
        "id": "HrZqvfanfZ-c"
      },
      "source": [
        "### Using the Oriented-Object Method"
      ]
    },
    {
      "cell_type": "code",
      "execution_count": 76,
      "metadata": {
        "id": "lQuUpzvZfZ-c",
        "colab": {
          "base_uri": "https://localhost:8080/",
          "height": 447
        },
        "outputId": "99875a96-d17c-4d4c-b716-01f218143db6"
      },
      "outputs": [
        {
          "output_type": "execute_result",
          "data": {
            "text/plain": [
              "[<matplotlib.lines.Line2D at 0x7b56c8655630>]"
            ]
          },
          "metadata": {},
          "execution_count": 76
        },
        {
          "output_type": "execute_result",
          "data": {
            "text/plain": [
              "[<matplotlib.lines.Line2D at 0x7b56c87e1de0>]"
            ]
          },
          "metadata": {},
          "execution_count": 76
        },
        {
          "output_type": "display_data",
          "data": {
            "text/plain": [
              "<Figure size 640x480 with 2 Axes>"
            ],
            "image/png": "[encoded data removed]"
          },
          "metadata": {}
        }
      ],
      "source": [
        "fig, ax = plt.subplots(2, 1, sharex=True) #shares the same axis for subplots\n",
        "ax[0].plot(x, y)\n",
        "ax[1].plot(x, np.sin(x))\n",
        "plt.show()"
      ]
    },
    {
      "cell_type": "code",
      "execution_count": 77,
      "metadata": {
        "id": "-QlkNsDRfZ-d",
        "colab": {
          "base_uri": "https://localhost:8080/",
          "height": 557
        },
        "outputId": "033b2152-9998-4403-bf99-9176629cfe1d"
      },
      "outputs": [
        {
          "output_type": "execute_result",
          "data": {
            "text/plain": [
              "[<matplotlib.lines.Line2D at 0x7b56c83f69b0>]"
            ]
          },
          "metadata": {},
          "execution_count": 77
        },
        {
          "output_type": "execute_result",
          "data": {
            "text/plain": [
              "[<matplotlib.lines.Line2D at 0x7b56c83f6bf0>]"
            ]
          },
          "metadata": {},
          "execution_count": 77
        },
        {
          "output_type": "execute_result",
          "data": {
            "text/plain": [
              "[<matplotlib.lines.Line2D at 0x7b56c83f5990>]"
            ]
          },
          "metadata": {},
          "execution_count": 77
        },
        {
          "output_type": "execute_result",
          "data": {
            "text/plain": [
              "[<matplotlib.lines.Line2D at 0x7b56c83f7070>]"
            ]
          },
          "metadata": {},
          "execution_count": 77
        },
        {
          "output_type": "display_data",
          "data": {
            "text/plain": [
              "<Figure size 1400x600 with 4 Axes>"
            ],
            "image/png": "[encoded data removed]"
          },
          "metadata": {}
        }
      ],
      "source": [
        "plt.style.use('default')\n",
        "x = np.arange(-50, 50.1, 0.1)\n",
        "x2 = np.arange(0, 50.1, 0.1)\n",
        "\n",
        "y1 = np.array([(1/2) * i + 1 for i in x])\n",
        "y2 = x**2\n",
        "y3 = (2 * (x**2) + (2**x))\n",
        "y4 = np.sin(x2**(1/2))\n",
        "\n",
        "my_figure = plt.subplots(nrows=2, ncols=2, figsize=(14, 6))\n",
        "\n",
        "fig, ((ax1, ax2), (ax3, ax4)) = my_figure\n",
        "\n",
        "ax1.plot(y1, c='crimson')\n",
        "ax2.plot(y2, c='black')\n",
        "ax3.plot(y3, c='blue')\n",
        "ax4.plot(y4, c='purple')\n",
        "plt.show()"
      ]
    },
    {
      "cell_type": "markdown",
      "metadata": {
        "id": "fARRS04_fZ-d"
      },
      "source": [
        "<div class =\"alert alert-block alert-danger\" style='text-align:center'>\n",
        "<h1> Session #2 </h1>\n",
        "</div>"
      ]
    },
    {
      "cell_type": "markdown",
      "metadata": {
        "id": "4_lKE66yfZ-e"
      },
      "source": [
        "<div class =\"alert alert-block alert-warning\" style='text-align:center'>\n",
        "<h2> Control Statements </h2>\n",
        "</div>"
      ]
    },
    {
      "cell_type": "markdown",
      "metadata": {
        "id": "uYqFT6gNfZ-e"
      },
      "source": [
        "There are 3 main control statements to create algorithms:\n",
        "\n",
        "- **if statements**\n",
        "- **for loops**\n",
        "- **while loops**"
      ]
    },
    {
      "cell_type": "markdown",
      "metadata": {
        "id": "1BCQVOh8fZ-e"
      },
      "source": [
        "## If statements\n",
        "This structure makes it possible to test a sequence of alternatives. If a condition is met, then the following instructions are executed and the control structure is stopped, otherwise the next condition is tested."
      ]
    },
    {
      "cell_type": "code",
      "execution_count": 78,
      "metadata": {
        "id": "X5BcB-QnfZ-f",
        "outputId": "749d0d26-829c-44c9-cdb1-a7253b95a3e0",
        "colab": {
          "base_uri": "https://localhost:8080/"
        }
      },
      "outputs": [
        {
          "output_type": "stream",
          "name": "stdout",
          "text": [
            "Tom is an adult.\n"
          ]
        }
      ],
      "source": [
        "name = \"Tom\"\n",
        "age = 22\n",
        "if age > 18:\n",
        "    print(\"{} is an adult.\".format(name))"
      ]
    },
    {
      "cell_type": "markdown",
      "metadata": {
        "id": "BQQ7zzV8fZ-g"
      },
      "source": [
        "### Elif\n",
        "The elif keyword is pythons way of saying \"if the previous conditions were not true, then try this condition\"."
      ]
    },
    {
      "cell_type": "code",
      "execution_count": 79,
      "metadata": {
        "id": "RYCc2P5kfZ-h",
        "outputId": "42af3f3f-df96-43e1-9445-0fff5979664c",
        "colab": {
          "base_uri": "https://localhost:8080/"
        }
      },
      "outputs": [
        {
          "output_type": "stream",
          "name": "stdout",
          "text": [
            "Tom is a teenager.\n"
          ]
        }
      ],
      "source": [
        "name = \"Tom\"\n",
        "age = 16\n",
        "if age > 18:\n",
        "    print(\"{} is an adult.\".format(name))\n",
        "elif age >= 13:\n",
        "    print(\"{} is a teenager.\".format(name))"
      ]
    },
    {
      "cell_type": "markdown",
      "metadata": {
        "id": "KjVN9FtCfZ-i"
      },
      "source": [
        "### Else\n",
        "The else keyword catches anything which isn't caught by the preceding conditions."
      ]
    },
    {
      "cell_type": "code",
      "execution_count": 80,
      "metadata": {
        "id": "TrelZ7ZGfZ-i",
        "outputId": "c1e86456-8e1c-4bfa-d272-7e6b260dc917",
        "colab": {
          "base_uri": "https://localhost:8080/"
        }
      },
      "outputs": [
        {
          "output_type": "stream",
          "name": "stdout",
          "text": [
            "Tom is a child.\n"
          ]
        }
      ],
      "source": [
        "name = \"Tom\"\n",
        "age = 8\n",
        "if age > 18:\n",
        "    print(\"{} is an adult.\".format(name))\n",
        "elif age >= 13:\n",
        "    print(\"{} is a teenager.\".format(name))\n",
        "else:\n",
        "    print(\"{} is a child.\".format(name))"
      ]
    },
    {
      "cell_type": "markdown",
      "metadata": {
        "id": "PeMA95PDfZ-j"
      },
      "source": [
        "### Short Hand If\n",
        "If you have only one statement to execute, you can put it on the same line as the if statement."
      ]
    },
    {
      "cell_type": "code",
      "execution_count": 81,
      "metadata": {
        "id": "sDrxaj5NfZ-j",
        "outputId": "a137e818-9770-497c-88d9-19f5c48c0f9f",
        "colab": {
          "base_uri": "https://localhost:8080/"
        }
      },
      "outputs": [
        {
          "output_type": "stream",
          "name": "stdout",
          "text": [
            "a is greater than b\n"
          ]
        }
      ],
      "source": [
        "a = 10\n",
        "b = 5\n",
        "if a > b: print(\"a is greater than b\")"
      ]
    },
    {
      "cell_type": "markdown",
      "metadata": {
        "id": "JmL3WH-afZ-k"
      },
      "source": [
        "### Short Hand If ... Else\n",
        "If you have only one statement to execute, one for if, and one for else, you can put it all on the same line:"
      ]
    },
    {
      "cell_type": "code",
      "execution_count": 82,
      "metadata": {
        "id": "hd_quoiVfZ-l",
        "outputId": "424fdac2-7c3b-4d02-f7d3-699f93979421",
        "colab": {
          "base_uri": "https://localhost:8080/"
        }
      },
      "outputs": [
        {
          "output_type": "stream",
          "name": "stdout",
          "text": [
            "b is less than a\n"
          ]
        }
      ],
      "source": [
        "print(\"b is less than a\") if a > b else print(\"b is greater than a\")"
      ]
    },
    {
      "cell_type": "markdown",
      "metadata": {
        "id": "5uE4fmo8fZ-l"
      },
      "source": [
        "### and & or\n",
        "The `and` and `or` keyword are logical operators, and are used to combine conditional statements:"
      ]
    },
    {
      "cell_type": "code",
      "execution_count": 83,
      "metadata": {
        "id": "gO8-DpTWfZ-m",
        "outputId": "8539965d-af74-4078-d1a0-8498d3ca7b6b",
        "colab": {
          "base_uri": "https://localhost:8080/"
        }
      },
      "outputs": [
        {
          "output_type": "stream",
          "name": "stdout",
          "text": [
            "Both numbers are positive\n"
          ]
        }
      ],
      "source": [
        "if a > 0 and b > 0:\n",
        "    print(\"Both numbers are positive\")"
      ]
    },
    {
      "cell_type": "code",
      "execution_count": null,
      "metadata": {
        "id": "_o_JvtccfZ-n",
        "outputId": "c877d544-1523-4ae6-bc87-f1e14fb8641e",
        "colab": {
          "base_uri": "https://localhost:8080/"
        }
      },
      "outputs": [
        {
          "output_type": "stream",
          "name": "stdout",
          "text": [
            "At least one number is positive\n"
          ]
        }
      ],
      "source": [
        "a = 10\n",
        "b = -10\n",
        "if a > 0 or b > 0:\n",
        "    print(\"At least one number is positive\")"
      ]
    },
    {
      "cell_type": "markdown",
      "metadata": {
        "id": "JsyhzME3fZ-n"
      },
      "source": [
        "## For loops\n",
        "- A for loop is used for iterating over a sequence (that is either a list, a tuple, a dictionary, a set, or a string).\n",
        "\n",
        "- With the for loop we can execute a set of statements, once for each item in a list, tuple, set etc."
      ]
    },
    {
      "cell_type": "code",
      "execution_count": null,
      "metadata": {
        "id": "NHZAQja6fZ-o",
        "outputId": "5db5001c-2db2-4ced-d425-b50842434ba3",
        "colab": {
          "base_uri": "https://localhost:8080/"
        }
      },
      "outputs": [
        {
          "output_type": "stream",
          "name": "stdout",
          "text": [
            "0\n",
            "1\n",
            "2\n",
            "3\n",
            "4\n",
            "5\n",
            "6\n",
            "7\n",
            "8\n",
            "9\n"
          ]
        }
      ],
      "source": [
        "numbers = [0, 1, 2, 3, 4, 5, 6, 7, 8, 9]\n",
        "for number in numbers:\n",
        "    print(number)"
      ]
    },
    {
      "cell_type": "code",
      "execution_count": null,
      "metadata": {
        "id": "Y6-vIkPbfZ-o",
        "outputId": "b929d101-3d73-4887-8cde-3fa1b8be49b7",
        "colab": {
          "base_uri": "https://localhost:8080/"
        }
      },
      "outputs": [
        {
          "output_type": "stream",
          "name": "stdout",
          "text": [
            "V\n",
            "I\n",
            "E\n",
            "T\n",
            "N\n",
            "A\n",
            "M\n"
          ]
        }
      ],
      "source": [
        "for x in \"VIETNAM\":\n",
        "    print(x)"
      ]
    },
    {
      "cell_type": "markdown",
      "metadata": {
        "id": "K7g_ETb6fZ-p"
      },
      "source": [
        "## break statement\n",
        "With the break statement we can stop the loop before it has looped through all the items"
      ]
    },
    {
      "cell_type": "code",
      "execution_count": null,
      "metadata": {
        "id": "Twwl2SRafZ-p",
        "outputId": "3d9dbcce-e817-4b9f-fef6-c123672b94a8",
        "colab": {
          "base_uri": "https://localhost:8080/"
        }
      },
      "outputs": [
        {
          "output_type": "stream",
          "name": "stdout",
          "text": [
            "Hanoi\n",
            "Ho Chi Minh\n"
          ]
        }
      ],
      "source": [
        "cities = [\"Hanoi\", \"Ho Chi Minh\", \"Da Nang\"]\n",
        "for i in cities:\n",
        "    print(i)\n",
        "    if i == \"Ho Chi Minh\":\n",
        "        break"
      ]
    },
    {
      "cell_type": "markdown",
      "metadata": {
        "id": "KX7SXhkjfZ-q"
      },
      "source": [
        "## continue statement\n",
        "With the continue statement we can stop the current iteration of the loop, and continue with the next:"
      ]
    },
    {
      "cell_type": "code",
      "execution_count": null,
      "metadata": {
        "id": "NdDPi0t3fZ-q",
        "outputId": "8fdaa9df-55e2-450c-d7e3-b1fc67a63544",
        "colab": {
          "base_uri": "https://localhost:8080/"
        }
      },
      "outputs": [
        {
          "output_type": "stream",
          "name": "stdout",
          "text": [
            "Hanoi\n",
            "Da Nang\n"
          ]
        }
      ],
      "source": [
        "cities = [\"Hanoi\", \"Ho Chi Minh\", \"Da Nang\"]\n",
        "for i in cities:\n",
        "    if i == \"Ho Chi Minh\":\n",
        "        continue\n",
        "    print(i)"
      ]
    },
    {
      "cell_type": "markdown",
      "metadata": {
        "id": "ju822yPcfZ-r"
      },
      "source": [
        "## range function\n",
        "range(start, end, stop) is a very useful built-in function that returns an iterable"
      ]
    },
    {
      "cell_type": "code",
      "execution_count": null,
      "metadata": {
        "id": "dsQCfu5cfZ-r",
        "outputId": "b789e305-3001-4140-838f-6db58fc00760",
        "colab": {
          "base_uri": "https://localhost:8080/"
        }
      },
      "outputs": [
        {
          "output_type": "stream",
          "name": "stdout",
          "text": [
            "1\n",
            "2\n",
            "3\n",
            "4\n",
            "5\n",
            "6\n",
            "7\n",
            "8\n",
            "9\n"
          ]
        }
      ],
      "source": [
        "for i in range(1, 10):\n",
        "    print(i)"
      ]
    },
    {
      "cell_type": "code",
      "execution_count": null,
      "metadata": {
        "id": "kcQ56nDkfZ-s",
        "outputId": "a7430b87-e9c8-4306-b310-0b92e2ded946",
        "colab": {
          "base_uri": "https://localhost:8080/"
        }
      },
      "outputs": [
        {
          "output_type": "stream",
          "name": "stdout",
          "text": [
            "2\n",
            "4\n",
            "6\n",
            "8\n"
          ]
        }
      ],
      "source": [
        "for i in range(2, 10, 2):\n",
        "    print(i)"
      ]
    },
    {
      "cell_type": "code",
      "execution_count": null,
      "metadata": {
        "id": "UzbKMjY2fZ-t",
        "outputId": "184e9fe3-dcd5-426d-caeb-76b45c00fba9",
        "colab": {
          "base_uri": "https://localhost:8080/"
        }
      },
      "outputs": [
        {
          "output_type": "stream",
          "name": "stdout",
          "text": [
            "9\n",
            "8\n",
            "7\n",
            "6\n",
            "5\n",
            "4\n",
            "3\n",
            "2\n",
            "1\n",
            "0\n"
          ]
        }
      ],
      "source": [
        "for i in range(9, -1, -1):\n",
        "    print(i)"
      ]
    },
    {
      "cell_type": "code",
      "execution_count": null,
      "metadata": {
        "id": "PEyPG53zfZ-t",
        "outputId": "5a918719-2444-40b5-bc99-a22a6bf9b8ba",
        "colab": {
          "base_uri": "https://localhost:8080/"
        }
      },
      "outputs": [
        {
          "output_type": "stream",
          "name": "stdout",
          "text": [
            "9\n",
            "8\n",
            "7\n",
            "6\n",
            "5\n",
            "4\n",
            "3\n",
            "2\n",
            "1\n",
            "0\n"
          ]
        }
      ],
      "source": [
        "for i in reversed(range(10)):\n",
        "    print(i)"
      ]
    },
    {
      "cell_type": "markdown",
      "metadata": {
        "id": "_bZJMr8ofZ-u"
      },
      "source": [
        "The following program, which combines the `for` statement with the `range` and `len` functions, is often used."
      ]
    },
    {
      "cell_type": "code",
      "execution_count": null,
      "metadata": {
        "id": "OkMe4EPVfZ-v",
        "outputId": "debd1756-fcd6-46bb-c311-9a6675d006ad",
        "colab": {
          "base_uri": "https://localhost:8080/"
        }
      },
      "outputs": [
        {
          "output_type": "stream",
          "name": "stdout",
          "text": [
            "The average monthly temperature of month #1 is 6 degrees.\n",
            "The average monthly temperature of month #2 is 7 degrees.\n",
            "The average monthly temperature of month #3 is 9 degrees.\n",
            "The average monthly temperature of month #4 is 15 degrees.\n",
            "The average monthly temperature of month #5 is 20 degrees.\n",
            "The average monthly temperature of month #6 is 22 degrees.\n",
            "The average monthly temperature of month #7 is 27 degrees.\n",
            "The average monthly temperature of month #8 is 26 degrees.\n",
            "The average monthly temperature of month #9 is 23 degrees.\n",
            "The average monthly temperature of month #10 is 17 degrees.\n",
            "The average monthly temperature of month #11 is 12 degrees.\n",
            "The average monthly temperature of month #12 is 7 degrees.\n"
          ]
        }
      ],
      "source": [
        "monthly_average_temperatures = [6, 7, 9, 15, 20, 22, 27, 26, 23, 17, 12, 7]\n",
        "for i in range(len(monthly_average_temperatures)):\n",
        "    print(\"The average monthly temperature of month #{} is {} degrees.\".format(i+1, monthly_average_temperatures[i]))"
      ]
    },
    {
      "cell_type": "markdown",
      "metadata": {
        "id": "9SLBQDXhfZ-w"
      },
      "source": [
        "## enumerate function\n",
        "- The built-in enumerate function is useful when you want to use information about how many times it is repeated. The above example can be rewritten as follows, which is often more convenient.\n",
        "- It returns a tuple of the form \"count of iterations, element\". It receives it as a tuple like i, temperature."
      ]
    },
    {
      "cell_type": "code",
      "execution_count": null,
      "metadata": {
        "id": "IrF8rpDJfZ-x",
        "outputId": "068fac47-f4ed-401d-c4f6-aa6d888eb54f",
        "colab": {
          "base_uri": "https://localhost:8080/"
        }
      },
      "outputs": [
        {
          "output_type": "stream",
          "name": "stdout",
          "text": [
            "The average monthly temperature of month #1 is 6 degrees.\n",
            "The average monthly temperature of month #2 is 7 degrees.\n",
            "The average monthly temperature of month #3 is 9 degrees.\n",
            "The average monthly temperature of month #4 is 15 degrees.\n",
            "The average monthly temperature of month #5 is 20 degrees.\n",
            "The average monthly temperature of month #6 is 22 degrees.\n",
            "The average monthly temperature of month #7 is 27 degrees.\n",
            "The average monthly temperature of month #8 is 26 degrees.\n",
            "The average monthly temperature of month #9 is 23 degrees.\n",
            "The average monthly temperature of month #10 is 17 degrees.\n",
            "The average monthly temperature of month #11 is 12 degrees.\n",
            "The average monthly temperature of month #12 is 7 degrees.\n"
          ]
        }
      ],
      "source": [
        "monthly_average_temperatures = [6, 7, 9, 15, 20, 22, 27, 26, 23, 17, 12, 7]\n",
        "for i, temperature in enumerate(monthly_average_temperatures):\n",
        "    print(\"The average monthly temperature of month #{} is {} degrees.\".format(i+1, temperature))"
      ]
    },
    {
      "cell_type": "markdown",
      "metadata": {
        "id": "dmPEttlofZ-x"
      },
      "source": [
        "## zip function\n",
        "The above example of 12 months using the enumerate function is a bit confusing because it does \"i+1\". The zip function is a built-in function for extracting multiple iterable objects at the same time, and like the enumerate function, it takes a tuple."
      ]
    },
    {
      "cell_type": "code",
      "execution_count": null,
      "metadata": {
        "id": "YOivtHSqfZ-y",
        "outputId": "f1d7a0be-2544-4b3b-d8db-01efe9f4d55c",
        "colab": {
          "base_uri": "https://localhost:8080/"
        }
      },
      "outputs": [
        {
          "output_type": "stream",
          "name": "stdout",
          "text": [
            "The average monthly temperature of month #1 is 6 degrees.\n",
            "The average monthly temperature of month #2 is 7 degrees.\n",
            "The average monthly temperature of month #3 is 9 degrees.\n",
            "The average monthly temperature of month #4 is 15 degrees.\n",
            "The average monthly temperature of month #5 is 20 degrees.\n",
            "The average monthly temperature of month #6 is 22 degrees.\n",
            "The average monthly temperature of month #7 is 27 degrees.\n",
            "The average monthly temperature of month #8 is 26 degrees.\n",
            "The average monthly temperature of month #9 is 23 degrees.\n",
            "The average monthly temperature of month #10 is 17 degrees.\n",
            "The average monthly temperature of month #11 is 12 degrees.\n",
            "The average monthly temperature of month #12 is 7 degrees.\n"
          ]
        }
      ],
      "source": [
        "MONTH_NUMBERS = list(range(1,13))\n",
        "monthly_average_temperatures = [6, 7, 9, 15, 20, 22, 27, 26, 23, 17, 12, 7]\n",
        "for month_number, temperature in zip(MONTH_NUMBERS, monthly_average_temperatures):\n",
        "    print(\"The average monthly temperature of month #{} is {} degrees.\".format(month_number, temperature))"
      ]
    },
    {
      "cell_type": "markdown",
      "metadata": {
        "id": "5v9QCJRmfZ-z"
      },
      "source": [
        "## else in for loop\n",
        "The else keyword in a for loop specifies a block of code to be executed when the loop is finished:"
      ]
    },
    {
      "cell_type": "code",
      "execution_count": null,
      "metadata": {
        "id": "47imaLzjfZ-z",
        "outputId": "a2299964-9668-4840-bba7-b6d51e2771cb",
        "colab": {
          "base_uri": "https://localhost:8080/"
        }
      },
      "outputs": [
        {
          "output_type": "stream",
          "name": "stdout",
          "text": [
            "0\n",
            "1\n",
            "2\n",
            "3\n",
            "4\n",
            "5\n",
            "6\n",
            "7\n",
            "8\n",
            "9\n",
            "Count finished!\n"
          ]
        }
      ],
      "source": [
        "for x in range(10):\n",
        "    print(x)\n",
        "else:\n",
        "    print(\"Count finished!\")"
      ]
    },
    {
      "cell_type": "markdown",
      "metadata": {
        "id": "xT0VwjmPfZ-1"
      },
      "source": [
        "## While loops\n",
        "With the while loop we can execute a set of statements as long as a condition is true."
      ]
    },
    {
      "cell_type": "code",
      "execution_count": null,
      "metadata": {
        "id": "rjyo3hN3fZ-2",
        "outputId": "c2e8b8d4-c1ea-488e-85eb-9f646901522b",
        "colab": {
          "base_uri": "https://localhost:8080/"
        }
      },
      "outputs": [
        {
          "output_type": "stream",
          "name": "stdout",
          "text": [
            "1\n",
            "2\n",
            "3\n",
            "4\n",
            "5\n",
            "6\n",
            "7\n",
            "8\n",
            "9\n"
          ]
        }
      ],
      "source": [
        "i = 1\n",
        "while i < 10:\n",
        "    print(i)\n",
        "    i += 1 # increment by 1"
      ]
    },
    {
      "cell_type": "markdown",
      "metadata": {
        "id": "fi5ERwDDfZ-2"
      },
      "source": [
        "### break statement\n",
        "With the break statement we can stop the loop even if the while condition is true:"
      ]
    },
    {
      "cell_type": "code",
      "execution_count": null,
      "metadata": {
        "id": "3jfirfYcfZ-3",
        "outputId": "9bfd4a4e-e4ed-466c-a8c0-cf31ea36749e",
        "colab": {
          "base_uri": "https://localhost:8080/"
        }
      },
      "outputs": [
        {
          "output_type": "stream",
          "name": "stdout",
          "text": [
            "1\n",
            "2\n",
            "3\n",
            "4\n",
            "5\n",
            "6\n",
            "7\n",
            "8\n",
            "9\n",
            "10\n"
          ]
        }
      ],
      "source": [
        "i = 1\n",
        "while i < 100:\n",
        "    print(i)\n",
        "    if i == 10:\n",
        "        break\n",
        "    i += 1"
      ]
    },
    {
      "cell_type": "markdown",
      "metadata": {
        "id": "LWMQFHDrfZ-3"
      },
      "source": [
        "### continue statement\n",
        "With the continue statement we can stop the current iteration, and continue with the next:"
      ]
    },
    {
      "cell_type": "code",
      "execution_count": null,
      "metadata": {
        "id": "wCkD2dgHfZ-4",
        "outputId": "e06a137a-ca73-408d-94c7-d76d997db872",
        "colab": {
          "base_uri": "https://localhost:8080/"
        }
      },
      "outputs": [
        {
          "output_type": "stream",
          "name": "stdout",
          "text": [
            "1\n",
            "2\n",
            "3\n",
            "4\n",
            "6\n",
            "7\n",
            "8\n",
            "9\n",
            "10\n"
          ]
        }
      ],
      "source": [
        "i = 0\n",
        "while i < 10:\n",
        "    i += 1\n",
        "    if i == 5:\n",
        "        continue\n",
        "    print(i)"
      ]
    },
    {
      "cell_type": "markdown",
      "metadata": {
        "id": "S2cQnxiafZ-4"
      },
      "source": [
        "### else statement\n",
        "With the else statement we can run a block of code once when the condition no longer is true:"
      ]
    },
    {
      "cell_type": "code",
      "execution_count": null,
      "metadata": {
        "id": "Pf1jacJhfZ-5",
        "outputId": "4880f0ce-aaee-4f6c-f251-5e3e959ef28a",
        "colab": {
          "base_uri": "https://localhost:8080/"
        }
      },
      "outputs": [
        {
          "output_type": "stream",
          "name": "stdout",
          "text": [
            "10\n",
            "9\n",
            "8\n",
            "7\n",
            "6\n",
            "5\n",
            "4\n",
            "3\n",
            "2\n",
            "1\n",
            "0\n",
            "i has become negative\n"
          ]
        }
      ],
      "source": [
        "i = 10\n",
        "while i >= 0:\n",
        "    print(i)\n",
        "    i -= 1\n",
        "else:\n",
        "    print(\"i has become negative\")"
      ]
    },
    {
      "cell_type": "markdown",
      "metadata": {
        "id": "406S0gd9fZ-5"
      },
      "source": [
        "<div class =\"alert alert-block alert-warning\" style='text-align:center'>\n",
        "<h2> Data structures </h2>\n",
        "</div>"
      ]
    },
    {
      "cell_type": "markdown",
      "metadata": {
        "id": "OxPYQyQmfZ-6"
      },
      "source": [
        "A data structure is a variable capable of containing several values at once. It can form a sequence if the values in it are arranged in a certain order. This is the case for `lists` and `tuples`. Conversely, a `dictionary` does not form a sequence."
      ]
    },
    {
      "cell_type": "markdown",
      "metadata": {
        "id": "0LrT6yZnfZ-6"
      },
      "source": [
        "### 1. Lists\n",
        "A list stores a series of items in a particular order. Lists allow you to store sets of information in one places. They are one of Python's most powerful features readily accessible to new programmers, and they tie together many important concepts in programming."
      ]
    },
    {
      "cell_type": "markdown",
      "metadata": {
        "id": "U7pdyJTbfZ-7"
      },
      "source": [
        "#### Defining a list\n",
        "Use square brackets to define a list, and use commas to separate individual items in the list. Use plural names for lists, to make your code easier to read."
      ]
    },
    {
      "cell_type": "code",
      "execution_count": null,
      "metadata": {
        "id": "ADeIBtQWfZ-7"
      },
      "outputs": [],
      "source": [
        "numbers = [1, 2, 4, 8, 20]\n",
        "capitals = [\"Tokyo\", \"Hanoi\", \"Kigali\", \"Dakar\"]\n",
        "nested_list = [numbers, capitals] # a list can contain lists, this is called nested list"
      ]
    },
    {
      "cell_type": "code",
      "execution_count": null,
      "metadata": {
        "id": "4e3tLqAdfZ-7",
        "outputId": "7b52fa73-5a81-49f6-bf9a-9adaa10fa661",
        "colab": {
          "base_uri": "https://localhost:8080/"
        }
      },
      "outputs": [
        {
          "output_type": "stream",
          "name": "stdout",
          "text": [
            "['Tokyo', 'Hanoi', 'Kigali', 'Dakar']\n"
          ]
        }
      ],
      "source": [
        "print(capitals)"
      ]
    },
    {
      "cell_type": "markdown",
      "metadata": {
        "id": "hbFMrDNbfZ-8"
      },
      "source": [
        "#### Accessing elements\n",
        "Individual elements in a list are accessed according to their position, called the index. The index of the first element is 0, the index of the second element is 1, and so forth. Negative indices refer to items at the end of the list. To get a particular element, write the name of the list and then the index of the element in square brackets."
      ]
    },
    {
      "cell_type": "code",
      "execution_count": null,
      "metadata": {
        "id": "eolPAERIfZ-8",
        "outputId": "791516a6-097e-4c70-dd8d-9a132071af7a",
        "colab": {
          "base_uri": "https://localhost:8080/",
          "height": 35
        }
      },
      "outputs": [
        {
          "output_type": "execute_result",
          "data": {
            "text/plain": [
              "'Tokyo'"
            ],
            "application/vnd.google.colaboratory.intrinsic+json": {
              "type": "string"
            }
          },
          "metadata": {},
          "execution_count": 48
        }
      ],
      "source": [
        "# Getting the first element\n",
        "capitals[0]"
      ]
    },
    {
      "cell_type": "code",
      "execution_count": null,
      "metadata": {
        "id": "Ddajz0SNfZ-9",
        "outputId": "98d4b5e1-f733-43a3-af55-dc5423061d00",
        "colab": {
          "base_uri": "https://localhost:8080/",
          "height": 35
        }
      },
      "outputs": [
        {
          "output_type": "execute_result",
          "data": {
            "text/plain": [
              "'Hanoi'"
            ],
            "application/vnd.google.colaboratory.intrinsic+json": {
              "type": "string"
            }
          },
          "metadata": {},
          "execution_count": 49
        }
      ],
      "source": [
        "# Getting the second element\n",
        "capitals[1]"
      ]
    },
    {
      "cell_type": "code",
      "execution_count": null,
      "metadata": {
        "id": "qLQUtXk0fZ--",
        "outputId": "ae855dbf-8b31-46c1-fdf4-34f07d173d51",
        "colab": {
          "base_uri": "https://localhost:8080/",
          "height": 35
        }
      },
      "outputs": [
        {
          "output_type": "execute_result",
          "data": {
            "text/plain": [
              "'Dakar'"
            ],
            "application/vnd.google.colaboratory.intrinsic+json": {
              "type": "string"
            }
          },
          "metadata": {},
          "execution_count": 50
        }
      ],
      "source": [
        "# Getting the last element\n",
        "capitals[-1]"
      ]
    },
    {
      "cell_type": "markdown",
      "metadata": {
        "id": "dJSTxpEbfZ-_"
      },
      "source": [
        "#### Modifying individual items\n",
        "Once you've defined a list, you can change individual elements in the list. You do this by referring to the index of the item you want to modify."
      ]
    },
    {
      "cell_type": "code",
      "execution_count": null,
      "metadata": {
        "id": "S5ewidutfZ-_",
        "outputId": "53400fe8-7a7d-4843-a525-c760e7fcd3d9",
        "colab": {
          "base_uri": "https://localhost:8080/"
        }
      },
      "outputs": [
        {
          "output_type": "stream",
          "name": "stdout",
          "text": [
            "['Washington', 'Hanoi', 'Paris', 'Dakar']\n"
          ]
        }
      ],
      "source": [
        "# Changing an element\n",
        "capitals[0]= 'Washington'\n",
        "capitals[-2] = 'Paris'\n",
        "\n",
        "print(capitals)"
      ]
    },
    {
      "cell_type": "markdown",
      "metadata": {
        "id": "lxWtvWhzfZ_A"
      },
      "source": [
        "#### Adding elements\n",
        "You can add elements to the end of a list, or you can insert them wherever you like in a list."
      ]
    },
    {
      "cell_type": "code",
      "execution_count": null,
      "metadata": {
        "id": "o6j98znHfZ_B",
        "outputId": "7c78e782-7b19-4eac-8c64-311fabdf7108",
        "colab": {
          "base_uri": "https://localhost:8080/"
        }
      },
      "outputs": [
        {
          "output_type": "stream",
          "name": "stdout",
          "text": [
            "['Washington', 'Hanoi', 'Paris', 'Dakar', 'London']\n"
          ]
        }
      ],
      "source": [
        "# Adding an element to the end of the list\n",
        "capitals.append('London')\n",
        "\n",
        "print(capitals)"
      ]
    },
    {
      "cell_type": "code",
      "execution_count": null,
      "metadata": {
        "id": "9wUNRQMCfZ_C",
        "outputId": "1ba053fb-e864-4294-ec60-5c9330270d48",
        "colab": {
          "base_uri": "https://localhost:8080/"
        }
      },
      "outputs": [
        {
          "output_type": "stream",
          "name": "stdout",
          "text": [
            "['cedrick', 'diop', 'jules']\n"
          ]
        }
      ],
      "source": [
        "# Starting with an empty list\n",
        "mentors = []\n",
        "mentors.append('cedrick')\n",
        "mentors.append('diop')\n",
        "mentors.append('jules')\n",
        "\n",
        "print(mentors)"
      ]
    },
    {
      "cell_type": "code",
      "execution_count": null,
      "metadata": {
        "id": "cSxgJ4FufZ_D",
        "outputId": "b5741c6f-b857-4d26-8d7a-5a8ad2475ad1",
        "colab": {
          "base_uri": "https://localhost:8080/"
        }
      },
      "outputs": [
        {
          "output_type": "stream",
          "name": "stdout",
          "text": [
            "['Tokyo', 'Washington', 'Hanoi', 'Paris', 'Dakar', 'London']\n",
            "['cedrick', 'diop', 'jules', 'ali']\n"
          ]
        }
      ],
      "source": [
        "# Inserting elements at a particular position\n",
        "capitals.insert(0, 'Tokyo')\n",
        "print(capitals)\n",
        "\n",
        "mentors.insert(3, 'ali')\n",
        "print(mentors)"
      ]
    },
    {
      "cell_type": "markdown",
      "metadata": {
        "id": "CUrLDpoRfZ_D"
      },
      "source": [
        "#### Removing elements\n",
        "You can remove elements by their position in a list, or by the value of the item. If you remove an item by its value, Python removes only the first item that has that value."
      ]
    },
    {
      "cell_type": "code",
      "execution_count": null,
      "metadata": {
        "id": "aQSQ_H3ufZ_E",
        "outputId": "2bfcebdd-2148-4af5-89fd-22515062b9e8",
        "colab": {
          "base_uri": "https://localhost:8080/"
        }
      },
      "outputs": [
        {
          "output_type": "stream",
          "name": "stdout",
          "text": [
            "['Tokyo', 'Washington', 'Hanoi', 'Paris', 'Dakar']\n"
          ]
        }
      ],
      "source": [
        "# Deleting an element by its position\n",
        "del capitals[-1]\n",
        "\n",
        "print(capitals)"
      ]
    },
    {
      "cell_type": "code",
      "execution_count": null,
      "metadata": {
        "id": "AE0pNFT7fZ_E",
        "outputId": "49f4eef0-7f61-4dfe-d94b-2eb3ae688dab",
        "colab": {
          "base_uri": "https://localhost:8080/"
        }
      },
      "outputs": [
        {
          "output_type": "stream",
          "name": "stdout",
          "text": [
            "['Tokyo', 'Hanoi', 'Paris', 'Dakar']\n"
          ]
        }
      ],
      "source": [
        "# Removing an item by its value\n",
        "capitals.remove('Washington')\n",
        "\n",
        "print(capitals)"
      ]
    },
    {
      "cell_type": "markdown",
      "metadata": {
        "id": "mHeTj-5AfZ_F"
      },
      "source": [
        "#### Popping elements\n",
        "If you want to work with an element that you're removing from the list, you can \"pop\" the element. If you think of the list as a stack of items, `pop()` takes an item off the top of the stack. By default pop() returns the last element in the list, but you can also pop elements from any position in the lists."
      ]
    },
    {
      "cell_type": "code",
      "execution_count": null,
      "metadata": {
        "id": "X7jlJ3eFfZ_F",
        "outputId": "8b151382-c30b-4461-f8e1-3394eb361f4c",
        "colab": {
          "base_uri": "https://localhost:8080/"
        }
      },
      "outputs": [
        {
          "output_type": "stream",
          "name": "stdout",
          "text": [
            "ali\n",
            "['cedrick', 'diop', 'jules']\n"
          ]
        }
      ],
      "source": [
        "# Pop the last item from a list\n",
        "last_mentor = mentors.pop()\n",
        "\n",
        "print(last_mentor)\n",
        "print(mentors)"
      ]
    },
    {
      "cell_type": "code",
      "execution_count": null,
      "metadata": {
        "id": "GpKjQAFufZ_G",
        "outputId": "0552402e-8f5e-4762-c811-d8477384a2f2",
        "colab": {
          "base_uri": "https://localhost:8080/"
        }
      },
      "outputs": [
        {
          "output_type": "stream",
          "name": "stdout",
          "text": [
            "Tokyo\n",
            "['Hanoi', 'Paris', 'Dakar']\n"
          ]
        }
      ],
      "source": [
        "# Pop the first item in a list\n",
        "first_capital = capitals.pop(0)\n",
        "\n",
        "print(first_capital)\n",
        "print(capitals)"
      ]
    },
    {
      "cell_type": "markdown",
      "metadata": {
        "id": "_UzR8FRPfZ_H"
      },
      "source": [
        "#### List length\n",
        "The `len()` function returns the number of items in a list."
      ]
    },
    {
      "cell_type": "code",
      "execution_count": null,
      "metadata": {
        "id": "ullqJE_IfZ_I",
        "outputId": "f03d338a-56a5-4dd3-9db4-f75bcd87dd7b",
        "colab": {
          "base_uri": "https://localhost:8080/"
        }
      },
      "outputs": [
        {
          "output_type": "stream",
          "name": "stdout",
          "text": [
            "There are 3 mentors.\n"
          ]
        }
      ],
      "source": [
        "# Find the length of a list\n",
        "num_mentors = len(mentors)\n",
        "print(\"There are \" + str(num_mentors) + \" mentors.\")"
      ]
    },
    {
      "cell_type": "markdown",
      "metadata": {
        "id": "_-Fw7Ep5fZ_J"
      },
      "source": [
        "#### Sorting a list\n",
        "The `sort()` method changes the order of a list permanently. The `sorted()` function returns a copy of the list, leaving the original list unchanged. You can sort the items in a list in alphabetical order, or reverse alphabetical order. You can also reverse the original order of the list. Keep in mind that lowercase and uppercase letters may affect the sort order."
      ]
    },
    {
      "cell_type": "code",
      "execution_count": null,
      "metadata": {
        "id": "jvJYZzk0fZ_J",
        "outputId": "900b5d75-40e6-42a3-f2c4-bd96873748c4",
        "colab": {
          "base_uri": "https://localhost:8080/"
        }
      },
      "outputs": [
        {
          "output_type": "stream",
          "name": "stdout",
          "text": [
            "['Dakar', 'Hanoi', 'Paris']\n"
          ]
        }
      ],
      "source": [
        "# Sorting a list permanently\n",
        "capitals.sort()\n",
        "\n",
        "print(capitals)"
      ]
    },
    {
      "cell_type": "code",
      "execution_count": null,
      "metadata": {
        "id": "kYDfOcgjfZ_K",
        "outputId": "2d81de72-d7b6-4b55-98b1-ff7003bd465f",
        "colab": {
          "base_uri": "https://localhost:8080/"
        }
      },
      "outputs": [
        {
          "output_type": "stream",
          "name": "stdout",
          "text": [
            "['Paris', 'Hanoi', 'Dakar']\n"
          ]
        }
      ],
      "source": [
        "# Sorting a list permanently in reverse alphabetical order\n",
        "capitals.sort(reverse=True)\n",
        "\n",
        "print(capitals)"
      ]
    },
    {
      "cell_type": "code",
      "execution_count": null,
      "metadata": {
        "id": "hD8jXukKfZ_L",
        "outputId": "5e0c4125-e86b-4cdc-de27-3015d398d1e1",
        "colab": {
          "base_uri": "https://localhost:8080/"
        }
      },
      "outputs": [
        {
          "output_type": "stream",
          "name": "stdout",
          "text": [
            "['ali', 'cedrick', 'diop', 'jules']\n",
            "['jules', 'diop', 'cedrick', 'ali']\n",
            "['diop', 'ali', 'cedrick', 'jules']\n"
          ]
        }
      ],
      "source": [
        "# Sorting a list temporarily\n",
        "mentors = ['diop', 'ali', 'cedrick', 'jules']\n",
        "\n",
        "print(sorted(mentors))\n",
        "print(sorted(mentors, reverse=True))\n",
        "print(mentors)"
      ]
    },
    {
      "cell_type": "code",
      "execution_count": null,
      "metadata": {
        "id": "yiSJndFIfZ_S",
        "outputId": "adb83b4c-3332-4dd3-eae5-65a4f213fa91",
        "colab": {
          "base_uri": "https://localhost:8080/"
        }
      },
      "outputs": [
        {
          "output_type": "stream",
          "name": "stdout",
          "text": [
            "['jules', 'cedrick', 'ali', 'diop']\n"
          ]
        }
      ],
      "source": [
        "# Reversing the order of a list\n",
        "\n",
        "mentors.reverse()\n",
        "\n",
        "print(mentors)"
      ]
    },
    {
      "cell_type": "markdown",
      "metadata": {
        "id": "8_zUbhwTfZ_T"
      },
      "source": [
        "#### Simple statistics\n",
        "There are a number of simple statistics you can run on a list containing numerical data."
      ]
    },
    {
      "cell_type": "code",
      "execution_count": null,
      "metadata": {
        "id": "-45h7A8OfZ_T",
        "outputId": "e59f26ea-10f6-400f-e13d-5731daf8de49",
        "colab": {
          "base_uri": "https://localhost:8080/"
        }
      },
      "outputs": [
        {
          "output_type": "stream",
          "name": "stdout",
          "text": [
            "1\n"
          ]
        }
      ],
      "source": [
        "# Finding the minimum value in a list\n",
        "ages = [93, 99, 66, 17, 85, 1, 35, 82, 2, 77]\n",
        "\n",
        "youngest = min(ages)\n",
        "\n",
        "print(youngest)"
      ]
    },
    {
      "cell_type": "code",
      "execution_count": null,
      "metadata": {
        "id": "0_AYdlmrfZ_U",
        "outputId": "d26760d4-d62a-4a80-b9f8-39eaf782cfef",
        "colab": {
          "base_uri": "https://localhost:8080/"
        }
      },
      "outputs": [
        {
          "output_type": "stream",
          "name": "stdout",
          "text": [
            "99\n"
          ]
        }
      ],
      "source": [
        "# Finding the maximum value\n",
        "oldest = max(ages)\n",
        "\n",
        "print(oldest)"
      ]
    },
    {
      "cell_type": "code",
      "execution_count": null,
      "metadata": {
        "id": "daaAOC1EfZ_V",
        "outputId": "afe4dc91-8457-43bc-fd50-478147e74449",
        "colab": {
          "base_uri": "https://localhost:8080/"
        }
      },
      "outputs": [
        {
          "output_type": "stream",
          "name": "stdout",
          "text": [
            "557\n"
          ]
        }
      ],
      "source": [
        "# Finding the sum of all values\n",
        "total_years = sum(ages)\n",
        "\n",
        "print(total_years)"
      ]
    },
    {
      "cell_type": "markdown",
      "metadata": {
        "id": "IFY3_YrKfZ_V"
      },
      "source": [
        "#### Slicing a list\n",
        "`Slicing (start (included) : end (excluded) : stop)`  \n",
        "You can work with any set of elements from a list. A portion of a list is called a slice. To slice a list start with the index of the first item you want, then add a colon and the index after the last item you want. Leave off the first index to start at the beginning of the list, and leave off the last index to slice through the end of the list."
      ]
    },
    {
      "cell_type": "code",
      "execution_count": null,
      "metadata": {
        "id": "OP7ScXe4fZ_W",
        "outputId": "6f464e3b-0f36-4318-bb50-80c99d6f1629",
        "colab": {
          "base_uri": "https://localhost:8080/"
        }
      },
      "outputs": [
        {
          "output_type": "stream",
          "name": "stdout",
          "text": [
            "['english', 'japanese', 'french']\n"
          ]
        }
      ],
      "source": [
        "# Getting the first three items\n",
        "languages = ['english', 'japanese', 'french', 'vietnamese', 'spanish']\n",
        "\n",
        "first_three = languages[:3]\n",
        "\n",
        "print(first_three)"
      ]
    },
    {
      "cell_type": "code",
      "execution_count": null,
      "metadata": {
        "id": "W_VpG_AVfZ_W",
        "outputId": "fa9cde40-7b4c-4074-cf9b-b912565164c2",
        "colab": {
          "base_uri": "https://localhost:8080/"
        }
      },
      "outputs": [
        {
          "output_type": "stream",
          "name": "stdout",
          "text": [
            "['japanese', 'french', 'vietnamese']\n"
          ]
        }
      ],
      "source": [
        "# Getting the middle three items\n",
        "middle_three = languages[1:4]\n",
        "\n",
        "print(middle_three)"
      ]
    },
    {
      "cell_type": "code",
      "execution_count": null,
      "metadata": {
        "id": "yMNF8qJ1fZ_X",
        "outputId": "253e787e-9d4a-4073-aee9-8f7f7b320370",
        "colab": {
          "base_uri": "https://localhost:8080/"
        }
      },
      "outputs": [
        {
          "output_type": "stream",
          "name": "stdout",
          "text": [
            "['french', 'vietnamese', 'spanish']\n"
          ]
        }
      ],
      "source": [
        "# Getting the last three items\n",
        "last_three = languages[2:]\n",
        "\n",
        "print(last_three)"
      ]
    },
    {
      "cell_type": "code",
      "execution_count": null,
      "metadata": {
        "id": "R3xkCZdPfZ_Y",
        "outputId": "8413616b-c241-4d64-bc14-86097bc2312c",
        "colab": {
          "base_uri": "https://localhost:8080/"
        }
      },
      "outputs": [
        {
          "output_type": "execute_result",
          "data": {
            "text/plain": [
              "['spanish', 'vietnamese', 'french', 'japanese', 'english']"
            ]
          },
          "metadata": {},
          "execution_count": 70
        }
      ],
      "source": [
        "# Getting the list in the reverse order\n",
        "languages[::-1]"
      ]
    },
    {
      "cell_type": "markdown",
      "metadata": {
        "id": "bw-DaCLRfZ_Z"
      },
      "source": [
        "#### Copying a list\n",
        "To copy a list, make a slice that starts at the first item and ends at the last item or use `copy()`."
      ]
    },
    {
      "cell_type": "code",
      "execution_count": null,
      "metadata": {
        "id": "k-qrJpexfZ_a",
        "outputId": "f0e9a2e9-f514-40f6-f469-085820e07144",
        "colab": {
          "base_uri": "https://localhost:8080/"
        }
      },
      "outputs": [
        {
          "output_type": "execute_result",
          "data": {
            "text/plain": [
              "['english', 'japanese', 'french', 'vietnamese', 'spanish']"
            ]
          },
          "metadata": {},
          "execution_count": 71
        }
      ],
      "source": [
        "copy_of_languages = languages[:]\n",
        "copy_of_languages"
      ]
    },
    {
      "cell_type": "code",
      "execution_count": null,
      "metadata": {
        "id": "z7fgRtdlfZ_b",
        "outputId": "f1e69c35-00f1-434a-ef6f-3604195772b7",
        "colab": {
          "base_uri": "https://localhost:8080/"
        }
      },
      "outputs": [
        {
          "output_type": "execute_result",
          "data": {
            "text/plain": [
              "['english', 'japanese', 'french', 'vietnamese', 'spanish']"
            ]
          },
          "metadata": {},
          "execution_count": 72
        }
      ],
      "source": [
        "languages_copy = languages.copy()\n",
        "languages_copy"
      ]
    },
    {
      "cell_type": "code",
      "execution_count": null,
      "metadata": {
        "id": "S3B6K4xofZ_b",
        "outputId": "bf0c4bbe-f817-4e33-c221-35c0e379bc06",
        "colab": {
          "base_uri": "https://localhost:8080/"
        }
      },
      "outputs": [
        {
          "output_type": "execute_result",
          "data": {
            "text/plain": [
              "list"
            ]
          },
          "metadata": {},
          "execution_count": 73
        }
      ],
      "source": [
        "type(languages_copy)"
      ]
    },
    {
      "cell_type": "markdown",
      "metadata": {
        "id": "OeYVQPHwfZ_c"
      },
      "source": [
        "#### List comprehensions\n",
        "You can use a loop to generate a list based on a range of numbers or on another list. This is a common operation, so Python offers a more efficient way to do it. To write a comprehension, define an expression for the values you want to store in the list. Then write a for loop to generate input values needed to make the list."
      ]
    },
    {
      "cell_type": "markdown",
      "metadata": {
        "id": "fqPM_tGbfZ_d"
      },
      "source": [
        "The two codes below each perform the same operation. We can see (thanks to the `%%time` command) that the execution time with comprehension list is much less than the execution time with the append() method."
      ]
    },
    {
      "cell_type": "code",
      "execution_count": null,
      "metadata": {
        "id": "IBv8KXB-fZ_d",
        "outputId": "0d15466e-b2a7-4630-9a55-ecd77e8ea653",
        "colab": {
          "base_uri": "https://localhost:8080/"
        }
      },
      "outputs": [
        {
          "output_type": "stream",
          "name": "stdout",
          "text": [
            "CPU times: user 5.99 ms, sys: 0 ns, total: 5.99 ms\n",
            "Wall time: 5.97 ms\n"
          ]
        }
      ],
      "source": [
        "%%time\n",
        "\n",
        "# Using a loop to generate a list of square numbers\n",
        "squares = []\n",
        "for x in range(10000):\n",
        "    square = x ** 2\n",
        "    squares.append(square)"
      ]
    },
    {
      "cell_type": "code",
      "execution_count": null,
      "metadata": {
        "id": "_mYx7bOEfZ_e",
        "outputId": "a11730ee-badf-49d0-e471-c875c8995507",
        "colab": {
          "base_uri": "https://localhost:8080/"
        }
      },
      "outputs": [
        {
          "output_type": "stream",
          "name": "stdout",
          "text": [
            "CPU times: user 5.43 ms, sys: 1.07 ms, total: 6.5 ms\n",
            "Wall time: 7.19 ms\n"
          ]
        }
      ],
      "source": [
        "%%time\n",
        "\n",
        "# Using a comprehension to generate a list of square numbers\n",
        "squares = [x**2 for x in range(10000)]"
      ]
    },
    {
      "cell_type": "code",
      "execution_count": null,
      "metadata": {
        "id": "VwG0C9z2fZ_f",
        "outputId": "6e3a8159-40ef-446c-a0b3-539aefe52f81",
        "colab": {
          "base_uri": "https://localhost:8080/"
        }
      },
      "outputs": [
        {
          "output_type": "stream",
          "name": "stdout",
          "text": [
            "['WINTER', 'SPRING', 'SUMMER', 'AUTUMN']\n"
          ]
        }
      ],
      "source": [
        "# Using a loop to convert a list of names to upper case\n",
        "seasons = ['winter', 'spring', 'summer', 'autumn']\n",
        "\n",
        "upper_case = []\n",
        "for season in seasons:\n",
        "    upper_case.append(season.upper())\n",
        "\n",
        "print(upper_case)"
      ]
    },
    {
      "cell_type": "code",
      "execution_count": null,
      "metadata": {
        "id": "Q7LDdW1WfZ_f",
        "outputId": "823a8b8f-fdc1-4362-d729-9260ee73680e",
        "colab": {
          "base_uri": "https://localhost:8080/"
        }
      },
      "outputs": [
        {
          "output_type": "stream",
          "name": "stdout",
          "text": [
            "['WINTER', 'SPRING', 'SUMMER', 'AUTUMN']\n"
          ]
        }
      ],
      "source": [
        "# Using a comprehension to convert a list of names to upper case\n",
        "upper_case = [season.upper() for season in seasons]\n",
        "\n",
        "print(upper_case)"
      ]
    },
    {
      "cell_type": "markdown",
      "metadata": {
        "id": "gzSvDhLZfZ_g"
      },
      "source": [
        "### 2. Tuples\n",
        "A tuple is like a list, except you can't change the values in a tuple once it's defined. Tuples are good for storing information that shouldn't be changed throughout the life of a program. Tuples are designated by parentheses instead of square brackets. (You can overwrite an entire tuple, but you can't change the individual elements in a tuple.)"
      ]
    },
    {
      "cell_type": "code",
      "execution_count": null,
      "metadata": {
        "id": "NlsvEqR_fZ_g",
        "outputId": "aff23079-2104-48ab-a230-df0e268e8a99",
        "colab": {
          "base_uri": "https://localhost:8080/"
        }
      },
      "outputs": [
        {
          "output_type": "stream",
          "name": "stdout",
          "text": [
            "(800, 600, 500, 150)\n"
          ]
        }
      ],
      "source": [
        "# Defining a tuple\n",
        "prices = (800, 600, 500, 150)\n",
        "\n",
        "print(prices)"
      ]
    },
    {
      "cell_type": "code",
      "execution_count": null,
      "metadata": {
        "id": "sYyZpHUqfZ_h",
        "outputId": "197444a7-16b7-4759-98cd-53a483f83dad",
        "colab": {
          "base_uri": "https://localhost:8080/"
        }
      },
      "outputs": [
        {
          "output_type": "stream",
          "name": "stdout",
          "text": [
            "800\n",
            "600\n",
            "500\n",
            "150\n"
          ]
        }
      ],
      "source": [
        "# Looping through a tuple\n",
        "for price in prices:\n",
        "    print(price)"
      ]
    },
    {
      "cell_type": "code",
      "execution_count": null,
      "metadata": {
        "id": "9RRml4s7fZ_h",
        "outputId": "a86364b7-9097-4b00-b681-886ad832ba2f",
        "colab": {
          "base_uri": "https://localhost:8080/"
        }
      },
      "outputs": [
        {
          "output_type": "execute_result",
          "data": {
            "text/plain": [
              "800"
            ]
          },
          "metadata": {},
          "execution_count": 80
        }
      ],
      "source": [
        "# Getting the first element\n",
        "prices[0]"
      ]
    },
    {
      "cell_type": "code",
      "execution_count": null,
      "metadata": {
        "id": "pbxVcPiWfZ_i",
        "outputId": "53600724-80de-4206-9d09-02a72cefcf18",
        "colab": {
          "base_uri": "https://localhost:8080/"
        }
      },
      "outputs": [
        {
          "output_type": "stream",
          "name": "stdout",
          "text": [
            "(800, 600, 500, 150)\n",
            "(100, 750, 2000, 5000)\n"
          ]
        }
      ],
      "source": [
        "# Overwriting a tuple\n",
        "print(prices)\n",
        "\n",
        "prices = (100, 750, 2000, 5000)\n",
        "print(prices)"
      ]
    },
    {
      "cell_type": "markdown",
      "metadata": {
        "id": "8TjqjwpyfZ_j"
      },
      "source": [
        "### 3. Dictionaries\n",
        "Python's dictionaries allow you to connect pieces of related information. Each piece of information in a dictionary is stored as a key-value pair. When you provide a key, Python returns the value associated with that key. You can loop through all the key-value pairs, all the keys, or all the values."
      ]
    },
    {
      "cell_type": "markdown",
      "metadata": {
        "id": "kLQkaZTGfZ_j"
      },
      "source": [
        "#### Defining a dictionary\n",
        "Use curly braces to define a dictionary. Use colons to connect keys and values, and use commas to separate individual key-value pairs."
      ]
    },
    {
      "cell_type": "code",
      "execution_count": null,
      "metadata": {
        "id": "E4tyO7DwfZ_j",
        "outputId": "e02722c9-0f90-4c1a-c894-f2eeba1aacab",
        "colab": {
          "base_uri": "https://localhost:8080/"
        }
      },
      "outputs": [
        {
          "output_type": "stream",
          "name": "stdout",
          "text": [
            "{'ceo': 'Noro', 'manager': 'Tomoya', 'lecturer': 'Diop', 'mentor': 'Cedrick'}\n"
          ]
        }
      ],
      "source": [
        "dic = {'ceo': 'Noro',\n",
        "       'manager': 'Tomoya',\n",
        "       'lecturer': 'Diop',\n",
        "       'mentor': 'Cedrick'}\n",
        "\n",
        "print(dic)"
      ]
    },
    {
      "cell_type": "code",
      "execution_count": null,
      "metadata": {
        "id": "4TlzcWkFfZ_k",
        "outputId": "02b97bb4-c1bf-46bd-985d-0cfab3202cca",
        "colab": {
          "base_uri": "https://localhost:8080/"
        }
      },
      "outputs": [
        {
          "output_type": "execute_result",
          "data": {
            "text/plain": [
              "dict_keys(['ceo', 'manager', 'lecturer', 'mentor'])"
            ]
          },
          "metadata": {},
          "execution_count": 89
        }
      ],
      "source": [
        "dic.keys()"
      ]
    },
    {
      "cell_type": "code",
      "execution_count": null,
      "metadata": {
        "id": "wtf2sEb9fZ_k",
        "outputId": "0b56b556-fb94-4e41-f649-07c3a1893496",
        "colab": {
          "base_uri": "https://localhost:8080/"
        }
      },
      "outputs": [
        {
          "output_type": "execute_result",
          "data": {
            "text/plain": [
              "dict_values(['Noro', 'Tomoya', 'Diop', 'Cedrick'])"
            ]
          },
          "metadata": {},
          "execution_count": 90
        }
      ],
      "source": [
        "dic.values()"
      ]
    },
    {
      "cell_type": "markdown",
      "metadata": {
        "id": "6d5GIX23fZ_l"
      },
      "source": [
        "#### Accessing values\n",
        "To access the value associated with an individual key give the name of the dictionary and then place the key in a set of square brackets. If the key you're asking for is not in the dictionary, an error will occur. You can also use the `get()` method, which returns None instead of an error if the key doesn't exist. You can also specify a default value to use if the key is not in the dictionary."
      ]
    },
    {
      "cell_type": "code",
      "execution_count": null,
      "metadata": {
        "id": "cTs7rswTfZ_m",
        "outputId": "94481f3b-a029-4c9d-f4ad-3fc84e2c7a20",
        "colab": {
          "base_uri": "https://localhost:8080/"
        }
      },
      "outputs": [
        {
          "output_type": "stream",
          "name": "stdout",
          "text": [
            "Noro\n",
            "Cedrick\n"
          ]
        }
      ],
      "source": [
        "# Getting the value associated with a key\n",
        "print(dic['ceo'])\n",
        "print(dic['mentor'])"
      ]
    },
    {
      "cell_type": "code",
      "execution_count": null,
      "metadata": {
        "id": "JTOBKhflfZ_m",
        "outputId": "4c296841-0d0c-4b9e-e841-84bf72ad97ca",
        "colab": {
          "base_uri": "https://localhost:8080/",
          "height": 200
        }
      },
      "outputs": [
        {
          "output_type": "error",
          "ename": "KeyError",
          "evalue": "ignored",
          "traceback": [
            "\u001b[0;31m---------------------------------------------------------------------------\u001b[0m",
            "\u001b[0;31mKeyError\u001b[0m                                  Traceback (most recent call last)",
            "\u001b[0;32m<ipython-input-87-344a457a7439>\u001b[0m in \u001b[0;36m<module>\u001b[0;34m\u001b[0m\n\u001b[1;32m      1\u001b[0m \u001b[0;31m# Getting a non-existing value without get()\u001b[0m\u001b[0;34m\u001b[0m\u001b[0;34m\u001b[0m\u001b[0;34m\u001b[0m\u001b[0m\n\u001b[1;32m      2\u001b[0m \u001b[0;34m\u001b[0m\u001b[0m\n\u001b[0;32m----> 3\u001b[0;31m \u001b[0mdic\u001b[0m\u001b[0;34m[\u001b[0m\u001b[0;34m'translator'\u001b[0m\u001b[0;34m]\u001b[0m\u001b[0;34m\u001b[0m\u001b[0;34m\u001b[0m\u001b[0m\n\u001b[0m",
            "\u001b[0;31mKeyError\u001b[0m: 'translator'"
          ]
        }
      ],
      "source": [
        "# Getting a non-existing value without get()\n",
        "\n",
        "dic['translator']"
      ]
    },
    {
      "cell_type": "code",
      "execution_count": null,
      "metadata": {
        "id": "sIUiPQk1fZ_n"
      },
      "outputs": [],
      "source": [
        "# Getting the value with get()\n",
        "dic.get('translator') #does not exist"
      ]
    },
    {
      "cell_type": "code",
      "execution_count": null,
      "metadata": {
        "id": "P5Js62XPfZ_n",
        "outputId": "fda2f5e9-e5a0-4c06-d31a-12f72fe710ba",
        "colab": {
          "base_uri": "https://localhost:8080/",
          "height": 35
        }
      },
      "outputs": [
        {
          "output_type": "execute_result",
          "data": {
            "text/plain": [
              "'Diop'"
            ],
            "application/vnd.google.colaboratory.intrinsic+json": {
              "type": "string"
            }
          },
          "metadata": {},
          "execution_count": 92
        }
      ],
      "source": [
        "dic.get('lecturer') #exists"
      ]
    },
    {
      "cell_type": "markdown",
      "metadata": {
        "id": "VWk1LHtGfZ_o"
      },
      "source": [
        "#### Adding new key-value pairs\n",
        "You can store as many key-value pairs as you want in a dictionaryy. To add a new key-value pair to an existing dictionary give the name of the dictionary and the new key in square brackets, and set it equal to the new value. This also allows you to start with an empty dictionary and add key-value pairs as they become relevant."
      ]
    },
    {
      "cell_type": "code",
      "execution_count": null,
      "metadata": {
        "id": "gECn_8pYfZ_o",
        "outputId": "dbc2850e-a3dc-4452-8f1a-93c659b07fd1",
        "colab": {
          "base_uri": "https://localhost:8080/"
        }
      },
      "outputs": [
        {
          "output_type": "stream",
          "name": "stdout",
          "text": [
            "{'ceo': 'Noro', 'manager': 'Tomoya', 'lecturer': 'Diop', 'mentor': 'Cedrick', 'translator': 'Tall'}\n"
          ]
        }
      ],
      "source": [
        "#Adding a key-value pair\n",
        "dic['translator'] = 'Tall'\n",
        "\n",
        "print(dic)"
      ]
    },
    {
      "cell_type": "markdown",
      "metadata": {
        "id": "roZWofsQfZ_p"
      },
      "source": [
        "#### Modifying values\n",
        "You can modify the value associated with any key in a dictionary. To do so give the name of the dictionary and enclose the key in square brackets, then provide the new value for that key."
      ]
    },
    {
      "cell_type": "code",
      "execution_count": null,
      "metadata": {
        "id": "04DQli6qfZ_p",
        "outputId": "35794e05-21bd-48cd-e6ae-18c3a9c62ab1",
        "colab": {
          "base_uri": "https://localhost:8080/"
        }
      },
      "outputs": [
        {
          "output_type": "stream",
          "name": "stdout",
          "text": [
            "{'ceo': 'Noro', 'manager': 'Tomoya', 'lecturer': 'Diop', 'mentor': 'Cedrick', 'translator': 'Tall'}\n",
            "{'ceo': 'Noro', 'manager': 'Tomoya', 'lecturer': 'Diop', 'mentor': 'Jules', 'translator': 'Tall'}\n"
          ]
        }
      ],
      "source": [
        "# Modifying values in a dictionary\n",
        "print(dic)\n",
        "\n",
        "# Change dic's mentor.\n",
        "dic['mentor'] = 'Jules'\n",
        "print(dic)"
      ]
    },
    {
      "cell_type": "markdown",
      "metadata": {
        "id": "e09CfKQAfZ_p"
      },
      "source": [
        "#### Removing key-value pairs\n",
        "You can remove any key-value pair you want from a dictionary. To do so use the del keyword and the dictionary name, followed by the key in square brackets. This will delete the key and its associated value."
      ]
    },
    {
      "cell_type": "code",
      "execution_count": null,
      "metadata": {
        "id": "fiD8DUXOfZ_q",
        "outputId": "ea5909ce-7ae6-4757-b206-5037e5a3093c",
        "colab": {
          "base_uri": "https://localhost:8080/"
        }
      },
      "outputs": [
        {
          "output_type": "stream",
          "name": "stdout",
          "text": [
            "{'ceo': 'Noro', 'manager': 'Tomoya', 'lecturer': 'Diop', 'mentor': 'Jules'}\n"
          ]
        }
      ],
      "source": [
        "# Deleting a key-value pair\n",
        "del dic['translator']\n",
        "print(dic)"
      ]
    },
    {
      "cell_type": "code",
      "execution_count": null,
      "metadata": {
        "id": "qVt9hGhufZ_q",
        "outputId": "e9ca1c69-d480-4174-fdfe-568632bd38a4",
        "colab": {
          "base_uri": "https://localhost:8080/"
        }
      },
      "outputs": [
        {
          "output_type": "stream",
          "name": "stdout",
          "text": [
            "{'ceo': 'Noro', 'manager': 'Tomoya', 'lecturer': 'Diop'}\n",
            "Jules\n"
          ]
        }
      ],
      "source": [
        "# the pop() method is used to remove a key from a dictionary while returning the value associated with the key\n",
        "mentor = dic.pop('mentor')\n",
        "print(dic) # no longer contains a mentor key\n",
        "print(mentor) # mentor contains the dictionary value"
      ]
    },
    {
      "cell_type": "markdown",
      "metadata": {
        "id": "H7mUgRQPfZ_r"
      },
      "source": [
        "#### Looping through a dictionary\n",
        "You can loop through a dictionary in three ways: you can loop through all the key-value pairs, all the keys, or all the values."
      ]
    },
    {
      "cell_type": "code",
      "execution_count": null,
      "metadata": {
        "id": "Eo0_NrMtfZ_r",
        "outputId": "124d6c71-7e80-42f9-ccc8-c3f8a6c3f9b5",
        "colab": {
          "base_uri": "https://localhost:8080/"
        }
      },
      "outputs": [
        {
          "output_type": "stream",
          "name": "stdout",
          "text": [
            "ceo: Noro\n",
            "manager: Tomoya\n",
            "lecturer: Diop\n"
          ]
        }
      ],
      "source": [
        "# Looping through all key-value pairs\n",
        "for key, value in dic.items():\n",
        "    print(key + \": \" + value)"
      ]
    },
    {
      "cell_type": "code",
      "execution_count": null,
      "metadata": {
        "id": "AKDjd6SRfZ_r",
        "outputId": "6fc022d9-cd91-41f9-a585-275b158284c2",
        "colab": {
          "base_uri": "https://localhost:8080/"
        }
      },
      "outputs": [
        {
          "output_type": "stream",
          "name": "stdout",
          "text": [
            "ceo\n",
            "manager\n",
            "lecturer\n"
          ]
        }
      ],
      "source": [
        "# Looping through all the keys\n",
        "for position in dic.keys():\n",
        "    print(position)"
      ]
    },
    {
      "cell_type": "code",
      "execution_count": null,
      "metadata": {
        "id": "iHiuGslXfZ_s",
        "outputId": "15ac4daf-a459-4147-b764-eab320815f8d",
        "colab": {
          "base_uri": "https://localhost:8080/"
        }
      },
      "outputs": [
        {
          "output_type": "stream",
          "name": "stdout",
          "text": [
            "Noro\n",
            "Tomoya\n",
            "Diop\n"
          ]
        }
      ],
      "source": [
        "# Looping through all the values\n",
        "for name in dic.values():\n",
        "    print(name)"
      ]
    },
    {
      "cell_type": "markdown",
      "metadata": {
        "id": "Y-1TF0wdfZ_s"
      },
      "source": [
        "<div class =\"alert alert-block alert-danger\" style='text-align:center'>\n",
        "<h1> Session #3 </h1>\n",
        "</div>"
      ]
    },
    {
      "cell_type": "markdown",
      "metadata": {
        "id": "-6mvYdGXfZ_t"
      },
      "source": [
        "<div class =\"alert alert-block alert-warning\" style='text-align:center'>\n",
        "<h2> Exceptions </h2>\n",
        "</div>"
      ]
    },
    {
      "cell_type": "markdown",
      "metadata": {
        "id": "8niRQM3PfZ_t"
      },
      "source": [
        "Exceptions help you respond appropriately to errors that are likely to occur. You place code that might cause an error in the try block. Code that should run in response to an error goes in the except block. Code that should run only if the try block was successful goes in the else block."
      ]
    },
    {
      "cell_type": "code",
      "execution_count": null,
      "metadata": {
        "id": "Q8v_aTBIfZ_u",
        "outputId": "55b936d2-82dd-418f-b362-20e7854e564d",
        "colab": {
          "base_uri": "https://localhost:8080/"
        }
      },
      "outputs": [
        {
          "output_type": "stream",
          "name": "stdout",
          "text": [
            "How many tickets do you need? 2\n",
            "Your tickets are printing.\n"
          ]
        }
      ],
      "source": [
        "# Catching an exception\n",
        "prompt = \"How many tickets do you need? \"\n",
        "num_tickets = input(prompt)\n",
        "\n",
        "try:\n",
        "    num_tickets = int(num_tickets)\n",
        "except ValueError:\n",
        "    print(\"Please try again.\")\n",
        "else:\n",
        "    print(\"Your tickets are printing.\")\n"
      ]
    },
    {
      "cell_type": "markdown",
      "metadata": {
        "id": "B-mk0pnKfZ_u"
      },
      "source": [
        "<div class =\"alert alert-block alert-warning\" style='text-align:center'>\n",
        "<h2> Basic Modules </h2>\n",
        "</div>"
      ]
    },
    {
      "cell_type": "markdown",
      "metadata": {
        "id": "CuJ97ZZhfZ_v"
      },
      "source": [
        "Python contains a number of built-in modules, which offer many useful mathematical, statistical, random and os functions. To import a module, please proceed as below:\n",
        "- **import module** (import the whole module)\n",
        "- **import module as md** (gives a nickname to the module)\n",
        "- **from module import function** (imports a function from the module)"
      ]
    },
    {
      "cell_type": "code",
      "execution_count": null,
      "metadata": {
        "id": "9TpY4ir7fZ_v"
      },
      "outputs": [],
      "source": [
        "import math\n",
        "import statistics\n",
        "import random\n",
        "import os\n",
        "import glob"
      ]
    },
    {
      "cell_type": "markdown",
      "metadata": {
        "id": "bPVje61mfZ_v"
      },
      "source": [
        "You can also create your own modules and import them into other projects. A module is in fact a simple file.py that contains functions and classes."
      ]
    },
    {
      "cell_type": "markdown",
      "metadata": {
        "id": "tZn0121VfZ_w"
      },
      "source": [
        "### 1. Math and statistics modules\n",
        "The math and statistics modules are apparently very useful, but in data science, we will use their equivalents in the NUMPY package. It can nevertheless be interesting to see the basic functions."
      ]
    },
    {
      "cell_type": "code",
      "execution_count": null,
      "metadata": {
        "id": "vYrnknVjfZ_w",
        "outputId": "de95a525-89bf-4a18-e49a-4cd9b7b65079",
        "colab": {
          "base_uri": "https://localhost:8080/"
        }
      },
      "outputs": [
        {
          "output_type": "stream",
          "name": "stdout",
          "text": [
            "3.141592653589793\n",
            "1.0\n"
          ]
        }
      ],
      "source": [
        "print(math.pi)\n",
        "print(math.cos(2*math.pi))"
      ]
    },
    {
      "cell_type": "code",
      "execution_count": null,
      "metadata": {
        "id": "cKY7DOMufZ_w",
        "outputId": "442310db-f937-492e-f463-c5014826549e",
        "colab": {
          "base_uri": "https://localhost:8080/"
        }
      },
      "outputs": [
        {
          "output_type": "stream",
          "name": "stdout",
          "text": [
            "3.6\n",
            "4.3\n"
          ]
        }
      ],
      "source": [
        "new_list = [1, 4, 6, 2, 5]\n",
        "\n",
        "print(statistics.mean(new_list)) # mean of the list\n",
        "print(statistics.variance(new_list)) # variance of the list"
      ]
    },
    {
      "cell_type": "markdown",
      "metadata": {
        "id": "wGlcwgAmfZ_x"
      },
      "source": [
        "### 2. Random Module\n",
        "The random module is one of the most useful ones in Python. In data science, we will mainly use its **NUMPY** equivalent"
      ]
    },
    {
      "cell_type": "code",
      "execution_count": null,
      "metadata": {
        "id": "NCgnJ872fZ_x",
        "outputId": "3e072298-15ef-4c11-dbab-5c4dcc6427fa",
        "colab": {
          "base_uri": "https://localhost:8080/"
        }
      },
      "outputs": [
        {
          "output_type": "stream",
          "name": "stdout",
          "text": [
            "2\n",
            "0.7579544029403025\n",
            "8\n"
          ]
        }
      ],
      "source": [
        "random.seed(0) # sets the random generator to always produce the same result\n",
        "print(random.choice(new_list)) # selects an item at random from the list\n",
        "print(random.random()) # generates a random number number between 0 and 1\n",
        "print(random.randint(5, 10)) # generates a random integer between 5 and 10"
      ]
    },
    {
      "cell_type": "code",
      "execution_count": null,
      "metadata": {
        "id": "xJnNyE9AfZ_y",
        "outputId": "464a4b3e-9fab-4452-a011-9882b75759bf",
        "colab": {
          "base_uri": "https://localhost:8080/"
        }
      },
      "outputs": [
        {
          "output_type": "execute_result",
          "data": {
            "text/plain": [
              "[5, 33, 65, 62, 51, 38, 61, 45, 74, 27]"
            ]
          },
          "metadata": {},
          "execution_count": 105
        }
      ],
      "source": [
        "random.sample(range(100), 10) # returns a list of 10 random numbers between 0 and 100"
      ]
    },
    {
      "cell_type": "code",
      "execution_count": null,
      "metadata": {
        "id": "E8tAF13qfZ_y",
        "outputId": "fcefbb39-254c-4862-e7ec-647f26edc945",
        "colab": {
          "base_uri": "https://localhost:8080/"
        }
      },
      "outputs": [
        {
          "output_type": "stream",
          "name": "stdout",
          "text": [
            "Initial list [1, 4, 6, 2, 5]\n",
            "mixed list [6, 1, 2, 4, 5]\n"
          ]
        }
      ],
      "source": [
        "print('Initial list', new_list)\n",
        "\n",
        "random.shuffle(new_list) # mixes the elements of a list\n",
        "\n",
        "print('mixed list', new_list)"
      ]
    },
    {
      "cell_type": "markdown",
      "metadata": {
        "id": "4FNue2v9fZ_z"
      },
      "source": [
        "<div class =\"alert alert-block alert-warning\" style='text-align:center'>\n",
        "<h2> Classes </h2>\n",
        "</div>"
      ]
    },
    {
      "cell_type": "markdown",
      "metadata": {
        "id": "RHGQKbjyfZ_z"
      },
      "source": [
        "Classes are the foundation of object-oriented programming. Classes represent real-world things you want to model in your programs: for example dogs, cars, and robots. You use a class to make objects, which are specific instances of dogs, cars, and robots. A class defines the general behavior that a whole category of objects can have, and the information that can be associated with those objects."
      ]
    },
    {
      "cell_type": "markdown",
      "metadata": {
        "id": "EentrbNEfZ_z"
      },
      "source": [
        "### Creating and using a class"
      ]
    },
    {
      "cell_type": "markdown",
      "metadata": {
        "id": "KjEeRs9IfZ_z"
      },
      "source": [
        "All classes have a function called `__init__()`, which is always executed when the class is being initiated.\n",
        "\n",
        "Use the __init__() function to assign values to object properties, or other operations that are necessary to do when the object is being created"
      ]
    },
    {
      "cell_type": "code",
      "execution_count": null,
      "metadata": {
        "id": "i1mQaXHlfZ_0"
      },
      "outputs": [],
      "source": [
        "# Create a class named Student, use the __init__() function to assign values for name and age:\n",
        "class Student:\n",
        "    def __init__(self, name, age, university):\n",
        "        \"\"\"Initialize student attributes.\"\"\"\n",
        "        self.name = name\n",
        "        self.age = age\n",
        "        self.university = university"
      ]
    },
    {
      "cell_type": "code",
      "execution_count": null,
      "metadata": {
        "id": "kUsxIpTafZ_0",
        "outputId": "01838497-c17c-4b72-bd6b-1c5451a78f5d",
        "colab": {
          "base_uri": "https://localhost:8080/"
        }
      },
      "outputs": [
        {
          "output_type": "stream",
          "name": "stdout",
          "text": [
            "Tom\n",
            "20\n"
          ]
        }
      ],
      "source": [
        "student_1 = Student(\"Tom\", 20, \"HCMUT\")\n",
        "\n",
        "print(student_1.name)\n",
        "print(student_1.age)"
      ]
    },
    {
      "cell_type": "markdown",
      "metadata": {
        "id": "Tv24fNDjfZ_1"
      },
      "source": [
        "### The self Parameter\n",
        "- The self parameter is a reference to the current instance of the class, and is used to access variables that belongs to the class.\n",
        "- It does not have to be named self , you can call it whatever you like, but it has to be the first parameter of any function in the class."
      ]
    },
    {
      "cell_type": "markdown",
      "metadata": {
        "id": "POdaIuZlfZ_1"
      },
      "source": [
        "### Object Methods\n",
        "Objects can also contain methods. Methods in objects are functions that belong to the object."
      ]
    },
    {
      "cell_type": "code",
      "execution_count": null,
      "metadata": {
        "id": "Tc_xDw2rfZ_1"
      },
      "outputs": [],
      "source": [
        "# Insert a function that introduces a student, and execute it on the student_1 object\n",
        "class Student:\n",
        "    def __init__(self, name, age, university):\n",
        "        \"\"\"Initialize student attributes.\"\"\"\n",
        "        self.name = name\n",
        "        self.age = age\n",
        "        self.university = university\n",
        "\n",
        "    def presentation(self):\n",
        "        print(f\"Hello my name is {self.name}, I am {self.age} years old and I study at {self.university}.\")"
      ]
    },
    {
      "cell_type": "code",
      "execution_count": null,
      "metadata": {
        "id": "KDXuao9WfZ_2",
        "outputId": "8819ddc1-c500-47bf-dbb0-108cff9a8f00",
        "colab": {
          "base_uri": "https://localhost:8080/"
        }
      },
      "outputs": [
        {
          "output_type": "stream",
          "name": "stdout",
          "text": [
            "Hello my name is Tom, I am 20 years old and I study at HCMUT.\n"
          ]
        }
      ],
      "source": [
        "student_1 = Student(\"Tom\", 20, \"HCMUT\")\n",
        "student_1.presentation()"
      ]
    },
    {
      "cell_type": "markdown",
      "metadata": {
        "id": "tQzTn3ZbfZ_2"
      },
      "source": [
        "### Modify Object Properties"
      ]
    },
    {
      "cell_type": "code",
      "execution_count": null,
      "metadata": {
        "id": "syxK85DrfZ_2"
      },
      "outputs": [],
      "source": [
        "# Set the age of student1 to 23:\n",
        "student_1.age = 23"
      ]
    },
    {
      "cell_type": "code",
      "execution_count": null,
      "metadata": {
        "id": "qXp0M5wKfZ_3",
        "outputId": "c16b1675-b8aa-4204-a8e8-329110cb3767"
      },
      "outputs": [
        {
          "name": "stdout",
          "output_type": "stream",
          "text": [
            "23\n"
          ]
        }
      ],
      "source": [
        "print(student_1.age)"
      ]
    },
    {
      "cell_type": "markdown",
      "metadata": {
        "id": "yWwr9EVkfZ_3"
      },
      "source": [
        "### Delete Object Properties\n",
        "You can delete properties on objects by using the del keyword"
      ]
    },
    {
      "cell_type": "code",
      "execution_count": null,
      "metadata": {
        "id": "dBIIeZ9wfZ_3"
      },
      "outputs": [],
      "source": [
        "# Delete the age property from the student_1 object:\n",
        "del student_1.age"
      ]
    },
    {
      "cell_type": "code",
      "execution_count": null,
      "metadata": {
        "id": "tubuWHq2fZ_4",
        "outputId": "cda6c03b-c5a7-4221-f454-70920c3b6d42"
      },
      "outputs": [
        {
          "ename": "AttributeError",
          "evalue": "'Student' object has no attribute 'age'",
          "output_type": "error",
          "traceback": [
            "\u001b[1;31m---------------------------------------------------------------------------\u001b[0m",
            "\u001b[1;31mAttributeError\u001b[0m                            Traceback (most recent call last)",
            "\u001b[1;32m<ipython-input-205-4b74a9cecf4c>\u001b[0m in \u001b[0;36m<module>\u001b[1;34m\u001b[0m\n\u001b[1;32m----> 1\u001b[1;33m \u001b[0mprint\u001b[0m\u001b[1;33m(\u001b[0m\u001b[0mstudent_1\u001b[0m\u001b[1;33m.\u001b[0m\u001b[0mage\u001b[0m\u001b[1;33m)\u001b[0m\u001b[1;33m\u001b[0m\u001b[1;33m\u001b[0m\u001b[0m\n\u001b[0m",
            "\u001b[1;31mAttributeError\u001b[0m: 'Student' object has no attribute 'age'"
          ]
        }
      ],
      "source": [
        "print(student_1.age)"
      ]
    },
    {
      "cell_type": "markdown",
      "metadata": {
        "id": "6cca-N6ffZ_4"
      },
      "source": [
        "### Delete Objects\n",
        "You can delete objects by using the del keyword"
      ]
    },
    {
      "cell_type": "code",
      "execution_count": null,
      "metadata": {
        "id": "8kp_Rfy6fZ_5"
      },
      "outputs": [],
      "source": [
        "# Delete the student_1 object:\n",
        "del student_1"
      ]
    },
    {
      "cell_type": "markdown",
      "metadata": {
        "id": "btgQkGLwfZ_5"
      },
      "source": [
        "## <center> <span style='color:blue'>[End of Notebook](#1)"
      ]
    },
    {
      "cell_type": "code",
      "source": [
        "import numpy as np\n",
        "x = np.zeros(3,dtype=int)\n",
        "my_data=np.array([[6, 3, 2], [2, 6, 2], [6, 2, 3]])\n",
        "print(my_data.sum(axis=1,out=x))\n",
        "print(x)"
      ],
      "metadata": {
        "colab": {
          "base_uri": "https://localhost:8080/"
        },
        "id": "SsEyqfU80HtD",
        "outputId": "a1aafeb1-39ee-48a3-985c-efd7833e7077"
      },
      "execution_count": null,
      "outputs": [
        {
          "output_type": "stream",
          "name": "stdout",
          "text": [
            "[11 10 11]\n",
            "[11 10 11]\n"
          ]
        }
      ]
    },
    {
      "cell_type": "code",
      "source": [
        "print(my_data.sum(where=[True, False,False]))"
      ],
      "metadata": {
        "colab": {
          "base_uri": "https://localhost:8080/"
        },
        "id": "QY1879P01ITt",
        "outputId": "e0204f1c-7b25-481b-e26b-270fc3eceb68"
      },
      "execution_count": null,
      "outputs": [
        {
          "output_type": "stream",
          "name": "stdout",
          "text": [
            "14\n"
          ]
        }
      ]
    },
    {
      "cell_type": "code",
      "source": [
        "print(my_data.sum(axis=1,where=[True, False,True]))"
      ],
      "metadata": {
        "colab": {
          "base_uri": "https://localhost:8080/"
        },
        "id": "5a-_QumW1ulV",
        "outputId": "5b7131e1-3164-4a58-fecf-e9fd3148a035"
      },
      "execution_count": null,
      "outputs": [
        {
          "output_type": "stream",
          "name": "stdout",
          "text": [
            "[8 4 9]\n"
          ]
        }
      ]
    },
    {
      "cell_type": "code",
      "source": [
        "print(my_data.sum(initial=10))"
      ],
      "metadata": {
        "colab": {
          "base_uri": "https://localhost:8080/"
        },
        "id": "H5_dxhBd19nG",
        "outputId": "34b5fb80-9df8-462a-ad97-fc2ce574225b"
      },
      "execution_count": null,
      "outputs": [
        {
          "output_type": "stream",
          "name": "stdout",
          "text": [
            "42\n"
          ]
        }
      ]
    },
    {
      "cell_type": "code",
      "source": [
        "import numpy as np\n",
        "a = np.array([[12, 58, 65],\n",
        "       [39, 87, 46],\n",
        "       [88, 81, 37]])\n",
        "\n",
        "np.sum(a[:,0])"
      ],
      "metadata": {
        "colab": {
          "base_uri": "https://localhost:8080/"
        },
        "id": "ZfQpEQgGOBkK",
        "outputId": "6e55f9f5-d082-4362-a49b-065ef202867c"
      },
      "execution_count": null,
      "outputs": [
        {
          "output_type": "execute_result",
          "data": {
            "text/plain": [
              "139"
            ]
          },
          "metadata": {},
          "execution_count": 3
        }
      ]
    },
    {
      "cell_type": "code",
      "source": [
        "words =[\"Class\", \"Abc\", \"World\", \"HellO\", 1,3,5,6,7]\n",
        "words.sort()\n",
        "print(words)"
      ],
      "metadata": {
        "id": "CbJQeOkxOBR-",
        "colab": {
          "base_uri": "https://localhost:8080/",
          "height": 200
        },
        "outputId": "f337bb1c-1e09-44bb-eb54-7b9b2f9ed67d"
      },
      "execution_count": null,
      "outputs": [
        {
          "output_type": "error",
          "ename": "TypeError",
          "evalue": "ignored",
          "traceback": [
            "\u001b[0;31m---------------------------------------------------------------------------\u001b[0m",
            "\u001b[0;31mTypeError\u001b[0m                                 Traceback (most recent call last)",
            "\u001b[0;32m<ipython-input-1-d528db3f0113>\u001b[0m in \u001b[0;36m<module>\u001b[0;34m\u001b[0m\n\u001b[1;32m      1\u001b[0m \u001b[0mwords\u001b[0m \u001b[0;34m=\u001b[0m\u001b[0;34m[\u001b[0m\u001b[0;34m\"Class\"\u001b[0m\u001b[0;34m,\u001b[0m \u001b[0;34m\"Abc\"\u001b[0m\u001b[0;34m,\u001b[0m \u001b[0;34m\"World\"\u001b[0m\u001b[0;34m,\u001b[0m \u001b[0;34m\"HellO\"\u001b[0m\u001b[0;34m,\u001b[0m \u001b[0;36m1\u001b[0m\u001b[0;34m,\u001b[0m\u001b[0;36m3\u001b[0m\u001b[0;34m,\u001b[0m\u001b[0;36m5\u001b[0m\u001b[0;34m,\u001b[0m\u001b[0;36m6\u001b[0m\u001b[0;34m,\u001b[0m\u001b[0;36m7\u001b[0m\u001b[0;34m]\u001b[0m\u001b[0;34m\u001b[0m\u001b[0;34m\u001b[0m\u001b[0m\n\u001b[0;32m----> 2\u001b[0;31m \u001b[0mwords\u001b[0m\u001b[0;34m.\u001b[0m\u001b[0msort\u001b[0m\u001b[0;34m(\u001b[0m\u001b[0;34m)\u001b[0m\u001b[0;34m\u001b[0m\u001b[0;34m\u001b[0m\u001b[0m\n\u001b[0m\u001b[1;32m      3\u001b[0m \u001b[0mprint\u001b[0m\u001b[0;34m(\u001b[0m\u001b[0mwords\u001b[0m\u001b[0;34m)\u001b[0m\u001b[0;34m\u001b[0m\u001b[0;34m\u001b[0m\u001b[0m\n",
            "\u001b[0;31mTypeError\u001b[0m: '<' not supported between instances of 'int' and 'str'"
          ]
        }
      ]
    },
    {
      "cell_type": "code",
      "source": [
        "words =[ \"8\",\"3\",\"5\",\"6\",\"1\"]\n",
        "words.sort()\n",
        "print(words)"
      ],
      "metadata": {
        "colab": {
          "base_uri": "https://localhost:8080/"
        },
        "id": "C3QmLMqSJtIn",
        "outputId": "49994d2c-2be9-430d-d7c4-aa176862e534"
      },
      "execution_count": null,
      "outputs": [
        {
          "output_type": "stream",
          "name": "stdout",
          "text": [
            "['1', '3', '5', '6', '8']\n"
          ]
        }
      ]
    },
    {
      "cell_type": "code",
      "source": [
        "words =[ \"8\",\"12\",\"6\",\"13\",\"9\"]\n",
        "words.sort()\n",
        "print(words)"
      ],
      "metadata": {
        "colab": {
          "base_uri": "https://localhost:8080/"
        },
        "id": "ilZ5FStTKaAd",
        "outputId": "007c702f-0e94-443f-8fc1-9d47a0eda10f"
      },
      "execution_count": null,
      "outputs": [
        {
          "output_type": "stream",
          "name": "stdout",
          "text": [
            "['12', '13', '6', '8', '9']\n"
          ]
        }
      ]
    },
    {
      "cell_type": "code",
      "source": [
        "words =[ 8,12,6,13,9]\n",
        "words.sort()\n",
        "print(words)"
      ],
      "metadata": {
        "colab": {
          "base_uri": "https://localhost:8080/"
        },
        "id": "CfbeNQfiK8hd",
        "outputId": "e4704853-6ace-4614-99bb-fc224a9b17b0"
      },
      "execution_count": null,
      "outputs": [
        {
          "output_type": "stream",
          "name": "stdout",
          "text": [
            "[6, 8, 9, 12, 13]\n"
          ]
        }
      ]
    },
    {
      "cell_type": "code",
      "source": [
        "# List of Integers\n",
        "numbers = [1, 3, 4, 2]\n",
        "\n",
        "# Sorting list of Integers\n",
        "numbers.sort(reverse=True)\n",
        "\n",
        "print(numbers)"
      ],
      "metadata": {
        "id": "07bCtXfGNHHb",
        "outputId": "2713fdd6-6da7-4cdb-d76c-a0d58347bdc0",
        "colab": {
          "base_uri": "https://localhost:8080/"
        }
      },
      "execution_count": null,
      "outputs": [
        {
          "output_type": "stream",
          "name": "stdout",
          "text": [
            "[4, 3, 2, 1]\n"
          ]
        }
      ]
    }
  ],
  "metadata": {
    "kernelspec": {
      "display_name": "Python 3",
      "language": "python",
      "name": "python3"
    },
    "language_info": {
      "codemirror_mode": {
        "name": "ipython",
        "version": 3
      },
      "file_extension": ".py",
      "mimetype": "text/x-python",
      "name": "python",
      "nbconvert_exporter": "python",
      "pygments_lexer": "ipython3",
      "version": "3.8.3"
    },
    "colab": {
      "provenance": [],
      "include_colab_link": true
    }
  },
  "nbformat": 4,
  "nbformat_minor": 0
}