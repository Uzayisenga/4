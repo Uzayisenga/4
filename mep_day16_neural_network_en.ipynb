{
  "nbformat": 4,
  "nbformat_minor": 0,
  "metadata": {
    "kernelspec": {
      "display_name": "Python 3",
      "language": "python",
      "name": "python3"
    },
    "language_info": {
      "codemirror_mode": {
        "name": "ipython",
        "version": 3
      },
      "file_extension": ".py",
      "mimetype": "text/x-python",
      "name": "python",
      "nbconvert_exporter": "python",
      "pygments_lexer": "ipython3",
      "version": "3.8.2"
    },
    "toc": {
      "base_numbering": 1,
      "nav_menu": {},
      "number_sections": true,
      "sideBar": true,
      "skip_h1_title": true,
      "title_cell": "目次",
      "title_sidebar": "Contents",
      "toc_cell": true,
      "toc_position": {
        "height": "calc(100% - 180px)",
        "left": "10px",
        "top": "150px",
        "width": "427.59375px"
      },
      "toc_section_display": true,
      "toc_window_display": true
    },
    "colab": {
      "name": "mep_day16_neural network_en.ipynb",
      "provenance": [],
      "collapsed_sections": [
        "25QsiU6PNAfn",
        "XOp6HWftNAfp",
        "T3sRtkyXNAfq"
      ],
      "include_colab_link": true
    }
  },
  "cells": [
    {
      "cell_type": "markdown",
      "metadata": {
        "id": "view-in-github",
        "colab_type": "text"
      },
      "source": [
        "<a href=\"https://colab.research.google.com/github/Uzayisenga/4/blob/master/mep_day16_neural_network_en.ipynb\" target=\"_parent\"><img src=\"https://colab.research.google.com/assets/colab-badge.svg\" alt=\"Open In Colab\"/></a>"
      ]
    },
    {
      "cell_type": "markdown",
      "metadata": {
        "id": "OQET81-KNAfa"
      },
      "source": [
        "# Sprint Deep Learning Scratch Neural Networks"
      ]
    },
    {
      "cell_type": "markdown",
      "metadata": {
        "toc": true,
        "id": "UiV-0E7CNAfc"
      },
      "source": [
        "<h1>Table of Contents<span class=\"tocSkip\"></span></h1>\n",
        "<div class=\"toc\"><ul class=\"toc-item\"><li><span><a href=\"#About this Sprint\" data-toc-modified-id=\"About this Sprint-1\"><span class=\"toc-item-num\">1&nbsp;&nbsp;</span>About this Sprint</a></span><ul class=\"toc-item\"><li><span><a href=\"#Purpose of Sprint\" data-toc-modified-id=\"Objectives of Sprint-1.1\"><span class=\"toc-item-num\">1.1&nbsp;&nbsp;</span>Purpose of Sprint</a></span></li><li><span><a href=\"#How to learn\" data-toc-modified-id=\"How to learn-1.2\"><span class=\"toc-item-num\">1.2&nbsp;&nbsp;</span>How to learn</a></span></li></ul></li><li><span><a href=\"#MNIST Dataset\" data-toc-modified-id=\"MNIST Dataset-2\"><span class=\"toc-item-num\">2&nbsp;&nbsp;</span>MNIST Dataset</a></span><ul class=\"toc-item\"><li><span><a href=\"#Checking the dataset\" data-toc-modified-id=\"Checking the dataset-2.1\"><span class=\"toc-item-num\">2.1&nbsp;&nbsp;</span>Checking the dataset</a></span></li><li><span><a href=\"#Smoothing\" data-toc-modified-id=\"Smoothing-2.2\"><span class=\"toc-item-num\">2.2&nbsp;&nbsp;</span>Smoothing</a></span></li><li><span><a href=\"#Visualization of image data\" data-toc-modified-id=\"Visualization of image data-2.3\"><span class=\"toc-item-num\">2.3&nbsp;&nbsp;</span>Visualization of image data</a></span></li><li><span><a href=\"#Pretreatment\" data-toc-modified-id=\"Pretreatment-2.4\"><span class=\"toc-item-num\">2.4&nbsp;&nbsp;</span>Pretreatment</a></span></li></ul></li><li><span><a href=\"#Scratch Neural Network\" data-toc-modified-id=\"Scratch Neural Network-3\"><span class=\"toc-item-num\">3&nbsp;&nbsp;</span>Scratch Neural Network</a></span><ul class=\"toc-item\"><li><span><a href=\"#Mini-batch processing\" data-toc-modified-id=\"Mini-batch processing-3.1\"><span class=\"toc-item-num\">3.1&nbsp;&nbsp;</span>Mini-batch processing</a></span></li><li><span><a href=\"#Learning\" data-toc-modified-id=\"Learning-3.2\"><span class=\"toc-item-num\">3.2&nbsp;&nbsp;</span>Learning</a></span></li><li><span><a href=\"#【Problem 1】Create a code to determine the initial value of the weights.\" data-toc-modified-id=\"【Problem 1】Create a code to determine the initial value of the weights.-3.3\"><span class=\"toc-item-num\">3.3&nbsp;&nbsp;</span>【Problem 1】Create a code to determine the initial value of the weights.</a></span></li><li><span><a href=\"#【Problem 2】Implementing Forward Propagation\" data-toc-modified-id=\"【Problem 2】Implementing Forward Propagation-3.4\"><span class=\"toc-item-num\">3.4&nbsp;&nbsp;</span>【Problem 2】Implementing Forward Propagation</a></span></li><li><span><a href=\"#Activation function (forward propagation)\" data-toc-modified-id=\"Activation function (forward propagation)-3.5\"><span class=\"toc-item-num\">3.5&nbsp;&nbsp;</span>Activation function (forward propagation)</a></span><ul class=\"toc-item\"><li><span><a href=\"#Sigmoid function\" data-toc-modified-id=\"Sigmoid function-3.5.1\"><span class=\"toc-item-num\">3.5.1&nbsp;&nbsp;</span>Sigmoid function</a></span></li><li><span><a href=\"#Hyperbolic tangent function.\" data-toc-modified-id=\"Hyperbolic tangent function.-3.5.2\"><span class=\"toc-item-num\">3.5.2&nbsp;&nbsp;</span>Hyperbolic tangent function.</a></span></li></ul></li><li><span><a href=\"#Softmax function\" data-toc-modified-id=\"Softmax function-3.6\"><span class=\"toc-item-num\">3.6&nbsp;&nbsp;</span>Softmax function</a></span></li><li><span><a href=\"#【Problem 3】Implementation of cross-entropy error\" data-toc-modified-id=\"【Problem 3】Implementation of cross-entropy error-3.7\"><span class=\"toc-item-num\">3.7&nbsp;&nbsp;</span>【Problem 3】Implementation of cross-entropy error</a></span></li><li><span><a href=\"#【Problem 4】Implementation of backpropagation\" data-toc-modified-id=\"【Problem 4】Implementation of backpropagation-3.8\"><span class=\"toc-item-num\">3.8&nbsp;&nbsp;</span>【Problem 4】Implementation of backpropagation</a></span></li><li><span><a href=\"#【Problem 5】Estimation\" data-toc-modified-id=\"【Problem 5】Estimation-3.9\"><span class=\"toc-item-num\">3.9&nbsp;&nbsp;</span>【Problem 5】Estimation</a></span></li><li><span><a href=\"#【Problem 6】Learning and Estimation\" data-toc-modified-id=\"【Problem 6】Learning and Estimation-3.10\"><span class=\"toc-item-num\">3.10&nbsp;&nbsp;</span>【Problem 6】Learning and Estimation</a></span></li><li><span><a href=\"#【Problem 7】Plotting the Learning Curve\" data-toc-modified-id=\"【Problem 7】Plotting the Learning Curve-3.11\"><span class=\"toc-item-num\">3.11&nbsp;&nbsp;</span>【Problem 7】Plotting the Learning Curve</a></span></li><li><span><a href=\"#【Problem 8】(Advanced Assignment) Check for misclassification\" data-toc-modified-id=\"【Problem 8】(Advanced Assignment) Check for misclassification-3.12\"><span class=\"toc-item-num\">3.12&nbsp;&nbsp;</span>【Problem 8】(Advanced Assignment) Check for misclassification</a></span></li></ul></li></ul></div>"
      ]
    },
    {
      "cell_type": "markdown",
      "metadata": {
        "id": "z14BWRgfNAfd"
      },
      "source": [
        "## About this Sprint\n",
        "## Purpose of the Sprint.\n",
        "* Understand the basics of neural networks through scratching\n",
        "* Learn how to handle image data.\n",
        "\n",
        "## How to learn\n",
        "After implementing a simple neural network in Scratch, we will train and verify it."
      ]
    },
    {
      "cell_type": "code",
      "metadata": {
        "id": "nYuSRkJkNAfe"
      },
      "source": [
        "# Library import\n",
        "import numpy as np\n",
        "import matplotlib.pyplot as plt"
      ],
      "execution_count": null,
      "outputs": []
    },
    {
      "cell_type": "code",
      "metadata": {
        "id": "X05WjHC2NAfe"
      },
      "source": [
        "# Evaluation index\n",
        "from sklearn.metrics import accuracy_score\n",
        "from sklearn.metrics import precision_score\n",
        "from sklearn.metrics import recall_score\n",
        "from sklearn.metrics import f1_score"
      ],
      "execution_count": null,
      "outputs": []
    },
    {
      "cell_type": "markdown",
      "metadata": {
        "id": "atCET1eqNAff"
      },
      "source": [
        "## MNIST dataset\n",
        "We will use the MNIST dataset to validate our neural network scratch.  \n",
        "You can download it from various libraries and websites, but here we will use Keras, a deep learning framework.  \n",
        "You can download the dataset and extract it by running the following code."
      ]
    },
    {
      "cell_type": "markdown",
      "metadata": {
        "id": "S-LAqlz0NAff"
      },
      "source": [
        "《What is MNIST？》  \n",
        "It is a standard dataset for image classification and handwritten number recognition.  \n",
        "This dataset contains 60,000 training and 10,000 test 28x28 pixel black and white images and their labels of which numbers are 0-9."
      ]
    },
    {
      "cell_type": "markdown",
      "metadata": {
        "id": "eEx2kWUxNAff"
      },
      "source": [
        "《What is image data? 》  \n",
        "A digital image is a set of points, which are called pixels.  \n",
        "In general, for a black and white image, a pixel contains a value between 0 and 255.  \n",
        "On the other hand, a color image contains values from 0 to 255 corresponding to R (red), G (green), and B (blue).  \n",
        "In machine learning, each of these values from 0 to 255 is treated as a feature value.  \n",
        "Since 0-255 is a range that can be expressed by an unsigned 8-bit integer  \n",
        "NumPy can hold them as variables of type \"uint8\"."
      ]
    },
    {
      "cell_type": "code",
      "metadata": {
        "id": "s5JwLbqmNAfg",
        "colab": {
          "base_uri": "https://localhost:8080/"
        },
        "outputId": "de10b226-82eb-4660-e124-067cc432fe79"
      },
      "source": [
        "# Code to download the dataset\n",
        "from keras.datasets import mnist\n",
        "(X_train, y_train), (X_test, y_test) = mnist.load_data()"
      ],
      "execution_count": null,
      "outputs": [
        {
          "output_type": "stream",
          "text": [
            "Downloading data from https://storage.googleapis.com/tensorflow/tf-keras-datasets/mnist.npz\n",
            "11493376/11490434 [==============================] - 0s 0us/step\n",
            "11501568/11490434 [==============================] - 0s 0us/step\n"
          ],
          "name": "stdout"
        }
      ]
    },
    {
      "cell_type": "markdown",
      "metadata": {
        "id": "pDk75wdsNAfg"
      },
      "source": [
        "### Check the data set.\n",
        "Let's see what kind of data we have."
      ]
    },
    {
      "cell_type": "code",
      "metadata": {
        "id": "dCCA9FOPNAfg",
        "colab": {
          "base_uri": "https://localhost:8080/"
        },
        "outputId": "134ebd78-f035-4999-dcf8-078f0faaa745"
      },
      "source": [
        "print(X_train.shape) # (60000, 28, 28)\n",
        "print(X_test.shape) # (10000, 28, 28)\n",
        "print(X_train[0].dtype) # uint8\n",
        "# print(X_train[0])"
      ],
      "execution_count": null,
      "outputs": [
        {
          "output_type": "stream",
          "text": [
            "(60000, 28, 28)\n",
            "(10000, 28, 28)\n",
            "uint8\n"
          ],
          "name": "stdout"
        }
      ]
    },
    {
      "cell_type": "markdown",
      "metadata": {
        "id": "dB7aJfpsNAfh"
      },
      "source": [
        "### Smoothing\n",
        "Each image of (1, 28, 28) is transformed to (1, 784).  \n",
        "This is the form we will use in the machine learning methods we have learned so far and in the neural network with only the all-connected layer we will work with.  \n",
        "The fact that all the pixels are in a single row is called flatten."
      ]
    },
    {
      "cell_type": "code",
      "metadata": {
        "id": "5f-tfGhoNAfh",
        "colab": {
          "base_uri": "https://localhost:8080/"
        },
        "outputId": "1a6fe6e3-4067-4c62-d179-b918b93167a5"
      },
      "source": [
        "X_train = X_train.reshape(-1, 784)\n",
        "X_test = X_test.reshape(-1, 784)\n",
        "print(X_train.shape)\n",
        "print(X_test.shape)"
      ],
      "execution_count": null,
      "outputs": [
        {
          "output_type": "stream",
          "text": [
            "(60000, 784)\n",
            "(10000, 784)\n"
          ],
          "name": "stdout"
        }
      ]
    },
    {
      "cell_type": "markdown",
      "metadata": {
        "id": "5I4cUhndNAfi"
      },
      "source": [
        "《Supplement》  \n",
        "Up to this point in learning machine learning, we have been referring to the number of features as \"dimensions\".  \n",
        "From that perspective, MNIST is 784 dimensions of data.  \n",
        "  \n",
        "On the other hand, the state where NumPy's shape is (784,) is also called a one-dimensional array.  \n",
        "If it is in the state of (28, 28), which has information of height and width as an image, it is a two-dimensional array.  \n",
        "From this perspective, it is two-dimensional data.  \n",
        "Furthermore, if it is a color image, then it is (28, 28, 3), which is a 3-dimensional array.  \n",
        "In the previous viewpoint, the data is in three dimensions.  \n",
        "  \n",
        "However, from the perspective that it is a flat image, whether in black and white or color, and not a three-dimensional data, it is a two-dimensional data.  \n",
        "Note that the word \"dimension\" is used with multiple meanings in this way when dealing with image data."
      ]
    },
    {
      "cell_type": "markdown",
      "metadata": {
        "id": "-WM7y68xNAfi"
      },
      "source": [
        "### Visualize image data.\n",
        "Visualize the image data, passing it to plt.imshow.\n",
        "https://matplotlib.org/api/_as_gen/matplotlib.pyplot.imshow.html"
      ]
    },
    {
      "cell_type": "code",
      "metadata": {
        "id": "57IedZjvNAfi",
        "colab": {
          "base_uri": "https://localhost:8080/",
          "height": 281
        },
        "outputId": "14ce4eb4-8e18-441d-b297-6fe92df6c4f4"
      },
      "source": [
        "import matplotlib.pyplot as plt\n",
        "%matplotlib inline\n",
        "\n",
        "index = 0\n",
        "image = X_train[index].reshape(28,28)\n",
        "# X_train[index]: (784,)\n",
        "# image: (28, 28)\n",
        "plt.imshow(image, 'gray')\n",
        "plt.title('label : {}'.format(y_train[index]))\n",
        "plt.show()"
      ],
      "execution_count": null,
      "outputs": [
        {
          "output_type": "display_data",
          "data": {
            "image/png": "[encoded data removed]",
            "text/plain": [
              "<Figure size 432x288 with 1 Axes>"
            ]
          },
          "metadata": {
            "tags": [],
            "needs_background": "light"
          }
        }
      ]
    },
    {
      "cell_type": "markdown",
      "metadata": {
        "id": "CQYV_oaANAfj"
      },
      "source": [
        "《Developmental topic》\n",
        "\n",
        "Image data is usually held as unsigned 8-bit integers of type uint8, but plt.imshow can display a more free array as an image. For example, even a floating point of type float64 with a negative value as shown below will not cause an error and will be displayed in exactly the same way as before.\n",
        "  \n",
        "This is because the program is designed to automatically convert the value to an integer between 0 and 255 for processing, and even if it is of type uint8, if the minimum value is not 0 and the maximum value is 255, the coloration will be wrong. To prevent this, use the following argument.\n",
        "  \n",
        "In image-related libraries, this automatic scaling may produce unexpected results, so please check when using new methods."
      ]
    },
    {
      "cell_type": "markdown",
      "metadata": {
        "id": "NW62X6g9NAfj"
      },
      "source": [
        "### Preprocessing\n",
        "Images are represented as uint8 type (0-255), but for machine learning, they are handled as float type (0-1).\n",
        "The following code will help you convert them."
      ]
    },
    {
      "cell_type": "code",
      "metadata": {
        "id": "XByG-cpnNAfj",
        "colab": {
          "base_uri": "https://localhost:8080/"
        },
        "outputId": "9fa1c854-267e-4db2-d997-affbdfbb2da6"
      },
      "source": [
        "# Type conversion, normalization\n",
        "X_train = X_train.astype(np.float)\n",
        "X_test = X_test.astype(np.float)\n",
        "X_train /= 255\n",
        "X_test /= 255\n",
        "print(X_train.max()) # 1.0\n",
        "print(X_train.min()) # 0.0"
      ],
      "execution_count": null,
      "outputs": [
        {
          "output_type": "stream",
          "text": [
            "1.0\n",
            "0.0\n"
          ],
          "name": "stdout"
        }
      ]
    },
    {
      "cell_type": "code",
      "metadata": {
        "id": "yWceDhYZNAfj",
        "colab": {
          "base_uri": "https://localhost:8080/"
        },
        "outputId": "79c7a95d-3445-451f-fc60-718ae983d106"
      },
      "source": [
        "# Split into training data and validation data\n",
        "from sklearn.model_selection import train_test_split\n",
        "\n",
        "X_train, X_val, y_train, y_val = train_test_split(X_train, y_train, test_size=0.2)\n",
        "print(X_train.shape)\n",
        "print(X_val.shape)"
      ],
      "execution_count": null,
      "outputs": [
        {
          "output_type": "stream",
          "text": [
            "(48000, 784)\n",
            "(12000, 784)\n"
          ],
          "name": "stdout"
        }
      ]
    },
    {
      "cell_type": "markdown",
      "metadata": {
        "id": "Jg11u7bHNAfj"
      },
      "source": [
        "The correct labels are integers from 0 to 9, but for multi-class classification in a neural network, they are converted to one-hot representation. scikit-learn's OneHotEncoder can be used for this purpose. The value in the one-hot representation shows the probability of being the label, so it is treated as a float type.\n",
        "\n",
        "https://scikit-learn.org/stable/modules/generated/sklearn.preprocessing.OneHotEncoder.html"
      ]
    },
    {
      "cell_type": "code",
      "metadata": {
        "id": "JkRJgpiBNAfk",
        "colab": {
          "base_uri": "https://localhost:8080/"
        },
        "outputId": "abc38cb8-bf67-483d-b04b-f6dffa596aa5"
      },
      "source": [
        "# One-hot encoding of correct label value\n",
        "from sklearn.preprocessing import OneHotEncoder\n",
        "\n",
        "enc = OneHotEncoder(handle_unknown='ignore', sparse=False)\n",
        "y_train_one_hot = enc.fit_transform(y_train[:, np.newaxis])\n",
        "y_val_one_hot = enc.transform(y_val[:, np.newaxis])\n",
        "print(y_train.shape) # (60000,)\n",
        "print(y_train_one_hot.shape) # (60000, 10)\n",
        "print(y_train_one_hot.dtype) # float64"
      ],
      "execution_count": null,
      "outputs": [
        {
          "output_type": "stream",
          "text": [
            "(48000,)\n",
            "(48000, 10)\n",
            "float64\n"
          ],
          "name": "stdout"
        }
      ]
    },
    {
      "cell_type": "markdown",
      "metadata": {
        "id": "Q4Z-l_qVNAfk"
      },
      "source": [
        "## Scratch Neural Network"
      ]
    },
    {
      "cell_type": "markdown",
      "metadata": {
        "id": "8lm0WqchNAfk"
      },
      "source": [
        "We will create a neural network class from scratch.  \n",
        "We will implement the algorithm using only the minimum number of libraries such as NumPy.  \n",
        "  \n",
        "This time, we will create a 3-layer neural network that performs multi-class classification.  \n",
        "We will learn the basics of neural networks with a fixed number of layers.  \n",
        "In the next Sprint, we will create a design where the layers can be changed freely.\n",
        "\n",
        "We have prepared a template below.  \n",
        "Please add your code to this ScratchSimpleNeuralNetrowkClassifier class."
      ]
    },
    {
      "cell_type": "markdown",
      "metadata": {
        "id": "U0yrviSNNAfk"
      },
      "source": [
        "### Mini-batch processing\n",
        "In the past, machine learning scratch computed all samples at once.  \n",
        "However, in neural networks, the stochastic gradient descent method is commonly used, where the data is input in pieces.  \n",
        "The number of samples is called the batch size.\n",
        "  \n",
        "In this case, the batch size is set to 20.  \n",
        "Since we have 48,000 pieces of training data to use this time, 48,000 divided by 20 means 2,400 iterations of updates.  \n",
        "In neural networks, this is called 2400 iterations.  \n",
        "Once all the training data has been viewed, one epoch has been completed.  \n",
        "Repeating this epoch multiple times completes the learning process.\n",
        "\n",
        "We have prepared a simple iterator to achieve this, which can be called with a for statement to get a mini-batch."
      ]
    },
    {
      "cell_type": "code",
      "metadata": {
        "id": "YuteL9KXNAfk"
      },
      "source": [
        "# Mini-batch processing class\n",
        "class GetMiniBatch:\n",
        "    \"\"\"\n",
        "    Iterator to get the mini-batch\n",
        "\n",
        "    Parameters\n",
        "    ----------\n",
        "    X : ndarray of the following form, shape (n_samples, n_features)\n",
        "      Training data\n",
        "    y : ndarray of the following form, shape (n_samples, 1)\n",
        "      correct value\n",
        "    batch_size : int\n",
        "      Batch Size\n",
        "    seed : int\n",
        "      Seeding random numbers in NumPy\n",
        "    \"\"\"\n",
        "    def __init__(self, X, y, batch_size = 20, seed=None):\n",
        "        self.batch_size = batch_size\n",
        "        np.random.seed(seed)\n",
        "        shuffle_index = np.random.permutation(np.arange(X.shape[0]))\n",
        "        self._X = X[shuffle_index]\n",
        "        self._y = y[shuffle_index]\n",
        "        self._stop = np.ceil(X.shape[0]/self.batch_size).astype(np.int)\n",
        "    def __len__(self):\n",
        "        return self._stop\n",
        "    def __getitem__(self,item):\n",
        "        p0 = item*self.batch_size\n",
        "        p1 = item*self.batch_size + self.batch_size\n",
        "        return self._X[p0:p1], self._y[p0:p1]        \n",
        "    def __iter__(self):\n",
        "        self._counter = 0\n",
        "        return self\n",
        "    def __next__(self):\n",
        "        if self._counter >= self._stop:\n",
        "            raise StopIteration()\n",
        "        p0 = self._counter*self.batch_size\n",
        "        p1 = self._counter*self.batch_size + self.batch_size\n",
        "        self._counter += 1\n",
        "        return self._X[p0:p1], self._y[p0:p1]"
      ],
      "execution_count": null,
      "outputs": []
    },
    {
      "cell_type": "code",
      "metadata": {
        "id": "j1A3lQBXNAfl",
        "colab": {
          "base_uri": "https://localhost:8080/"
        },
        "outputId": "b59b7656-b122-442b-aa46-7ca9c3404d47"
      },
      "source": [
        "# Mini-batch processing\n",
        "get_mini_batch = GetMiniBatch(X_train, y_train, batch_size=20)\n",
        "print(len(get_mini_batch)) # 2400\n",
        "print(get_mini_batch[5]) # Can get the fifth mini-batch.\n",
        "\n",
        "for mini_X_train, mini_y_train in get_mini_batch:\n",
        "    # You can use a mini-batch within this for statement\n",
        "    pass"
      ],
      "execution_count": null,
      "outputs": [
        {
          "output_type": "stream",
          "text": [
            "2400\n",
            "(array([[0., 0., 0., ..., 0., 0., 0.],\n",
            "       [0., 0., 0., ..., 0., 0., 0.],\n",
            "       [0., 0., 0., ..., 0., 0., 0.],\n",
            "       ...,\n",
            "       [0., 0., 0., ..., 0., 0., 0.],\n",
            "       [0., 0., 0., ..., 0., 0., 0.],\n",
            "       [0., 0., 0., ..., 0., 0., 0.]]), array([0, 5, 9, 4, 1, 5, 6, 0, 8, 9, 5, 0, 7, 1, 4, 1, 2, 2, 1, 4],\n",
            "      dtype=uint8))\n"
          ],
          "name": "stdout"
        }
      ]
    },
    {
      "cell_type": "code",
      "metadata": {
        "id": "JPt8XRU4NAfl"
      },
      "source": [
        "# Scratch Neural Network\n",
        "class ScratchSimpleNeuralNetrowkClassifier():\n",
        "    \"\"\"\n",
        "    A simple three-layer neural network classifier\n",
        "    Parameters\n",
        "    ----------\n",
        "\n",
        "    Attributes\n",
        "    ----------\n",
        "    \"\"\"\n",
        "    def __init__(self, n_epoch=50, n_features=784, n_nodes1=400, n_nodes2=200, \n",
        "                 n_output=10, sigma=0.01, n_batch=20, \n",
        "                 activate_function_key='tanh', lr = 0.01, verbose = False):\n",
        "        \n",
        "        self.n_epoch = n_epoch\n",
        "        self.n_features = n_features\n",
        "        self.n_nodes1 = n_nodes1\n",
        "        self.n_nodes2 = n_nodes2\n",
        "        self.n_output = n_output\n",
        "        self.sigma = sigma\n",
        "        self.n_batch = n_batch\n",
        "        self.activate_function_key = activate_function_key\n",
        "        self.lr = lr\n",
        "        self.verbose = verbose\n",
        "        \n",
        "    def initial_weight(self):\n",
        "        self.W1 = self.sigma * np.random.randn(self.n_features, self.n_nodes1)\n",
        "        self.b1 = np.zeros(self.n_nodes1)\n",
        "        self.W2 = self.sigma * np.random.randn(self.n_nodes1, self.n_nodes2)\n",
        "        self.b2 = np.zeros(self.n_nodes2)\n",
        "        self.W3 = self.sigma * np.random.randn(self.n_nodes2, self.n_output)\n",
        "        self.b3 = np.zeros(self.n_output)\n",
        "        \n",
        "    def activation_function(self,X):\n",
        "        if self.activate_function_key == 'sigmoid':\n",
        "            return 1/(1+np.exp(-X))\n",
        "        \n",
        "        elif self.activate_function_key == 'tanh':\n",
        "            return np.tanh(X)\n",
        "    \n",
        "    def softmax(self,X):\n",
        "        \n",
        "        return np.exp(X-np.max(X))/np.sum(np.exp(X-np.max(X)),axis=1,keepdims=True)\n",
        "    \n",
        "    def loss_function(self,y,yt):\n",
        "        delta = 1e-7\n",
        "        return -np.mean(yt*np.log(y+delta))\n",
        "    \n",
        "    def gradient_descent(self,X,y,yt):\n",
        "        \n",
        "            # 3rd layer\n",
        "            delta_a3 = (y-yt)/self.n_batch\n",
        "            delta_b3 = np.sum(delta_a3,axis=0)\n",
        "            delta_W3 = np.dot(self.z2.T,delta_a3)\n",
        "            delta_z2 = np.dot(delta_a3,self.W3.T)\n",
        "        \n",
        "            self.W3 -= self.lr*delta_W3\n",
        "            self.b3 -= self.lr*delta_b3\n",
        "        \n",
        "            # 2nd layer\n",
        "            if self.activate_function_key == 'sigmoid':\n",
        "                delta_a2 = delta_z2*(1-self.activation_function(self.z2))*self.activation_function(self.z2)\n",
        "            \n",
        "            elif self.activate_function_key == 'tanh':\n",
        "                delta_a2 = delta_z2*(1-np.tanh(self.z2)**2)\n",
        "            \n",
        "            delta_b2 = np.sum(delta_a2,axis=0)\n",
        "            delta_W2 = np.dot(self.z1.T,delta_a2)\n",
        "            delta_z1 = np.dot(delta_a2,self.W2.T)\n",
        "        \n",
        "            self.W2 -= self.lr*delta_W2\n",
        "            self.b2 -= self.lr*delta_b2\n",
        "        \n",
        "            # 1st layer\n",
        "            if self.activate_function_key == 'sigmoid':\n",
        "                delta_a1 = delta_z1*(1-self.activation_function(self.z1))*self.activation_function(self.z1)\n",
        "            \n",
        "            elif self.activate_function_key == 'tanh':\n",
        "                delta_a1 = delta_z1*(1-np.tanh(self.z1)**2)\n",
        "                \n",
        "            delta_b1 = np.sum(delta_a1,axis=0)\n",
        "            delta_W1 = np.dot(X.T,delta_a1)\n",
        "        \n",
        "            self.W1 -= self.lr*delta_W1\n",
        "            self.b1 -= self.lr*delta_b1\n",
        "                \n",
        "    def fit(self, X, y, X_val=False, y_val=False):\n",
        "        \"\"\"\n",
        "        Train a neural network classifier.。\n",
        "\n",
        "        Parameters\n",
        "        ----------\n",
        "        X : ndarray of the following form, shape (n_samples, n_features)\n",
        "            Features of training data\n",
        "        y : ndarray of the following form, shape (n_samples, )\n",
        "            Correct answer value of training data\n",
        "        X_val : ndarray of the following form, shape (n_samples, n_features)\n",
        "            Features of validation data\n",
        "        y_val : ndarray of the following form, shape (n_samples, )\n",
        "            Correct value of validation data\n",
        "        \"\"\"\n",
        "        # Initialize weights\n",
        "        self.initial_weight()\n",
        "        \n",
        "        # List to record the loss_function for each epoch\n",
        "        self.log_loss = []\n",
        "        self.log_loss_val = []\n",
        "        \n",
        "        # Evaluate the estimation of Train data per epoch: Accuracy\n",
        "        self.log_acc = []\n",
        "        self.log_acc_val = []\n",
        "        \n",
        "        for epoch in range(self.n_epoch):\n",
        "            # Mini-batch processing\n",
        "            get_mini_batch = GetMiniBatch(X, y, batch_size=self.n_batch)\n",
        "            \n",
        "            self.loss = 0\n",
        "            self.true_y = np.array([])\n",
        "            self.pred_y = np.array([])\n",
        "            \n",
        "            for mini_X_train, mini_y_train in get_mini_batch:\n",
        "            \n",
        "                # 1st layer\n",
        "                self.z1 = self.activation_function(np.dot(mini_X_train,self.W1) + self.b1)\n",
        "            \n",
        "                # 2nd layer\n",
        "                self.z2 = self.activation_function(np.dot(self.z1,self.W2) + self.b2)\n",
        "            \n",
        "                # 3rd layer (softmax function)\n",
        "                yhat = self.softmax(np.dot(self.z2,self.W3) + self.b3)\n",
        "                \n",
        "                # Backpropagation (stochastic gradient descent method)）\n",
        "                self.gradient_descent(mini_X_train,yhat,mini_y_train)\n",
        "                \n",
        "                # Record correct and estimated values for mini-batch data\n",
        "                self.true_y = np.concatenate([self.true_y,np.argmax(mini_y_train,axis=1)])\n",
        "                self.pred_y = np.concatenate([self.pred_y,np.argmax(yhat,axis=1)])\n",
        "                \n",
        "                # Loss function\n",
        "                self.loss += self.loss_function(yhat,mini_y_train)\n",
        "            \n",
        "            # Record the loss function for each epoch\n",
        "            self.log_loss.append(self.loss/len(get_mini_batch))\n",
        "            \n",
        "            # Accuracy\n",
        "            acc = accuracy_score(self.true_y, self.pred_y)\n",
        "            self.log_acc.append(acc)\n",
        "            \n",
        "            # Calculate once Val data has been entered\n",
        "            if (type(X_val) != bool):\n",
        "                # 1st layer\n",
        "                self.z1_val = self.activation_function(np.dot(X_val,self.W1) + self.b1)\n",
        "            \n",
        "                # 2nd layer\n",
        "                self.z2_val = self.activation_function(np.dot(self.z1_val,self.W2) + self.b2)\n",
        "            \n",
        "                # 3rd layer (softmax function)\n",
        "                yhat_val = self.softmax(np.dot(self.z2_val,self.W3) + self.b3)\n",
        "                \n",
        "                # Loss function\n",
        "                self.loss_val = self.loss_function(yhat_val,y_val)\n",
        "                self.log_loss_val.append(self.loss_val)\n",
        "                \n",
        "                # Accuracy\n",
        "                \n",
        "                acc_val = accuracy_score(np.argmax(y_val,axis=1), np.argmax(yhat_val,axis=1))\n",
        "                self.log_acc_val.append(acc_val)\n",
        "            \n",
        "            #When verbose is set to true, output the learning process and other information.\n",
        "            if self.verbose:\n",
        "                print('epoch:{:>3} loss:{:>8,.3f} acc:{:>5,.3f}'.format(epoch,self.loss/self.n_batch,acc))\n",
        "            \n",
        "    def predict(self, X):\n",
        "        \"\"\"\n",
        "        Estimate using a neural network classifier.。\n",
        "\n",
        "        Parameters\n",
        "        ----------\n",
        "        X : ndarray of the following form, shape (n_samples, n_features)\n",
        "            Sample\n",
        "\n",
        "        Returns\n",
        "        -------\n",
        "            ndarray of the following form, shape (n_samples, 1)\n",
        "            Estimation results\n",
        "        \"\"\"\n",
        "        # 1st layer\n",
        "        self.pred_z1 = self.activation_function(np.dot(X,self.W1) + self.b1)\n",
        "            \n",
        "        # 2nd layer\n",
        "        self.pred_z2 = self.activation_function(np.dot(self.pred_z1,self.W2) + self.b2)\n",
        "        \n",
        "        return np.argmax(np.dot(self.pred_z2,self.W3) + self.b3, axis=1)"
      ],
      "execution_count": null,
      "outputs": []
    },
    {
      "cell_type": "markdown",
      "metadata": {
        "id": "25QsiU6PNAfn"
      },
      "source": [
        "### Learning\n",
        "Training a neural network is an iterative process of forward propagation and back propagation."
      ]
    },
    {
      "cell_type": "markdown",
      "metadata": {
        "id": "aH2Tzyw9NAfp"
      },
      "source": [
        "### 【Problem 1】Create the code to determine the initial values of the weights\n",
        "Create the code to determine the initial values of the weights for each layer of the neural network.\n",
        "  \n",
        "Various methods have been proposed for the initial values of the weights, but this time we will use a simple initialization using Gaussian distribution.  \n",
        "The same applies to bias.  \n",
        "  \n",
        "Please refer to the following code.  \n",
        "The value of the standard deviation, sigma, is a hyperparameter. More advanced methods of initializing weights will be covered in the next Sprint."
      ]
    },
    {
      "cell_type": "code",
      "metadata": {
        "id": "71rPBPqZNAfp",
        "colab": {
          "base_uri": "https://localhost:8080/"
        },
        "outputId": "80eb0204-5ae0-4d27-84aa-743866f3ac82"
      },
      "source": [
        "# Initial value of weight\n",
        "n_features = 784\n",
        "n_nodes1 = 400\n",
        "n_nodes2 = 200\n",
        "n_output =10\n",
        "\n",
        "# Standard deviation of Gaussian distribution\n",
        "sigma = 0.01 \n",
        "W1 = sigma * np.random.randn(n_features, n_nodes1)\n",
        "print('W1',W1.shape)"
      ],
      "execution_count": null,
      "outputs": [
        {
          "output_type": "stream",
          "text": [
            "W1 (784, 400)\n"
          ],
          "name": "stdout"
        }
      ]
    },
    {
      "cell_type": "code",
      "metadata": {
        "id": "5cYAA5Q6NAfp",
        "colab": {
          "base_uri": "https://localhost:8080/"
        },
        "outputId": "3917b956-4125-459a-b1f7-db2341f1a889"
      },
      "source": [
        "W1 = sigma * np.random.randn(n_features, n_nodes1)\n",
        "b1 = sigma * np.random.randn(n_nodes1)\n",
        "W2 = sigma * np.random.randn(n_nodes1, n_nodes2)\n",
        "b2 = sigma * np.random.randn(n_nodes2)\n",
        "W3 = sigma * np.random.randn(n_nodes2, n_output)\n",
        "b3 = sigma * np.random.randn(n_output)\n",
        "\n",
        "print('W1',W1.shape)\n",
        "print('W2',W2.shape)\n",
        "print('W3',W3.shape)\n",
        "print('b1',b1.shape)\n",
        "print('b2',b2.shape)\n",
        "print('b3',b3.shape)"
      ],
      "execution_count": null,
      "outputs": [
        {
          "output_type": "stream",
          "text": [
            "W1 (784, 400)\n",
            "W2 (400, 200)\n",
            "W3 (200, 10)\n",
            "b1 (400,)\n",
            "b2 (200,)\n",
            "b3 (10,)\n"
          ],
          "name": "stdout"
        }
      ]
    },
    {
      "cell_type": "markdown",
      "metadata": {
        "id": "XOp6HWftNAfp"
      },
      "source": [
        "### 【Problem 2】Implementing Forward Propagation\n",
        "Create a forward propagation for a three-layer neural network.\n",
        "In the following description, the number of nodes is set to 400 for the first layer and 200 for the second layer, but you may change it.  \n",
        "  \n",
        "The formulas for each layer are shown below.  \n",
        "This time, we have also included the ndarray shape of the array represented by each symbol in the implementation."
      ]
    },
    {
      "cell_type": "markdown",
      "metadata": {
        "id": "T3sRtkyXNAfq"
      },
      "source": [
        "### Activation Function (Forward Propagation)\n",
        "Create an activation function and use it in the forward propagation.  \n",
        "It is recommended to implement it so that it can be switched between the two, but one of them is fine.\n",
        "  \n",
        "#### \"Sigmoid Function\n",
        "https://docs.scipy.org/doc/numpy-1.15.1/reference/generated/numpy.exp.html  \n",
        "  \n",
        "#### \"Hyperbolic Tangent Function\n",
        "https://docs.scipy.org/doc/numpy-1.15.1/reference/generated/numpy.tanh.html  "
      ]
    },
    {
      "cell_type": "markdown",
      "metadata": {
        "id": "HEmDi2wlNAfq"
      },
      "source": [
        "### Softmax Functions\n",
        "Create a softmax function and use it in the forward propagation.  \n",
        "This is also a type of activation function, but is often treated differently due to its characteristic of being used in the output layer of multiclass classification."
      ]
    },
    {
      "cell_type": "code",
      "metadata": {
        "id": "SheDE0zyNAfq"
      },
      "source": [
        "X = X_train[0:20]"
      ],
      "execution_count": null,
      "outputs": []
    },
    {
      "cell_type": "code",
      "metadata": {
        "id": "L0u5O-9sNAfq",
        "colab": {
          "base_uri": "https://localhost:8080/"
        },
        "outputId": "0d2bd636-22c4-4b60-88a5-e8f47f4cdc19"
      },
      "source": [
        "# Linear combination of the first layer\n",
        "z1 = np.dot(X,W1)# + b1\n",
        "print('z1.shape:',z1.shape)\n",
        "print(z1)"
      ],
      "execution_count": null,
      "outputs": [
        {
          "output_type": "stream",
          "text": [
            "z1.shape: (20, 400)\n",
            "[[-6.79976364e-02  4.34799395e-02  1.18466074e-01 ... -6.66163329e-04\n",
            "  -5.61309238e-03  1.44158882e-01]\n",
            " [-2.69613930e-04 -6.12563496e-02  8.35040096e-02 ...  1.35789019e-01\n",
            "  -2.07136468e-02  3.14974366e-01]\n",
            " [ 5.57402036e-03 -6.39153196e-02  3.97924904e-02 ...  1.46868176e-01\n",
            "  -2.69579380e-02  2.17291420e-01]\n",
            " ...\n",
            " [ 3.55533562e-02 -2.51726913e-02  7.09363782e-02 ... -8.76263610e-02\n",
            "  -6.02089252e-02  1.77869596e-01]\n",
            " [ 9.37230597e-02 -1.01818177e-01  2.25233112e-01 ... -1.34153063e-02\n",
            "  -1.21015538e-01  8.23162979e-03]\n",
            " [-2.92295193e-02 -6.35164671e-02  1.99008969e-01 ... -3.75652047e-02\n",
            "  -4.58605722e-02  1.42285531e-01]]\n"
          ],
          "name": "stdout"
        }
      ]
    },
    {
      "cell_type": "code",
      "metadata": {
        "id": "bd0z9TwaNAfq",
        "colab": {
          "base_uri": "https://localhost:8080/"
        },
        "outputId": "af6c68dc-0b6b-4da6-c09e-6ba27f1ab820"
      },
      "source": [
        "# Activation function for the first layer\n",
        "sig1 = 1/(1+np.exp(-z1))\n",
        "print('sig1.shape:',sig1.shape)\n",
        "print(sig1)"
      ],
      "execution_count": null,
      "outputs": [
        {
          "output_type": "stream",
          "text": [
            "sig1.shape: (20, 400)\n",
            "[[0.48300714 0.51086827 0.52958193 ... 0.49983346 0.49859673 0.53597744]\n",
            " [0.4999326  0.4846907  0.52086388 ... 0.53389519 0.49482177 0.57809898]\n",
            " [0.5013935  0.48402661 0.50994681 ... 0.53665119 0.49326092 0.55411012]\n",
            " ...\n",
            " [0.5088874  0.49370716 0.51772666 ... 0.47810742 0.48495231 0.54435053]\n",
            " [0.52341363 0.47456742 0.55607144 ... 0.49664622 0.46978298 0.5020579 ]\n",
            " [0.49269314 0.48412622 0.54958869 ... 0.4906098  0.48853687 0.53551149]]\n"
          ],
          "name": "stdout"
        }
      ]
    },
    {
      "cell_type": "code",
      "metadata": {
        "id": "RIQQltP0NAfr",
        "colab": {
          "base_uri": "https://localhost:8080/"
        },
        "outputId": "2442d3e8-b211-4cf2-fe6e-c946ef9c34b5"
      },
      "source": [
        "# Linear combination of the second layer\n",
        "z2 = np.dot(sig1,W2) + b2\n",
        "print('z2.shape:',z2.shape)\n",
        "print(z2)"
      ],
      "execution_count": null,
      "outputs": [
        {
          "output_type": "stream",
          "text": [
            "z2.shape: (20, 200)\n",
            "[[ 0.05123431  0.05514039 -0.01048198 ... -0.07173737  0.04497859\n",
            "   0.01254243]\n",
            " [ 0.04601966  0.04485843 -0.01117266 ... -0.07524691  0.0470582\n",
            "   0.01812542]\n",
            " [ 0.0546461   0.04630385 -0.01328175 ... -0.07663197  0.04353559\n",
            "   0.01475462]\n",
            " ...\n",
            " [ 0.05465651  0.04728701 -0.00864906 ... -0.08516159  0.05491999\n",
            "   0.01083647]\n",
            " [ 0.06125601  0.05338205 -0.0154025  ... -0.08088489  0.048177\n",
            "   0.01327807]\n",
            " [ 0.05321307  0.04521148 -0.00786091 ... -0.07581462  0.04496876\n",
            "   0.01294322]]\n"
          ],
          "name": "stdout"
        }
      ]
    },
    {
      "cell_type": "code",
      "metadata": {
        "id": "4pIL3OZBNAfr",
        "colab": {
          "base_uri": "https://localhost:8080/"
        },
        "outputId": "22f702a3-5eae-4565-be8e-66aaa8958c26"
      },
      "source": [
        "# Activation function for the second layer\n",
        "sig2 = 1/(1+np.exp(-z2))\n",
        "print('sig2.shape:',sig2.shape)\n",
        "print(sig2)"
      ],
      "execution_count": null,
      "outputs": [
        {
          "output_type": "stream",
          "text": [
            "sig2.shape: (20, 200)\n",
            "[[0.51280578 0.5137816  0.49737953 ... 0.48207334 0.51124275 0.50313557]\n",
            " [0.51150289 0.51121273 0.49720686 ... 0.48119714 0.51176238 0.50453123]\n",
            " [0.51365813 0.51157389 0.49667961 ... 0.48085138 0.51088218 0.50368859]\n",
            " ...\n",
            " [0.51366073 0.51181955 0.49783775 ... 0.47872246 0.51372655 0.50270909]\n",
            " [0.51530922 0.51334234 0.49614945 ... 0.47978979 0.51204192 0.50331947]\n",
            " [0.51330013 0.51130095 0.49803478 ... 0.48105542 0.5112403  0.50323576]]\n"
          ],
          "name": "stdout"
        }
      ]
    },
    {
      "cell_type": "code",
      "metadata": {
        "id": "BtqgVLT_NAfr",
        "colab": {
          "base_uri": "https://localhost:8080/"
        },
        "outputId": "03b8ed3e-c792-4ed7-d8c3-2e264477b1a2"
      },
      "source": [
        "# 3rd layer linear combination\n",
        "z3 = np.dot(sig2,W3) + b3\n",
        "print('z3.shape:',z3.shape)\n",
        "print(z3)"
      ],
      "execution_count": null,
      "outputs": [
        {
          "output_type": "stream",
          "text": [
            "z3.shape: (20, 10)\n",
            "[[-0.02462867 -0.02946858 -0.01168607 -0.01248007  0.01436954  0.07257178\n",
            "   0.00190216 -0.04738255 -0.01053051  0.06673001]\n",
            " [-0.02464276 -0.02962501 -0.01203021 -0.01241724  0.01443412  0.07293272\n",
            "   0.00172755 -0.0473003  -0.01047693  0.0667637 ]\n",
            " [-0.02446868 -0.02922119 -0.01187178 -0.01245047  0.01437905  0.07273975\n",
            "   0.00200357 -0.04753757 -0.0104947   0.06681791]\n",
            " [-0.02474589 -0.0293572  -0.01159291 -0.01258752  0.0144975   0.07289471\n",
            "   0.00180899 -0.04722427 -0.01064165  0.06692959]\n",
            " [-0.02447709 -0.02917223 -0.01175721 -0.01260625  0.01464248  0.07250784\n",
            "   0.00211783 -0.04755091 -0.01070411  0.06674042]\n",
            " [-0.02476517 -0.02919198 -0.01165113 -0.01260756  0.01440262  0.07284416\n",
            "   0.00191412 -0.04730085 -0.01056269  0.06693168]\n",
            " [-0.02457153 -0.02950245 -0.0118663  -0.01280592  0.01446288  0.07281796\n",
            "   0.00174588 -0.04744988 -0.01066964  0.06671767]\n",
            " [-0.02442188 -0.02955405 -0.01199315 -0.01284003  0.01455053  0.07253994\n",
            "   0.00197564 -0.04736508 -0.01081305  0.06659211]\n",
            " [-0.02470503 -0.02920511 -0.01164896 -0.01264075  0.01431583  0.0725044\n",
            "   0.0017486  -0.04749978 -0.01092833  0.06681036]\n",
            " [-0.02472419 -0.02936134 -0.01172915 -0.0124252   0.01444325  0.07287114\n",
            "   0.00193498 -0.04756089 -0.01079058  0.06667169]\n",
            " [-0.02471243 -0.02940021 -0.01181239 -0.01235555  0.01462505  0.07244722\n",
            "   0.0020303  -0.04754544 -0.01076455  0.06655476]\n",
            " [-0.02476599 -0.02928179 -0.01185273 -0.01260827  0.01446494  0.07252612\n",
            "   0.00204259 -0.04752566 -0.01061308  0.06688172]\n",
            " [-0.02479762 -0.02933254 -0.01191292 -0.01233618  0.01443766  0.07266328\n",
            "   0.00184337 -0.04751672 -0.01073718  0.0665939 ]\n",
            " [-0.02464745 -0.02959367 -0.01195773 -0.01224415  0.01455673  0.07247002\n",
            "   0.00174451 -0.04752939 -0.01047512  0.06678907]\n",
            " [-0.02471536 -0.02935302 -0.01178491 -0.01267133  0.01438124  0.07261084\n",
            "   0.00194546 -0.04737398 -0.01057475  0.0667501 ]\n",
            " [-0.02464334 -0.02936474 -0.01175195 -0.01292138  0.01451217  0.07251942\n",
            "   0.0018917  -0.04748813 -0.0108272   0.06664471]\n",
            " [-0.02451787 -0.02928507 -0.0117363  -0.01254992  0.01430898  0.07269502\n",
            "   0.00206574 -0.04751495 -0.010824    0.06694388]\n",
            " [-0.02464297 -0.02936979 -0.01166544 -0.01262494  0.01443008  0.07242072\n",
            "   0.00197587 -0.04726457 -0.0106874   0.06672125]\n",
            " [-0.02459015 -0.02951891 -0.01161484 -0.01276255  0.0144034   0.07275994\n",
            "   0.00186431 -0.04737643 -0.01063859  0.06649531]\n",
            " [-0.02497986 -0.02937861 -0.01174523 -0.01259377  0.0145093   0.0727489\n",
            "   0.00178839 -0.04728762 -0.0106473   0.06689637]]\n"
          ],
          "name": "stdout"
        }
      ]
    },
    {
      "cell_type": "code",
      "metadata": {
        "scrolled": false,
        "id": "UKfsDI3vNAfr",
        "colab": {
          "base_uri": "https://localhost:8080/"
        },
        "outputId": "0c1d78f1-521d-4ac1-dbc9-ee7215a2c5eb"
      },
      "source": [
        "# 3rd layer activation function (softmax function)\n",
        "sfmax = np.zeros([len(X),10])\n",
        "for i in range(20):\n",
        "    sfmax[i] = np.exp(z3[i])/np.sum(np.exp(z3[i]),axis=0)\n",
        "print('sfmax.shape:',sfmax.shape)\n",
        "print(sfmax)\n",
        "print(np.sum(sfmax))"
      ],
      "execution_count": null,
      "outputs": [
        {
          "output_type": "stream",
          "text": [
            "sfmax.shape: (20, 10)\n",
            "[[0.09730921 0.09683938 0.09857683 0.09849859 0.10117906 0.10724265\n",
            "  0.09992545 0.09512004 0.0986908  0.10661799]\n",
            " [0.09730781 0.0968242  0.09854288 0.09850475 0.10118557 0.10728134\n",
            "  0.09990798 0.09512784 0.09869607 0.10662156]\n",
            " [0.09731977 0.09685836 0.09855345 0.09849644 0.10117482 0.10725515\n",
            "  0.09993045 0.09510041 0.09868926 0.10662188]\n",
            " [0.0972918  0.09684419 0.09857993 0.09848194 0.10118577 0.10727068\n",
            "  0.09990999 0.09512924 0.09867375 0.1066327 ]\n",
            " [0.09732062 0.09686476 0.09856643 0.09848278 0.10120321 0.10723212\n",
            "  0.09994358 0.09510077 0.09867029 0.10661545]\n",
            " [0.09728967 0.09685994 0.09857394 0.0984797  0.10117591 0.10726498\n",
            "  0.09992023 0.0951217  0.09868129 0.10663265]\n",
            " [0.09731952 0.09684082 0.09856387 0.0984713  0.10119344 0.10727429\n",
            "  0.09991471 0.09511828 0.09868189 0.10662188]\n",
            " [0.09733639 0.09683812 0.09855371 0.09847028 0.10120471 0.10724702\n",
            "  0.09994005 0.09512861 0.09867008 0.10661102]\n",
            " [0.097308   0.09687109 0.09858679 0.09848906 0.10118009 0.10724228\n",
            "  0.0999165  0.09511497 0.09865786 0.10663338]\n",
            " [0.09730028 0.09685013 0.09857295 0.09850436 0.1011869  0.10727516\n",
            "  0.09992911 0.09510344 0.09866551 0.10661217]\n",
            " [0.09730433 0.09684926 0.09856769 0.09851417 0.10120832 0.10723291\n",
            "  0.09994162 0.09510776 0.09867103 0.1066029 ]\n",
            " [0.09729693 0.09685854 0.09856149 0.09848706 0.10118984 0.10723895\n",
            "  0.0999406  0.09510749 0.09868375 0.10663535]\n",
            " [0.09729747 0.09685723 0.09855922 0.09851752 0.10119084 0.10725765\n",
            "  0.0999244  0.09511188 0.09867517 0.10660863]\n",
            " [0.09731005 0.09682992 0.09855275 0.09852453 0.10120077 0.10723468\n",
            "  0.09991244 0.09510868 0.09869897 0.10662721]\n",
            " [0.09730248 0.09685227 0.09856881 0.09848148 0.10118202 0.10724872\n",
            "  0.09993153 0.09512253 0.09868817 0.106622  ]\n",
            " [0.09731576 0.09685737 0.09857841 0.0984632  0.10120179 0.10724583\n",
            "  0.0999326  0.0951178  0.09866961 0.10661764]\n",
            " [0.09731791 0.09685507 0.09856976 0.0984896  0.10117077 0.10725357\n",
            "  0.09993966 0.09510542 0.09865973 0.10663851]\n",
            " [0.09730898 0.0968501  0.09858004 0.0984855  0.10118639 0.10722774\n",
            "  0.09993401 0.09513241 0.0986765  0.10661833]\n",
            " [0.09731657 0.09683811 0.09858752 0.09847443 0.10118625 0.10726682\n",
            "  0.09992539 0.09512417 0.09868381 0.10659694]\n",
            " [0.09727557 0.09684862 0.09857153 0.09848793 0.10119375 0.10726224\n",
            "  0.09991463 0.0951296  0.09867982 0.10663631]]\n",
            "20.0\n"
          ],
          "name": "stdout"
        }
      ]
    },
    {
      "cell_type": "code",
      "metadata": {
        "id": "dWVlLKZeNAfr",
        "colab": {
          "base_uri": "https://localhost:8080/"
        },
        "outputId": "ba78e5b1-be00-4057-8f7e-117dfb9a0cdd"
      },
      "source": [
        "# Calculate without a for statement\n",
        "softmax = np.exp(z3).T/np.sum(np.exp(z3),axis=1)\n",
        "print('softmax.shape:',softmax.shape)\n",
        "print(softmax.T)\n",
        "print(np.sum(softmax))"
      ],
      "execution_count": null,
      "outputs": [
        {
          "output_type": "stream",
          "text": [
            "softmax.shape: (10, 20)\n",
            "[[0.09730921 0.09683938 0.09857683 0.09849859 0.10117906 0.10724265\n",
            "  0.09992545 0.09512004 0.0986908  0.10661799]\n",
            " [0.09730781 0.0968242  0.09854288 0.09850475 0.10118557 0.10728134\n",
            "  0.09990798 0.09512784 0.09869607 0.10662156]\n",
            " [0.09731977 0.09685836 0.09855345 0.09849644 0.10117482 0.10725515\n",
            "  0.09993045 0.09510041 0.09868926 0.10662188]\n",
            " [0.0972918  0.09684419 0.09857993 0.09848194 0.10118577 0.10727068\n",
            "  0.09990999 0.09512924 0.09867375 0.1066327 ]\n",
            " [0.09732062 0.09686476 0.09856643 0.09848278 0.10120321 0.10723212\n",
            "  0.09994358 0.09510077 0.09867029 0.10661545]\n",
            " [0.09728967 0.09685994 0.09857394 0.0984797  0.10117591 0.10726498\n",
            "  0.09992023 0.0951217  0.09868129 0.10663265]\n",
            " [0.09731952 0.09684082 0.09856387 0.0984713  0.10119344 0.10727429\n",
            "  0.09991471 0.09511828 0.09868189 0.10662188]\n",
            " [0.09733639 0.09683812 0.09855371 0.09847028 0.10120471 0.10724702\n",
            "  0.09994005 0.09512861 0.09867008 0.10661102]\n",
            " [0.097308   0.09687109 0.09858679 0.09848906 0.10118009 0.10724228\n",
            "  0.0999165  0.09511497 0.09865786 0.10663338]\n",
            " [0.09730028 0.09685013 0.09857295 0.09850436 0.1011869  0.10727516\n",
            "  0.09992911 0.09510344 0.09866551 0.10661217]\n",
            " [0.09730433 0.09684926 0.09856769 0.09851417 0.10120832 0.10723291\n",
            "  0.09994162 0.09510776 0.09867103 0.1066029 ]\n",
            " [0.09729693 0.09685854 0.09856149 0.09848706 0.10118984 0.10723895\n",
            "  0.0999406  0.09510749 0.09868375 0.10663535]\n",
            " [0.09729747 0.09685723 0.09855922 0.09851752 0.10119084 0.10725765\n",
            "  0.0999244  0.09511188 0.09867517 0.10660863]\n",
            " [0.09731005 0.09682992 0.09855275 0.09852453 0.10120077 0.10723468\n",
            "  0.09991244 0.09510868 0.09869897 0.10662721]\n",
            " [0.09730248 0.09685227 0.09856881 0.09848148 0.10118202 0.10724872\n",
            "  0.09993153 0.09512253 0.09868817 0.106622  ]\n",
            " [0.09731576 0.09685737 0.09857841 0.0984632  0.10120179 0.10724583\n",
            "  0.0999326  0.0951178  0.09866961 0.10661764]\n",
            " [0.09731791 0.09685507 0.09856976 0.0984896  0.10117077 0.10725357\n",
            "  0.09993966 0.09510542 0.09865973 0.10663851]\n",
            " [0.09730898 0.0968501  0.09858004 0.0984855  0.10118639 0.10722774\n",
            "  0.09993401 0.09513241 0.0986765  0.10661833]\n",
            " [0.09731657 0.09683811 0.09858752 0.09847443 0.10118625 0.10726682\n",
            "  0.09992539 0.09512417 0.09868381 0.10659694]\n",
            " [0.09727557 0.09684862 0.09857153 0.09848793 0.10119375 0.10726224\n",
            "  0.09991463 0.0951296  0.09867982 0.10663631]]\n",
            "20.0\n"
          ],
          "name": "stdout"
        }
      ]
    },
    {
      "cell_type": "code",
      "metadata": {
        "id": "SYzOg62MNAfs",
        "colab": {
          "base_uri": "https://localhost:8080/"
        },
        "outputId": "ca693918-1cf8-4803-e62d-9380a7984ceb"
      },
      "source": [
        "# without a for statement - part2\n",
        "softmax = np.exp(z3)/np.sum(np.exp(z3),axis=1,keepdims=True)\n",
        "print('softmax.shape:',softmax.shape)\n",
        "print(softmax)\n",
        "print(np.sum(softmax))"
      ],
      "execution_count": null,
      "outputs": [
        {
          "output_type": "stream",
          "text": [
            "softmax.shape: (20, 10)\n",
            "[[0.09730921 0.09683938 0.09857683 0.09849859 0.10117906 0.10724265\n",
            "  0.09992545 0.09512004 0.0986908  0.10661799]\n",
            " [0.09730781 0.0968242  0.09854288 0.09850475 0.10118557 0.10728134\n",
            "  0.09990798 0.09512784 0.09869607 0.10662156]\n",
            " [0.09731977 0.09685836 0.09855345 0.09849644 0.10117482 0.10725515\n",
            "  0.09993045 0.09510041 0.09868926 0.10662188]\n",
            " [0.0972918  0.09684419 0.09857993 0.09848194 0.10118577 0.10727068\n",
            "  0.09990999 0.09512924 0.09867375 0.1066327 ]\n",
            " [0.09732062 0.09686476 0.09856643 0.09848278 0.10120321 0.10723212\n",
            "  0.09994358 0.09510077 0.09867029 0.10661545]\n",
            " [0.09728967 0.09685994 0.09857394 0.0984797  0.10117591 0.10726498\n",
            "  0.09992023 0.0951217  0.09868129 0.10663265]\n",
            " [0.09731952 0.09684082 0.09856387 0.0984713  0.10119344 0.10727429\n",
            "  0.09991471 0.09511828 0.09868189 0.10662188]\n",
            " [0.09733639 0.09683812 0.09855371 0.09847028 0.10120471 0.10724702\n",
            "  0.09994005 0.09512861 0.09867008 0.10661102]\n",
            " [0.097308   0.09687109 0.09858679 0.09848906 0.10118009 0.10724228\n",
            "  0.0999165  0.09511497 0.09865786 0.10663338]\n",
            " [0.09730028 0.09685013 0.09857295 0.09850436 0.1011869  0.10727516\n",
            "  0.09992911 0.09510344 0.09866551 0.10661217]\n",
            " [0.09730433 0.09684926 0.09856769 0.09851417 0.10120832 0.10723291\n",
            "  0.09994162 0.09510776 0.09867103 0.1066029 ]\n",
            " [0.09729693 0.09685854 0.09856149 0.09848706 0.10118984 0.10723895\n",
            "  0.0999406  0.09510749 0.09868375 0.10663535]\n",
            " [0.09729747 0.09685723 0.09855922 0.09851752 0.10119084 0.10725765\n",
            "  0.0999244  0.09511188 0.09867517 0.10660863]\n",
            " [0.09731005 0.09682992 0.09855275 0.09852453 0.10120077 0.10723468\n",
            "  0.09991244 0.09510868 0.09869897 0.10662721]\n",
            " [0.09730248 0.09685227 0.09856881 0.09848148 0.10118202 0.10724872\n",
            "  0.09993153 0.09512253 0.09868817 0.106622  ]\n",
            " [0.09731576 0.09685737 0.09857841 0.0984632  0.10120179 0.10724583\n",
            "  0.0999326  0.0951178  0.09866961 0.10661764]\n",
            " [0.09731791 0.09685507 0.09856976 0.0984896  0.10117077 0.10725357\n",
            "  0.09993966 0.09510542 0.09865973 0.10663851]\n",
            " [0.09730898 0.0968501  0.09858004 0.0984855  0.10118639 0.10722774\n",
            "  0.09993401 0.09513241 0.0986765  0.10661833]\n",
            " [0.09731657 0.09683811 0.09858752 0.09847443 0.10118625 0.10726682\n",
            "  0.09992539 0.09512417 0.09868381 0.10659694]\n",
            " [0.09727557 0.09684862 0.09857153 0.09848793 0.10119375 0.10726224\n",
            "  0.09991463 0.0951296  0.09867982 0.10663631]]\n",
            "20.0\n"
          ],
          "name": "stdout"
        }
      ]
    },
    {
      "cell_type": "code",
      "metadata": {
        "id": "XvGgRdLtNAfs",
        "colab": {
          "base_uri": "https://localhost:8080/"
        },
        "outputId": "b2436da0-8948-4416-e08e-9c0c69aa6a49"
      },
      "source": [
        "# High parabolic tangent\n",
        "np.tanh(z1)"
      ],
      "execution_count": null,
      "outputs": [
        {
          "output_type": "execute_result",
          "data": {
            "text/plain": [
              "array([[-6.78930301e-02,  4.34525606e-02,  1.17914975e-01, ...,\n",
              "        -6.66163230e-04, -5.61303343e-03,  1.43168487e-01],\n",
              "       [-2.69613924e-04, -6.11798462e-02,  8.33104606e-02, ...,\n",
              "         1.34960539e-01, -2.07106848e-02,  3.04955674e-01],\n",
              "       [ 5.57396263e-03, -6.38284266e-02,  3.97715007e-02, ...,\n",
              "         1.45821213e-01, -2.69514095e-02,  2.13934951e-01],\n",
              "       ...,\n",
              "       [ 3.55383835e-02, -2.51673756e-02,  7.08176339e-02, ...,\n",
              "        -8.74027715e-02, -6.01362758e-02,  1.76017245e-01],\n",
              "       [ 9.34495990e-02, -1.01467782e-01,  2.21500154e-01, ...,\n",
              "        -1.34145016e-02, -1.20428230e-01,  8.23144387e-03],\n",
              "       [-2.92211979e-02, -6.34311890e-02,  1.96422711e-01, ...,\n",
              "        -3.75475447e-02, -4.58284480e-02,  1.41333046e-01]])"
            ]
          },
          "metadata": {
            "tags": []
          },
          "execution_count": 25
        }
      ]
    },
    {
      "cell_type": "code",
      "metadata": {
        "id": "95bHhVOTNAfs",
        "colab": {
          "base_uri": "https://localhost:8080/"
        },
        "outputId": "ccc496b0-ed69-4dd4-d3a1-14b0f977e886"
      },
      "source": [
        "# High parabolic tangent (verification)\n",
        "(np.exp(z1)-np.exp(-z1))/(np.exp(z1)+np.exp(-z1))"
      ],
      "execution_count": null,
      "outputs": [
        {
          "output_type": "execute_result",
          "data": {
            "text/plain": [
              "array([[-6.78930301e-02,  4.34525606e-02,  1.17914975e-01, ...,\n",
              "        -6.66163230e-04, -5.61303343e-03,  1.43168487e-01],\n",
              "       [-2.69613924e-04, -6.11798462e-02,  8.33104606e-02, ...,\n",
              "         1.34960539e-01, -2.07106848e-02,  3.04955674e-01],\n",
              "       [ 5.57396263e-03, -6.38284266e-02,  3.97715007e-02, ...,\n",
              "         1.45821213e-01, -2.69514095e-02,  2.13934951e-01],\n",
              "       ...,\n",
              "       [ 3.55383835e-02, -2.51673756e-02,  7.08176339e-02, ...,\n",
              "        -8.74027715e-02, -6.01362758e-02,  1.76017245e-01],\n",
              "       [ 9.34495990e-02, -1.01467782e-01,  2.21500154e-01, ...,\n",
              "        -1.34145016e-02, -1.20428230e-01,  8.23144387e-03],\n",
              "       [-2.92211979e-02, -6.34311890e-02,  1.96422711e-01, ...,\n",
              "        -3.75475447e-02, -4.58284480e-02,  1.41333046e-01]])"
            ]
          },
          "metadata": {
            "tags": []
          },
          "execution_count": 26
        }
      ]
    },
    {
      "cell_type": "markdown",
      "metadata": {
        "id": "lkM-BXh8NAfs"
      },
      "source": [
        "### 【Problem 3】Implement the cross-entropy error\n",
        "Create the objective function (loss function).  \n",
        "The objective function for multiclass classification, the cross-entropy error L, is the following formula"
      ]
    },
    {
      "cell_type": "code",
      "metadata": {
        "id": "ZtrUiJphNAfs",
        "colab": {
          "base_uri": "https://localhost:8080/"
        },
        "outputId": "71078dff-3ee5-4353-f690-b7c4c5d407e2"
      },
      "source": [
        "y = y_train_one_hot[0:20]\n",
        "loss = -y*np.log(sfmax)/len(y)\n",
        "print('shape:\\n',loss.shape)\n",
        "print(loss)"
      ],
      "execution_count": null,
      "outputs": [
        {
          "output_type": "stream",
          "text": [
            "shape:\n",
            " (20, 10)\n",
            "[[0.         0.         0.         0.         0.         0.\n",
            "  0.         0.11763078 0.         0.        ]\n",
            " [0.         0.         0.         0.         0.         0.\n",
            "  0.         0.         0.         0.11192348]\n",
            " [0.         0.         0.         0.         0.11454527 0.\n",
            "  0.         0.         0.         0.        ]\n",
            " [0.         0.         0.         0.         0.         0.\n",
            "  0.         0.11762595 0.         0.        ]\n",
            " [0.         0.         0.         0.         0.         0.\n",
            "  0.         0.         0.11579857 0.        ]\n",
            " [0.         0.         0.         0.         0.         0.\n",
            "  0.         0.11762991 0.         0.        ]\n",
            " [0.11648779 0.         0.         0.         0.         0.\n",
            "  0.         0.         0.         0.        ]\n",
            " [0.         0.         0.11585768 0.         0.         0.\n",
            "  0.         0.         0.         0.        ]\n",
            " [0.         0.         0.         0.         0.         0.\n",
            "  0.         0.11763344 0.         0.        ]\n",
            " [0.         0.         0.         0.         0.1145393  0.\n",
            "  0.         0.         0.         0.        ]\n",
            " [0.         0.         0.         0.         0.         0.11163761\n",
            "  0.         0.         0.         0.        ]\n",
            " [0.         0.         0.11585373 0.         0.         0.\n",
            "  0.         0.         0.         0.        ]\n",
            " [0.         0.         0.         0.         0.11453735 0.\n",
            "  0.         0.         0.         0.        ]\n",
            " [0.         0.         0.         0.         0.         0.\n",
            "  0.         0.         0.         0.11192083]\n",
            " [0.         0.         0.11585002 0.         0.         0.\n",
            "  0.         0.         0.         0.        ]\n",
            " [0.         0.         0.         0.11590362 0.         0.\n",
            "  0.         0.         0.         0.        ]\n",
            " [0.         0.         0.11584954 0.         0.         0.\n",
            "  0.         0.         0.         0.        ]\n",
            " [0.         0.         0.11584432 0.         0.         0.\n",
            "  0.         0.         0.         0.        ]\n",
            " [0.         0.         0.         0.11589792 0.         0.\n",
            "  0.         0.         0.         0.        ]\n",
            " [0.         0.         0.         0.         0.         0.\n",
            "  0.         0.11762576 0.         0.        ]]\n"
          ],
          "name": "stdout"
        }
      ]
    },
    {
      "cell_type": "markdown",
      "metadata": {
        "id": "bL-5m2oLNAft"
      },
      "source": [
        "### 【Problem 4】Implementing Backpropagation\n",
        "Create a backpropagation of a three-layer neural network.  \n",
        "This is the part that performs the stochastic gradient descent method."
      ]
    },
    {
      "cell_type": "code",
      "metadata": {
        "id": "TFc68sLiNAft"
      },
      "source": [
        "# 3rd layer\n",
        "delta_a3 = sfmax-y\n",
        "delta_b3 = np.sum(delta_a3,axis=0)\n",
        "delta_W3 = np.dot(z2.T,delta_a3)\n",
        "delta_z2 = np.dot(delta_a3,W3.T)"
      ],
      "execution_count": null,
      "outputs": []
    },
    {
      "cell_type": "code",
      "metadata": {
        "id": "t5S96tsMNAft",
        "colab": {
          "base_uri": "https://localhost:8080/"
        },
        "outputId": "8d4221be-438c-463c-f758-c1c7795d1ed4"
      },
      "source": [
        "print(delta_a3.shape)\n",
        "print(delta_b3.shape)\n",
        "print(delta_W3.shape)\n",
        "print(delta_z2.shape)"
      ],
      "execution_count": null,
      "outputs": [
        {
          "output_type": "stream",
          "text": [
            "(20, 10)\n",
            "(10,)\n",
            "(200, 10)\n",
            "(20, 200)\n"
          ],
          "name": "stdout"
        }
      ]
    },
    {
      "cell_type": "code",
      "metadata": {
        "id": "1arUc3OoNAft"
      },
      "source": [
        "# 2nd layer\n",
        "delta_a2 = delta_z2*(1-np.tanh(z2)**2)\n",
        "delta_b2 = np.sum(delta_a2,axis=0)\n",
        "delta_W2 = np.dot(z1.T,delta_a2)\n",
        "delta_z1 = np.dot(delta_a2,W2.T)"
      ],
      "execution_count": null,
      "outputs": []
    },
    {
      "cell_type": "code",
      "metadata": {
        "id": "By6du2DONAft",
        "colab": {
          "base_uri": "https://localhost:8080/"
        },
        "outputId": "77eb3177-1127-4b33-d490-85b5e7f372f9"
      },
      "source": [
        "print(delta_a2.shape)\n",
        "print(delta_b2.shape)\n",
        "print(delta_W2.shape)\n",
        "print(delta_z1.shape)"
      ],
      "execution_count": null,
      "outputs": [
        {
          "output_type": "stream",
          "text": [
            "(20, 200)\n",
            "(200,)\n",
            "(400, 200)\n",
            "(20, 400)\n"
          ],
          "name": "stdout"
        }
      ]
    },
    {
      "cell_type": "code",
      "metadata": {
        "id": "pZ8Od-AoNAfu"
      },
      "source": [
        "# 1st layer\n",
        "delta_a1 = delta_z1*(1-np.tanh(z1)**2)\n",
        "delta_b1 = np.sum(delta_a1,axis=0)\n",
        "delta_W1 = np.dot(X.T,delta_a1)"
      ],
      "execution_count": null,
      "outputs": []
    },
    {
      "cell_type": "code",
      "metadata": {
        "id": "pXV-3wn9NAfu",
        "colab": {
          "base_uri": "https://localhost:8080/"
        },
        "outputId": "bc80fc16-92a4-4618-a071-9152b34c9ed9"
      },
      "source": [
        "print(delta_a1.shape)\n",
        "print(delta_b1.shape)\n",
        "print(delta_W1.shape)"
      ],
      "execution_count": null,
      "outputs": [
        {
          "output_type": "stream",
          "text": [
            "(20, 400)\n",
            "(400,)\n",
            "(784, 400)\n"
          ],
          "name": "stdout"
        }
      ]
    },
    {
      "cell_type": "markdown",
      "metadata": {
        "id": "ElzqYnGINAfu"
      },
      "source": [
        "### 【Problem 5】Estimation\n",
        "Create a method to perform estimation.\n",
        "Determine which of the 10 probabilities output by the forward propagation is the highest."
      ]
    },
    {
      "cell_type": "code",
      "metadata": {
        "scrolled": false,
        "id": "497CK4Z1NAfu",
        "colab": {
          "base_uri": "https://localhost:8080/"
        },
        "outputId": "2bef300c-118e-431b-fb99-1bb0e585bee9"
      },
      "source": [
        "clf = ScratchSimpleNeuralNetrowkClassifier(n_epoch=30, n_features=784,\n",
        "                                           n_nodes1=400, n_nodes2=200, n_output=10,\n",
        "                                           sigma=0.01, n_batch=100,\n",
        "                                           activate_function_key='tanh',\n",
        "                                           lr = 0.01, verbose = True)\n",
        "\n",
        "clf.fit(X_train,y_train_one_hot,X_val,y_val_one_hot)\n",
        "y_pred = clf.predict(X_val)"
      ],
      "execution_count": null,
      "outputs": [
        {
          "output_type": "stream",
          "text": [
            "epoch:  0 loss:   1.101 acc:0.264\n",
            "epoch:  1 loss:   1.079 acc:0.440\n",
            "epoch:  2 loss:   0.847 acc:0.467\n",
            "epoch:  3 loss:   0.502 acc:0.654\n",
            "epoch:  4 loss:   0.356 acc:0.785\n",
            "epoch:  5 loss:   0.285 acc:0.828\n",
            "epoch:  6 loss:   0.248 acc:0.849\n",
            "epoch:  7 loss:   0.224 acc:0.865\n",
            "epoch:  8 loss:   0.208 acc:0.875\n",
            "epoch:  9 loss:   0.196 acc:0.883\n",
            "epoch: 10 loss:   0.187 acc:0.888\n",
            "epoch: 11 loss:   0.180 acc:0.891\n",
            "epoch: 12 loss:   0.175 acc:0.895\n",
            "epoch: 13 loss:   0.170 acc:0.899\n",
            "epoch: 14 loss:   0.166 acc:0.900\n",
            "epoch: 15 loss:   0.163 acc:0.903\n",
            "epoch: 16 loss:   0.160 acc:0.905\n",
            "epoch: 17 loss:   0.157 acc:0.907\n",
            "epoch: 18 loss:   0.154 acc:0.909\n",
            "epoch: 19 loss:   0.152 acc:0.910\n",
            "epoch: 20 loss:   0.150 acc:0.912\n",
            "epoch: 21 loss:   0.147 acc:0.913\n",
            "epoch: 22 loss:   0.145 acc:0.914\n",
            "epoch: 23 loss:   0.143 acc:0.916\n",
            "epoch: 24 loss:   0.141 acc:0.916\n",
            "epoch: 25 loss:   0.139 acc:0.917\n",
            "epoch: 26 loss:   0.137 acc:0.919\n",
            "epoch: 27 loss:   0.135 acc:0.920\n",
            "epoch: 28 loss:   0.133 acc:0.921\n",
            "epoch: 29 loss:   0.132 acc:0.922\n"
          ],
          "name": "stdout"
        }
      ]
    },
    {
      "cell_type": "code",
      "metadata": {
        "scrolled": false,
        "id": "trFzEQZmNAfu",
        "colab": {
          "base_uri": "https://localhost:8080/"
        },
        "outputId": "f9031f53-0f55-4564-b561-860087cffa65"
      },
      "source": [
        "print(y_pred)"
      ],
      "execution_count": null,
      "outputs": [
        {
          "output_type": "stream",
          "text": [
            "[3 8 3 ... 1 9 6]\n"
          ],
          "name": "stdout"
        }
      ]
    },
    {
      "cell_type": "markdown",
      "metadata": {
        "id": "pLJwKbizNAfu"
      },
      "source": [
        "### 【Problem 6】Learning and Estimation\n",
        "Train and estimate the MNIST data and calculate the Accuracy."
      ]
    },
    {
      "cell_type": "code",
      "metadata": {
        "id": "3uhkiZ0qNAfv",
        "colab": {
          "base_uri": "https://localhost:8080/"
        },
        "outputId": "f2b726c9-ff09-4268-da2e-361d6df46035"
      },
      "source": [
        "accuracy = accuracy_score(y_val, y_pred)\n",
        "#precision = precision_score(y_val, y_pred)\n",
        "#recall = recall_score(y_val, y_pred)\n",
        "#f1 = f1_score(y_val, y_pred)\n",
        "\n",
        "print('accuracy:{:.3f}'.format(accuracy))\n",
        "#print('precision',precision)\n",
        "#print('recall',recall)\n",
        "#print('f1',f1)"
      ],
      "execution_count": null,
      "outputs": [
        {
          "output_type": "stream",
          "text": [
            "accuracy:0.923\n"
          ],
          "name": "stdout"
        }
      ]
    },
    {
      "cell_type": "markdown",
      "metadata": {
        "id": "CL_kf_o6NAfv"
      },
      "source": [
        "### 【Problem 7】Plotting the Learning Curve\n",
        "Please plot the learning curve.\n",
        "\n",
        "Since neural networks are prone to overtraining, it is important to check the learning curve. You should be able to record the loss per epoch (cross-entropy error) for the training and validation data."
      ]
    },
    {
      "cell_type": "code",
      "metadata": {
        "scrolled": false,
        "id": "3RklyKLDNAfv",
        "colab": {
          "base_uri": "https://localhost:8080/",
          "height": 483
        },
        "outputId": "5349fb34-8ed5-493f-dedf-9a94c8d28952"
      },
      "source": [
        "# Visualize the loss function for each epoch\n",
        "fig = plt.subplots(figsize=(12,8))\n",
        "plt.rcParams[\"font.size\"] = 20\n",
        "\n",
        "plt.plot(clf.log_loss,'rs--')\n",
        "plt.plot(clf.log_loss_val,'bo--');"
      ],
      "execution_count": null,
      "outputs": [
        {
          "output_type": "display_data",
          "data": {
            "image/png": "[encoded data removed]",
            "text/plain": [
              "<Figure size 864x576 with 1 Axes>"
            ]
          },
          "metadata": {
            "tags": [],
            "needs_background": "light"
          }
        }
      ]
    },
    {
      "cell_type": "code",
      "metadata": {
        "id": "doTTML6TNAfv",
        "colab": {
          "base_uri": "https://localhost:8080/",
          "height": 492
        },
        "outputId": "6e53f169-bce6-4908-b933-43aea34bb223"
      },
      "source": [
        "# Visualization of the percentage of correct answers for each epoch\n",
        "fig = plt.subplots(figsize=(12,8))\n",
        "plt.rcParams[\"font.size\"] = 20\n",
        "\n",
        "plt.plot(clf.log_acc,'rs--')\n",
        "plt.plot(clf.log_acc_val,'bo--');"
      ],
      "execution_count": null,
      "outputs": [
        {
          "output_type": "display_data",
          "data": {
            "image/png": "[encoded data removed]",
            "text/plain": [
              "<Figure size 864x576 with 1 Axes>"
            ]
          },
          "metadata": {
            "tags": [],
            "needs_background": "light"
          }
        }
      ]
    },
    {
      "cell_type": "markdown",
      "metadata": {
        "id": "59LNKjGFNAfv"
      },
      "source": [
        "### 【Problem 8】(Advanced Assignment) Checking for Misclassification\n",
        "Check which images were misclassified.  \n",
        "Prepare an estimate and run the following code."
      ]
    },
    {
      "cell_type": "code",
      "metadata": {
        "id": "9ebkyelINAfw",
        "colab": {
          "base_uri": "https://localhost:8080/",
          "height": 108
        },
        "outputId": "45f0ea0d-14fa-4380-efd3-ab6324ad2045"
      },
      "source": [
        "\"\"\"\n",
        "The word classification results are displayed side by side. The upper part of the image shows the \"Estimation result / Correct answer\".\n",
        "\n",
        "Parameters:\n",
        "----------\n",
        "y_pred : ndarray of estimations (n_samples,)\n",
        "y_val : Correct answer labels for validation data (n_samples,)\n",
        "X_val : Features of validation data（n_samples, n_features)\n",
        "\"\"\"\n",
        "import numpy as np\n",
        "import matplotlib.pyplot as plt\n",
        "\n",
        "num = 5 # How many to display\n",
        "print('Estimation result / correct answer')\n",
        "\n",
        "true_false = y_pred==y_val\n",
        "false_list = np.where(true_false==False)[0].astype(np.int)\n",
        "if false_list.shape[0] < num:\n",
        "    num = false_list.shape[0]\n",
        "fig = plt.figure(figsize=(6, 6))\n",
        "fig.subplots_adjust(left=0, right=0.8,  bottom=0, top=0.8, hspace=1, wspace=0.5)\n",
        "for i in range(num):\n",
        "    ax = fig.add_subplot(6, 6, i + 1, xticks=[], yticks=[])\n",
        "    ax.set_title(\"{} / {}\".format(y_pred[false_list[i]],y_val[false_list[i]]))\n",
        "    ax.imshow(X_val.reshape(-1,28,28)[false_list[i]], cmap='gray')"
      ],
      "execution_count": null,
      "outputs": [
        {
          "output_type": "stream",
          "text": [
            "Estimation result / correct answer\n"
          ],
          "name": "stdout"
        },
        {
          "output_type": "display_data",
          "data": {
            "image/png": "[encoded data removed]",
            "text/plain": [
              "<Figure size 432x432 with 5 Axes>"
            ]
          },
          "metadata": {
            "tags": []
          }
        }
      ]
    },
    {
      "cell_type": "code",
      "metadata": {
        "id": "5mChvzWcVUC0"
      },
      "source": [
        ""
      ],
      "execution_count": null,
      "outputs": []
    }
  ]
}